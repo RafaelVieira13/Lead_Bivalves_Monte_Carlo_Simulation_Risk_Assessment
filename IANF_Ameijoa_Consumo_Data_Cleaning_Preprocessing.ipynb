{
 "cells": [
  {
   "cell_type": "code",
   "execution_count": 1,
   "id": "66ea0948",
   "metadata": {},
   "outputs": [],
   "source": [
    "import pandas as pd\n",
    "import numpy as np\n",
    "import matplotlib.pyplot as plt\n",
    "import seaborn as sns\n",
    "from skimpy import skim"
   ]
  },
  {
   "cell_type": "code",
   "execution_count": 2,
   "id": "b87885db",
   "metadata": {},
   "outputs": [],
   "source": [
    "consumo = pd.read_excel(\"Bivalves_Consumo_IAN_AF.xlsx\",sheet_name=\"Consumption\")"
   ]
  },
  {
   "cell_type": "code",
   "execution_count": 3,
   "id": "7e6df84a",
   "metadata": {},
   "outputs": [
    {
     "data": {
      "text/html": [
       "<div>\n",
       "<style scoped>\n",
       "    .dataframe tbody tr th:only-of-type {\n",
       "        vertical-align: middle;\n",
       "    }\n",
       "\n",
       "    .dataframe tbody tr th {\n",
       "        vertical-align: top;\n",
       "    }\n",
       "\n",
       "    .dataframe thead th {\n",
       "        text-align: right;\n",
       "    }\n",
       "</style>\n",
       "<table border=\"1\" class=\"dataframe\">\n",
       "  <thead>\n",
       "    <tr style=\"text-align: right;\">\n",
       "      <th></th>\n",
       "      <th>IAN_ID</th>\n",
       "      <th>Entrevista</th>\n",
       "      <th>Refeição</th>\n",
       "      <th>Quick.Food.Item</th>\n",
       "      <th>Receita</th>\n",
       "      <th>ING_ID</th>\n",
       "      <th>Cru.Edível</th>\n",
       "      <th>Cru.Bruto</th>\n",
       "    </tr>\n",
       "  </thead>\n",
       "  <tbody>\n",
       "    <tr>\n",
       "      <th>0</th>\n",
       "      <td>1-01-01-0-13-059</td>\n",
       "      <td>1</td>\n",
       "      <td>Jantar</td>\n",
       "      <td>arroz de mexilhão</td>\n",
       "      <td>RCP_637</td>\n",
       "      <td>80300014</td>\n",
       "      <td>20.054293</td>\n",
       "      <td>71.622475</td>\n",
       "    </tr>\n",
       "    <tr>\n",
       "      <th>1</th>\n",
       "      <td>1-02-01-1-15-020</td>\n",
       "      <td>2</td>\n",
       "      <td>Almoço</td>\n",
       "      <td>arroz de marisco</td>\n",
       "      <td>RCP_915</td>\n",
       "      <td>80300005</td>\n",
       "      <td>10.304279</td>\n",
       "      <td>36.800998</td>\n",
       "    </tr>\n",
       "    <tr>\n",
       "      <th>2</th>\n",
       "      <td>1-02-01-1-15-020</td>\n",
       "      <td>2</td>\n",
       "      <td>Almoço</td>\n",
       "      <td>arroz de marisco</td>\n",
       "      <td>RCP_915</td>\n",
       "      <td>80300023</td>\n",
       "      <td>3.864105</td>\n",
       "      <td>18.400499</td>\n",
       "    </tr>\n",
       "    <tr>\n",
       "      <th>3</th>\n",
       "      <td>1-04-01-0-04-119</td>\n",
       "      <td>2</td>\n",
       "      <td>Jantar</td>\n",
       "      <td>rojões com mexilhão</td>\n",
       "      <td>NaN</td>\n",
       "      <td>80300014</td>\n",
       "      <td>10.640000</td>\n",
       "      <td>38.000000</td>\n",
       "    </tr>\n",
       "    <tr>\n",
       "      <th>4</th>\n",
       "      <td>1-04-01-0-13-032</td>\n",
       "      <td>2</td>\n",
       "      <td>Almoço</td>\n",
       "      <td>arroz de marisco</td>\n",
       "      <td>RCP_915</td>\n",
       "      <td>80300005</td>\n",
       "      <td>2.033220</td>\n",
       "      <td>7.261500</td>\n",
       "    </tr>\n",
       "  </tbody>\n",
       "</table>\n",
       "</div>"
      ],
      "text/plain": [
       "             IAN_ID  Entrevista Refeição      Quick.Food.Item  Receita  \\\n",
       "0  1-01-01-0-13-059           1   Jantar    arroz de mexilhão  RCP_637   \n",
       "1  1-02-01-1-15-020           2   Almoço     arroz de marisco  RCP_915   \n",
       "2  1-02-01-1-15-020           2   Almoço     arroz de marisco  RCP_915   \n",
       "3  1-04-01-0-04-119           2   Jantar  rojões com mexilhão      NaN   \n",
       "4  1-04-01-0-13-032           2   Almoço     arroz de marisco  RCP_915   \n",
       "\n",
       "     ING_ID  Cru.Edível  Cru.Bruto  \n",
       "0  80300014   20.054293  71.622475  \n",
       "1  80300005   10.304279  36.800998  \n",
       "2  80300023    3.864105  18.400499  \n",
       "3  80300014   10.640000  38.000000  \n",
       "4  80300005    2.033220   7.261500  "
      ]
     },
     "execution_count": 3,
     "metadata": {},
     "output_type": "execute_result"
    }
   ],
   "source": [
    "consumo.head()"
   ]
  },
  {
   "cell_type": "code",
   "execution_count": 4,
   "id": "7bfa8d22",
   "metadata": {},
   "outputs": [
    {
     "data": {
      "text/html": [
       "<pre style=\"white-space:pre;overflow-x:auto;line-height:normal;font-family:Menlo,'DejaVu Sans Mono',consolas,'Courier New',monospace\">╭──────────────────────────────────────────────── skimpy summary ─────────────────────────────────────────────────╮\n",
       "│ <span style=\"font-style: italic\">         Data Summary         </span> <span style=\"font-style: italic\">      Data Types       </span>                                                          │\n",
       "│ ┏━━━━━━━━━━━━━━━━━━━┳━━━━━━━━┓ ┏━━━━━━━━━━━━━┳━━━━━━━┓                                                          │\n",
       "│ ┃<span style=\"color: #008080; text-decoration-color: #008080; font-weight: bold\"> dataframe         </span>┃<span style=\"color: #008080; text-decoration-color: #008080; font-weight: bold\"> Values </span>┃ ┃<span style=\"color: #008080; text-decoration-color: #008080; font-weight: bold\"> Column Type </span>┃<span style=\"color: #008080; text-decoration-color: #008080; font-weight: bold\"> Count </span>┃                                                          │\n",
       "│ ┡━━━━━━━━━━━━━━━━━━━╇━━━━━━━━┩ ┡━━━━━━━━━━━━━╇━━━━━━━┩                                                          │\n",
       "│ │ Number of rows    │ 299    │ │ string      │ 4     │                                                          │\n",
       "│ │ Number of columns │ 8      │ │ int32       │ 2     │                                                          │\n",
       "│ └───────────────────┴────────┘ │ float64     │ 2     │                                                          │\n",
       "│                                └─────────────┴───────┘                                                          │\n",
       "│ <span style=\"font-style: italic\">                                                    number                                                    </span>  │\n",
       "│ ┏━━━━━━━━━━━━━━━┳━━━━━┳━━━━━━━┳━━━━━━━━━━━━┳━━━━━━━━┳━━━━━━━━━━━┳━━━━━━━━━━━┳━━━━━━━━━━━┳━━━━━━━━━━━┳━━━━━━━━┓  │\n",
       "│ ┃<span style=\"font-weight: bold\"> column_name   </span>┃<span style=\"font-weight: bold\"> NA  </span>┃<span style=\"font-weight: bold\"> NA %  </span>┃<span style=\"font-weight: bold\"> mean       </span>┃<span style=\"font-weight: bold\"> sd     </span>┃<span style=\"font-weight: bold\"> p0        </span>┃<span style=\"font-weight: bold\"> p25       </span>┃<span style=\"font-weight: bold\"> p75       </span>┃<span style=\"font-weight: bold\"> p100      </span>┃<span style=\"font-weight: bold\"> hist   </span>┃  │\n",
       "│ ┡━━━━━━━━━━━━━━━╇━━━━━╇━━━━━━━╇━━━━━━━━━━━━╇━━━━━━━━╇━━━━━━━━━━━╇━━━━━━━━━━━╇━━━━━━━━━━━╇━━━━━━━━━━━╇━━━━━━━━┩  │\n",
       "│ │ <span style=\"color: #af87ff; text-decoration-color: #af87ff\">Entrevista   </span> │ <span style=\"color: #008080; text-decoration-color: #008080\">  0</span> │ <span style=\"color: #008080; text-decoration-color: #008080\">    0</span> │ <span style=\"color: #008080; text-decoration-color: #008080\">       1.5</span> │ <span style=\"color: #008080; text-decoration-color: #008080\">   0.5</span> │ <span style=\"color: #008080; text-decoration-color: #008080\">        1</span> │ <span style=\"color: #008080; text-decoration-color: #008080\">        1</span> │ <span style=\"color: #008080; text-decoration-color: #008080\">        2</span> │ <span style=\"color: #008080; text-decoration-color: #008080\">        2</span> │ <span style=\"color: #008000; text-decoration-color: #008000\">█    █</span> │  │\n",
       "│ │ <span style=\"color: #af87ff; text-decoration-color: #af87ff\">ING_ID       </span> │ <span style=\"color: #008080; text-decoration-color: #008080\">  0</span> │ <span style=\"color: #008080; text-decoration-color: #008080\">    0</span> │ <span style=\"color: #008080; text-decoration-color: #008080\">  80000000</span> │ <span style=\"color: #008080; text-decoration-color: #008080\"> 12000</span> │ <span style=\"color: #008080; text-decoration-color: #008080\"> 80000000</span> │ <span style=\"color: #008080; text-decoration-color: #008080\"> 80000000</span> │ <span style=\"color: #008080; text-decoration-color: #008080\"> 80000000</span> │ <span style=\"color: #008080; text-decoration-color: #008080\"> 80000000</span> │ <span style=\"color: #008000; text-decoration-color: #008000\">     █</span> │  │\n",
       "│ │ <span style=\"color: #af87ff; text-decoration-color: #af87ff\">Cru.Edível   </span> │ <span style=\"color: #008080; text-decoration-color: #008080\">  0</span> │ <span style=\"color: #008080; text-decoration-color: #008080\">    0</span> │ <span style=\"color: #008080; text-decoration-color: #008080\">        20</span> │ <span style=\"color: #008080; text-decoration-color: #008080\">    23</span> │ <span style=\"color: #008080; text-decoration-color: #008080\">     0.76</span> │ <span style=\"color: #008080; text-decoration-color: #008080\">      5.2</span> │ <span style=\"color: #008080; text-decoration-color: #008080\">       29</span> │ <span style=\"color: #008080; text-decoration-color: #008080\">      130</span> │ <span style=\"color: #008000; text-decoration-color: #008000\"> █▃▁  </span> │  │\n",
       "│ │ <span style=\"color: #af87ff; text-decoration-color: #af87ff\">Cru.Bruto    </span> │ <span style=\"color: #008080; text-decoration-color: #008080\">  0</span> │ <span style=\"color: #008080; text-decoration-color: #008080\">    0</span> │ <span style=\"color: #008080; text-decoration-color: #008080\">        74</span> │ <span style=\"color: #008080; text-decoration-color: #008080\">    82</span> │ <span style=\"color: #008080; text-decoration-color: #008080\">      3.1</span> │ <span style=\"color: #008080; text-decoration-color: #008080\">       18</span> │ <span style=\"color: #008080; text-decoration-color: #008080\">      100</span> │ <span style=\"color: #008080; text-decoration-color: #008080\">      640</span> │ <span style=\"color: #008000; text-decoration-color: #008000\">  █▁  </span> │  │\n",
       "│ └───────────────┴─────┴───────┴────────────┴────────┴───────────┴───────────┴───────────┴───────────┴────────┘  │\n",
       "│ <span style=\"font-style: italic\">                                                    string                                                    </span>  │\n",
       "│ ┏━━━━━━━━━━━━━━━━━━━━━━━━━━━━━━━━━┳━━━━━━━━┳━━━━━━━━━━━━┳━━━━━━━━━━━━━━━━━━━━━━━━━━━━┳━━━━━━━━━━━━━━━━━━━━━━━┓  │\n",
       "│ ┃<span style=\"font-weight: bold\"> column_name                     </span>┃<span style=\"font-weight: bold\"> NA     </span>┃<span style=\"font-weight: bold\"> NA %       </span>┃<span style=\"font-weight: bold\"> words per row              </span>┃<span style=\"font-weight: bold\"> total words           </span>┃  │\n",
       "│ ┡━━━━━━━━━━━━━━━━━━━━━━━━━━━━━━━━━╇━━━━━━━━╇━━━━━━━━━━━━╇━━━━━━━━━━━━━━━━━━━━━━━━━━━━╇━━━━━━━━━━━━━━━━━━━━━━━┩  │\n",
       "│ │ <span style=\"color: #af87ff; text-decoration-color: #af87ff\">IAN_ID                         </span> │ <span style=\"color: #008080; text-decoration-color: #008080\">     0</span> │ <span style=\"color: #008080; text-decoration-color: #008080\">         0</span> │ <span style=\"color: #008080; text-decoration-color: #008080\">                         1</span> │ <span style=\"color: #008080; text-decoration-color: #008080\">                  300</span> │  │\n",
       "│ │ <span style=\"color: #af87ff; text-decoration-color: #af87ff\">Refeição                       </span> │ <span style=\"color: #008080; text-decoration-color: #008080\">     0</span> │ <span style=\"color: #008080; text-decoration-color: #008080\">         0</span> │ <span style=\"color: #008080; text-decoration-color: #008080\">                         1</span> │ <span style=\"color: #008080; text-decoration-color: #008080\">                  300</span> │  │\n",
       "│ │ <span style=\"color: #af87ff; text-decoration-color: #af87ff\">Quick.Food.Item                </span> │ <span style=\"color: #008080; text-decoration-color: #008080\">     0</span> │ <span style=\"color: #008080; text-decoration-color: #008080\">         0</span> │ <span style=\"color: #008080; text-decoration-color: #008080\">                         1</span> │ <span style=\"color: #008080; text-decoration-color: #008080\">                  300</span> │  │\n",
       "│ │ <span style=\"color: #af87ff; text-decoration-color: #af87ff\">Receita                        </span> │ <span style=\"color: #008080; text-decoration-color: #008080\">    32</span> │ <span style=\"color: #008080; text-decoration-color: #008080\">        11</span> │ <span style=\"color: #008080; text-decoration-color: #008080\">                         1</span> │ <span style=\"color: #008080; text-decoration-color: #008080\">                  300</span> │  │\n",
       "│ └─────────────────────────────────┴────────┴────────────┴────────────────────────────┴───────────────────────┘  │\n",
       "╰────────────────────────────────────────────────────── End ──────────────────────────────────────────────────────╯\n",
       "</pre>\n"
      ],
      "text/plain": [
       "╭──────────────────────────────────────────────── skimpy summary ─────────────────────────────────────────────────╮\n",
       "│ \u001b[3m         Data Summary         \u001b[0m \u001b[3m      Data Types       \u001b[0m                                                          │\n",
       "│ ┏━━━━━━━━━━━━━━━━━━━┳━━━━━━━━┓ ┏━━━━━━━━━━━━━┳━━━━━━━┓                                                          │\n",
       "│ ┃\u001b[1;36m \u001b[0m\u001b[1;36mdataframe        \u001b[0m\u001b[1;36m \u001b[0m┃\u001b[1;36m \u001b[0m\u001b[1;36mValues\u001b[0m\u001b[1;36m \u001b[0m┃ ┃\u001b[1;36m \u001b[0m\u001b[1;36mColumn Type\u001b[0m\u001b[1;36m \u001b[0m┃\u001b[1;36m \u001b[0m\u001b[1;36mCount\u001b[0m\u001b[1;36m \u001b[0m┃                                                          │\n",
       "│ ┡━━━━━━━━━━━━━━━━━━━╇━━━━━━━━┩ ┡━━━━━━━━━━━━━╇━━━━━━━┩                                                          │\n",
       "│ │ Number of rows    │ 299    │ │ string      │ 4     │                                                          │\n",
       "│ │ Number of columns │ 8      │ │ int32       │ 2     │                                                          │\n",
       "│ └───────────────────┴────────┘ │ float64     │ 2     │                                                          │\n",
       "│                                └─────────────┴───────┘                                                          │\n",
       "│ \u001b[3m                                                    number                                                    \u001b[0m  │\n",
       "│ ┏━━━━━━━━━━━━━━━┳━━━━━┳━━━━━━━┳━━━━━━━━━━━━┳━━━━━━━━┳━━━━━━━━━━━┳━━━━━━━━━━━┳━━━━━━━━━━━┳━━━━━━━━━━━┳━━━━━━━━┓  │\n",
       "│ ┃\u001b[1m \u001b[0m\u001b[1mcolumn_name  \u001b[0m\u001b[1m \u001b[0m┃\u001b[1m \u001b[0m\u001b[1mNA \u001b[0m\u001b[1m \u001b[0m┃\u001b[1m \u001b[0m\u001b[1mNA % \u001b[0m\u001b[1m \u001b[0m┃\u001b[1m \u001b[0m\u001b[1mmean      \u001b[0m\u001b[1m \u001b[0m┃\u001b[1m \u001b[0m\u001b[1msd    \u001b[0m\u001b[1m \u001b[0m┃\u001b[1m \u001b[0m\u001b[1mp0       \u001b[0m\u001b[1m \u001b[0m┃\u001b[1m \u001b[0m\u001b[1mp25      \u001b[0m\u001b[1m \u001b[0m┃\u001b[1m \u001b[0m\u001b[1mp75      \u001b[0m\u001b[1m \u001b[0m┃\u001b[1m \u001b[0m\u001b[1mp100     \u001b[0m\u001b[1m \u001b[0m┃\u001b[1m \u001b[0m\u001b[1mhist  \u001b[0m\u001b[1m \u001b[0m┃  │\n",
       "│ ┡━━━━━━━━━━━━━━━╇━━━━━╇━━━━━━━╇━━━━━━━━━━━━╇━━━━━━━━╇━━━━━━━━━━━╇━━━━━━━━━━━╇━━━━━━━━━━━╇━━━━━━━━━━━╇━━━━━━━━┩  │\n",
       "│ │ \u001b[38;5;141mEntrevista   \u001b[0m │ \u001b[36m  0\u001b[0m │ \u001b[36m    0\u001b[0m │ \u001b[36m       1.5\u001b[0m │ \u001b[36m   0.5\u001b[0m │ \u001b[36m        1\u001b[0m │ \u001b[36m        1\u001b[0m │ \u001b[36m        2\u001b[0m │ \u001b[36m        2\u001b[0m │ \u001b[32m█    █\u001b[0m │  │\n",
       "│ │ \u001b[38;5;141mING_ID       \u001b[0m │ \u001b[36m  0\u001b[0m │ \u001b[36m    0\u001b[0m │ \u001b[36m  80000000\u001b[0m │ \u001b[36m 12000\u001b[0m │ \u001b[36m 80000000\u001b[0m │ \u001b[36m 80000000\u001b[0m │ \u001b[36m 80000000\u001b[0m │ \u001b[36m 80000000\u001b[0m │ \u001b[32m     █\u001b[0m │  │\n",
       "│ │ \u001b[38;5;141mCru.Edível   \u001b[0m │ \u001b[36m  0\u001b[0m │ \u001b[36m    0\u001b[0m │ \u001b[36m        20\u001b[0m │ \u001b[36m    23\u001b[0m │ \u001b[36m     0.76\u001b[0m │ \u001b[36m      5.2\u001b[0m │ \u001b[36m       29\u001b[0m │ \u001b[36m      130\u001b[0m │ \u001b[32m █▃▁  \u001b[0m │  │\n",
       "│ │ \u001b[38;5;141mCru.Bruto    \u001b[0m │ \u001b[36m  0\u001b[0m │ \u001b[36m    0\u001b[0m │ \u001b[36m        74\u001b[0m │ \u001b[36m    82\u001b[0m │ \u001b[36m      3.1\u001b[0m │ \u001b[36m       18\u001b[0m │ \u001b[36m      100\u001b[0m │ \u001b[36m      640\u001b[0m │ \u001b[32m  █▁  \u001b[0m │  │\n",
       "│ └───────────────┴─────┴───────┴────────────┴────────┴───────────┴───────────┴───────────┴───────────┴────────┘  │\n",
       "│ \u001b[3m                                                    string                                                    \u001b[0m  │\n",
       "│ ┏━━━━━━━━━━━━━━━━━━━━━━━━━━━━━━━━━┳━━━━━━━━┳━━━━━━━━━━━━┳━━━━━━━━━━━━━━━━━━━━━━━━━━━━┳━━━━━━━━━━━━━━━━━━━━━━━┓  │\n",
       "│ ┃\u001b[1m \u001b[0m\u001b[1mcolumn_name                    \u001b[0m\u001b[1m \u001b[0m┃\u001b[1m \u001b[0m\u001b[1mNA    \u001b[0m\u001b[1m \u001b[0m┃\u001b[1m \u001b[0m\u001b[1mNA %      \u001b[0m\u001b[1m \u001b[0m┃\u001b[1m \u001b[0m\u001b[1mwords per row             \u001b[0m\u001b[1m \u001b[0m┃\u001b[1m \u001b[0m\u001b[1mtotal words          \u001b[0m\u001b[1m \u001b[0m┃  │\n",
       "│ ┡━━━━━━━━━━━━━━━━━━━━━━━━━━━━━━━━━╇━━━━━━━━╇━━━━━━━━━━━━╇━━━━━━━━━━━━━━━━━━━━━━━━━━━━╇━━━━━━━━━━━━━━━━━━━━━━━┩  │\n",
       "│ │ \u001b[38;5;141mIAN_ID                         \u001b[0m │ \u001b[36m     0\u001b[0m │ \u001b[36m         0\u001b[0m │ \u001b[36m                         1\u001b[0m │ \u001b[36m                  300\u001b[0m │  │\n",
       "│ │ \u001b[38;5;141mRefeição                       \u001b[0m │ \u001b[36m     0\u001b[0m │ \u001b[36m         0\u001b[0m │ \u001b[36m                         1\u001b[0m │ \u001b[36m                  300\u001b[0m │  │\n",
       "│ │ \u001b[38;5;141mQuick.Food.Item                \u001b[0m │ \u001b[36m     0\u001b[0m │ \u001b[36m         0\u001b[0m │ \u001b[36m                         1\u001b[0m │ \u001b[36m                  300\u001b[0m │  │\n",
       "│ │ \u001b[38;5;141mReceita                        \u001b[0m │ \u001b[36m    32\u001b[0m │ \u001b[36m        11\u001b[0m │ \u001b[36m                         1\u001b[0m │ \u001b[36m                  300\u001b[0m │  │\n",
       "│ └─────────────────────────────────┴────────┴────────────┴────────────────────────────┴───────────────────────┘  │\n",
       "╰────────────────────────────────────────────────────── End ──────────────────────────────────────────────────────╯\n"
      ]
     },
     "metadata": {},
     "output_type": "display_data"
    }
   ],
   "source": [
    "skim(consumo)"
   ]
  },
  {
   "cell_type": "code",
   "execution_count": 5,
   "id": "43f09ca4",
   "metadata": {},
   "outputs": [
    {
     "data": {
      "text/html": [
       "<div>\n",
       "<style scoped>\n",
       "    .dataframe tbody tr th:only-of-type {\n",
       "        vertical-align: middle;\n",
       "    }\n",
       "\n",
       "    .dataframe tbody tr th {\n",
       "        vertical-align: top;\n",
       "    }\n",
       "\n",
       "    .dataframe thead th {\n",
       "        text-align: right;\n",
       "    }\n",
       "</style>\n",
       "<table border=\"1\" class=\"dataframe\">\n",
       "  <thead>\n",
       "    <tr style=\"text-align: right;\">\n",
       "      <th></th>\n",
       "      <th>Entrevista</th>\n",
       "      <th>ING_ID</th>\n",
       "      <th>Cru.Edível</th>\n",
       "      <th>Cru.Bruto</th>\n",
       "    </tr>\n",
       "  </thead>\n",
       "  <tbody>\n",
       "    <tr>\n",
       "      <th>count</th>\n",
       "      <td>299.000000</td>\n",
       "      <td>2.990000e+02</td>\n",
       "      <td>299.000000</td>\n",
       "      <td>299.000000</td>\n",
       "    </tr>\n",
       "    <tr>\n",
       "      <th>mean</th>\n",
       "      <td>1.501672</td>\n",
       "      <td>8.029934e+07</td>\n",
       "      <td>20.481754</td>\n",
       "      <td>74.161033</td>\n",
       "    </tr>\n",
       "    <tr>\n",
       "      <th>std</th>\n",
       "      <td>0.500835</td>\n",
       "      <td>1.156615e+04</td>\n",
       "      <td>22.513592</td>\n",
       "      <td>82.328706</td>\n",
       "    </tr>\n",
       "    <tr>\n",
       "      <th>min</th>\n",
       "      <td>1.000000</td>\n",
       "      <td>8.010001e+07</td>\n",
       "      <td>0.762457</td>\n",
       "      <td>3.121875</td>\n",
       "    </tr>\n",
       "    <tr>\n",
       "      <th>25%</th>\n",
       "      <td>1.000000</td>\n",
       "      <td>8.030000e+07</td>\n",
       "      <td>5.152140</td>\n",
       "      <td>18.400499</td>\n",
       "    </tr>\n",
       "    <tr>\n",
       "      <th>50%</th>\n",
       "      <td>2.000000</td>\n",
       "      <td>8.030000e+07</td>\n",
       "      <td>12.182560</td>\n",
       "      <td>45.959727</td>\n",
       "    </tr>\n",
       "    <tr>\n",
       "      <th>75%</th>\n",
       "      <td>2.000000</td>\n",
       "      <td>8.030001e+07</td>\n",
       "      <td>28.921198</td>\n",
       "      <td>103.289994</td>\n",
       "    </tr>\n",
       "    <tr>\n",
       "      <th>max</th>\n",
       "      <td>2.000000</td>\n",
       "      <td>8.030003e+07</td>\n",
       "      <td>134.000000</td>\n",
       "      <td>638.095238</td>\n",
       "    </tr>\n",
       "  </tbody>\n",
       "</table>\n",
       "</div>"
      ],
      "text/plain": [
       "       Entrevista        ING_ID  Cru.Edível   Cru.Bruto\n",
       "count  299.000000  2.990000e+02  299.000000  299.000000\n",
       "mean     1.501672  8.029934e+07   20.481754   74.161033\n",
       "std      0.500835  1.156615e+04   22.513592   82.328706\n",
       "min      1.000000  8.010001e+07    0.762457    3.121875\n",
       "25%      1.000000  8.030000e+07    5.152140   18.400499\n",
       "50%      2.000000  8.030000e+07   12.182560   45.959727\n",
       "75%      2.000000  8.030001e+07   28.921198  103.289994\n",
       "max      2.000000  8.030003e+07  134.000000  638.095238"
      ]
     },
     "execution_count": 5,
     "metadata": {},
     "output_type": "execute_result"
    }
   ],
   "source": [
    "consumo.describe()"
   ]
  },
  {
   "cell_type": "code",
   "execution_count": 6,
   "id": "6e28ed8c",
   "metadata": {},
   "outputs": [
    {
     "name": "stdout",
     "output_type": "stream",
     "text": [
      "<class 'pandas.core.frame.DataFrame'>\n",
      "RangeIndex: 299 entries, 0 to 298\n",
      "Data columns (total 8 columns):\n",
      " #   Column           Non-Null Count  Dtype  \n",
      "---  ------           --------------  -----  \n",
      " 0   IAN_ID           299 non-null    object \n",
      " 1   Entrevista       299 non-null    int64  \n",
      " 2   Refeição         299 non-null    object \n",
      " 3   Quick.Food.Item  299 non-null    object \n",
      " 4   Receita          267 non-null    object \n",
      " 5   ING_ID           299 non-null    int64  \n",
      " 6   Cru.Edível       299 non-null    float64\n",
      " 7   Cru.Bruto        299 non-null    float64\n",
      "dtypes: float64(2), int64(2), object(4)\n",
      "memory usage: 18.8+ KB\n"
     ]
    }
   ],
   "source": [
    "consumo.info()"
   ]
  },
  {
   "cell_type": "code",
   "execution_count": 7,
   "id": "e93e38cc",
   "metadata": {},
   "outputs": [
    {
     "data": {
      "text/html": [
       "<div>\n",
       "<style scoped>\n",
       "    .dataframe tbody tr th:only-of-type {\n",
       "        vertical-align: middle;\n",
       "    }\n",
       "\n",
       "    .dataframe tbody tr th {\n",
       "        vertical-align: top;\n",
       "    }\n",
       "\n",
       "    .dataframe thead th {\n",
       "        text-align: right;\n",
       "    }\n",
       "</style>\n",
       "<table border=\"1\" class=\"dataframe\">\n",
       "  <thead>\n",
       "    <tr style=\"text-align: right;\">\n",
       "      <th></th>\n",
       "      <th>IAN_ID</th>\n",
       "      <th>Entrevista</th>\n",
       "      <th>Refeição</th>\n",
       "      <th>Prato</th>\n",
       "      <th>Receita</th>\n",
       "      <th>ING_ID</th>\n",
       "      <th>Cru.Edível</th>\n",
       "      <th>Cru.Bruto</th>\n",
       "    </tr>\n",
       "  </thead>\n",
       "  <tbody>\n",
       "    <tr>\n",
       "      <th>0</th>\n",
       "      <td>1-01-01-0-13-059</td>\n",
       "      <td>1</td>\n",
       "      <td>Jantar</td>\n",
       "      <td>arroz de mexilhão</td>\n",
       "      <td>RCP_637</td>\n",
       "      <td>80300014</td>\n",
       "      <td>20.054293</td>\n",
       "      <td>71.622475</td>\n",
       "    </tr>\n",
       "    <tr>\n",
       "      <th>1</th>\n",
       "      <td>1-02-01-1-15-020</td>\n",
       "      <td>2</td>\n",
       "      <td>Almoço</td>\n",
       "      <td>arroz de marisco</td>\n",
       "      <td>RCP_915</td>\n",
       "      <td>80300005</td>\n",
       "      <td>10.304279</td>\n",
       "      <td>36.800998</td>\n",
       "    </tr>\n",
       "    <tr>\n",
       "      <th>2</th>\n",
       "      <td>1-02-01-1-15-020</td>\n",
       "      <td>2</td>\n",
       "      <td>Almoço</td>\n",
       "      <td>arroz de marisco</td>\n",
       "      <td>RCP_915</td>\n",
       "      <td>80300023</td>\n",
       "      <td>3.864105</td>\n",
       "      <td>18.400499</td>\n",
       "    </tr>\n",
       "    <tr>\n",
       "      <th>3</th>\n",
       "      <td>1-04-01-0-04-119</td>\n",
       "      <td>2</td>\n",
       "      <td>Jantar</td>\n",
       "      <td>rojões com mexilhão</td>\n",
       "      <td>NaN</td>\n",
       "      <td>80300014</td>\n",
       "      <td>10.640000</td>\n",
       "      <td>38.000000</td>\n",
       "    </tr>\n",
       "    <tr>\n",
       "      <th>4</th>\n",
       "      <td>1-04-01-0-13-032</td>\n",
       "      <td>2</td>\n",
       "      <td>Almoço</td>\n",
       "      <td>arroz de marisco</td>\n",
       "      <td>RCP_915</td>\n",
       "      <td>80300005</td>\n",
       "      <td>2.033220</td>\n",
       "      <td>7.261500</td>\n",
       "    </tr>\n",
       "  </tbody>\n",
       "</table>\n",
       "</div>"
      ],
      "text/plain": [
       "             IAN_ID  Entrevista Refeição                Prato  Receita  \\\n",
       "0  1-01-01-0-13-059           1   Jantar    arroz de mexilhão  RCP_637   \n",
       "1  1-02-01-1-15-020           2   Almoço     arroz de marisco  RCP_915   \n",
       "2  1-02-01-1-15-020           2   Almoço     arroz de marisco  RCP_915   \n",
       "3  1-04-01-0-04-119           2   Jantar  rojões com mexilhão      NaN   \n",
       "4  1-04-01-0-13-032           2   Almoço     arroz de marisco  RCP_915   \n",
       "\n",
       "     ING_ID  Cru.Edível  Cru.Bruto  \n",
       "0  80300014   20.054293  71.622475  \n",
       "1  80300005   10.304279  36.800998  \n",
       "2  80300023    3.864105  18.400499  \n",
       "3  80300014   10.640000  38.000000  \n",
       "4  80300005    2.033220   7.261500  "
      ]
     },
     "execution_count": 7,
     "metadata": {},
     "output_type": "execute_result"
    }
   ],
   "source": [
    "consumo.rename(columns={\"Quick.Food.Item\":\"Prato\"}, inplace=True)\n",
    "consumo.head()"
   ]
  },
  {
   "cell_type": "code",
   "execution_count": 8,
   "id": "2cdc96fc",
   "metadata": {},
   "outputs": [
    {
     "data": {
      "text/plain": [
       "2    150\n",
       "1    149\n",
       "Name: Entrevista, dtype: int64"
      ]
     },
     "execution_count": 8,
     "metadata": {},
     "output_type": "execute_result"
    }
   ],
   "source": [
    "consumo[\"Entrevista\"].value_counts()"
   ]
  },
  {
   "cell_type": "code",
   "execution_count": 9,
   "id": "1be04889",
   "metadata": {},
   "outputs": [
    {
     "data": {
      "text/plain": [
       "Almoço                             158\n",
       "Jantar                             131\n",
       "Durante a tarde (Lanche)             7\n",
       "Pequeno-almoço                       2\n",
       "Durante a manhã (Meio da manhã)      1\n",
       "Name: Refeição, dtype: int64"
      ]
     },
     "execution_count": 9,
     "metadata": {},
     "output_type": "execute_result"
    }
   ],
   "source": [
    "consumo[\"Refeição\"].value_counts()"
   ]
  },
  {
   "cell_type": "code",
   "execution_count": 10,
   "id": "11e53787",
   "metadata": {},
   "outputs": [
    {
     "data": {
      "text/plain": [
       "arroz de marisco               28\n",
       "Arroz de marisco               28\n",
       "carne de porco à alentejana    10\n",
       "ameijoas                        6\n",
       "massa de peixe                  6\n",
       "                               ..\n",
       "carne porco                     1\n",
       "lata mexilhão                   1\n",
       "Arroz à Valenciana              1\n",
       "mexilhões                       1\n",
       "carne de porco com batata       1\n",
       "Name: Prato, Length: 142, dtype: int64"
      ]
     },
     "execution_count": 10,
     "metadata": {},
     "output_type": "execute_result"
    }
   ],
   "source": [
    "consumo[\"Prato\"].value_counts()"
   ]
  },
  {
   "cell_type": "code",
   "execution_count": 11,
   "id": "b79328bb",
   "metadata": {},
   "outputs": [
    {
     "data": {
      "text/plain": [
       "RCP_609     71\n",
       "RCP_715     48\n",
       "RCP_915     46\n",
       "RCP_52      34\n",
       "RCP_1370    15\n",
       "RCP_1346     9\n",
       "RCP_41       8\n",
       "RCP_49       6\n",
       "RCP_1379     6\n",
       "RCP_1623     6\n",
       "RCP_819      4\n",
       "RCP_636      4\n",
       "RCP_637      3\n",
       "RCP_638      2\n",
       "RCP_635      2\n",
       "RCP_1483     2\n",
       "RCP_1222     1\n",
       "Name: Receita, dtype: int64"
      ]
     },
     "execution_count": 11,
     "metadata": {},
     "output_type": "execute_result"
    }
   ],
   "source": [
    "consumo[\"Receita\"].value_counts()"
   ]
  },
  {
   "cell_type": "markdown",
   "id": "f057dc98",
   "metadata": {},
   "source": [
    "# Data Cleaning"
   ]
  },
  {
   "cell_type": "code",
   "execution_count": 12,
   "id": "74967ba6",
   "metadata": {},
   "outputs": [
    {
     "data": {
      "text/plain": [
       "<AxesSubplot:xlabel='count', ylabel='Prato'>"
      ]
     },
     "execution_count": 12,
     "metadata": {},
     "output_type": "execute_result"
    },
    {
     "data": {
      "image/png": "[encoded data removed]",
      "text/plain": [
       "<Figure size 1500x2000 with 1 Axes>"
      ]
     },
     "metadata": {},
     "output_type": "display_data"
    }
   ],
   "source": [
    "plt.figure(figsize=(15,20))\n",
    "sns.countplot(y=\"Prato\",data=consumo)"
   ]
  },
  {
   "cell_type": "markdown",
   "id": "548ee807",
   "metadata": {},
   "source": [
    "## Based on the \"Receita\" Value"
   ]
  },
  {
   "cell_type": "markdown",
   "id": "34e60204",
   "metadata": {},
   "source": [
    "1. Receita = RCP_609 ---- Prato = Carne Porco Alentejana"
   ]
  },
  {
   "cell_type": "code",
   "execution_count": 13,
   "id": "d8e4487e",
   "metadata": {},
   "outputs": [
    {
     "data": {
      "text/plain": [
       "carne de porco à alentejana                              10\n",
       "Carne de porco à alentejana                               6\n",
       "carne de porco alentejana                                 5\n",
       "carne de porco frita                                      3\n",
       "carne de porco á alentejana                               2\n",
       "Carne porco alentejana                                    2\n",
       "Carne de porco a alentejana                               2\n",
       "carne porco alentejana                                    2\n",
       "carne de porco                                            2\n",
       "Carne de porco frita                                      1\n",
       "Ameijoa e carne de porco                                  1\n",
       "Carne de porco com ameijoa                                1\n",
       "Carne de porco à alentejana com ameijoas batata frita     1\n",
       "Carne de porco com ameijoas                               1\n",
       "carne de porco a Portuguesa                               1\n",
       "Carne de Porco à alentejana                               1\n",
       "Carne de porco à Portuguesa                               1\n",
       "carne de porco á alenteja                                 1\n",
       "Carne de porco à portuguesa                               1\n",
       "Carne de vinho e alhos                                    1\n",
       "Carne porco                                               1\n",
       "Carne Porco                                               1\n",
       "carne porco Alentejana                                    1\n",
       "Carne à Alentejana                                        1\n",
       "Carne                                                     1\n",
       "Carne a alentejana sem ameijoa                            1\n",
       "carne à marinheiro (carne alentejana com camarões)        1\n",
       "Carne de porco à Alentejana com batata frita              1\n",
       "carne à portuguesa                                        1\n",
       "carne de porco a alentejana                               1\n",
       "carne.*alent                                              1\n",
       "carne.*porco                                              1\n",
       "Carne de porco Alentejana                                 1\n",
       "Carne.*alentejana                                         1\n",
       "porco alentejana                                          1\n",
       "carne de proco à alentejana                               1\n",
       "Carne de Porco à Alentejana                               1\n",
       "Carne de porco à Alentejana                               1\n",
       "carne porco                                               1\n",
       "carne                                                     1\n",
       "sandes de carne frita (massa pimentão e banha)            1\n",
       "Carne de porco à alentejana com batata frita              1\n",
       "Rojões de porco fritos                                    1\n",
       "carne de porco preto frita                                1\n",
       "carne a portuguesa com batata e salada                    1\n",
       "carne de porco com batata                                 1\n",
       "Name: Prato, dtype: int64"
      ]
     },
     "execution_count": 13,
     "metadata": {},
     "output_type": "execute_result"
    }
   ],
   "source": [
    "consumo[consumo[\"Receita\"]==\"RCP_609\"][\"Prato\"].value_counts()"
   ]
  },
  {
   "cell_type": "code",
   "execution_count": 14,
   "id": "eed30fa4",
   "metadata": {},
   "outputs": [],
   "source": [
    "def carne_alentejana(dataframe):\n",
    "    dataframe.loc[dataframe[\"Receita\"] == \"RCP_609\", \"Prato\"] = \"Carne de Porco à Alentejana\"\n",
    "    return dataframe"
   ]
  },
  {
   "cell_type": "code",
   "execution_count": 15,
   "id": "26ab71bc",
   "metadata": {},
   "outputs": [],
   "source": [
    "consumo = carne_alentejana(consumo)"
   ]
  },
  {
   "cell_type": "code",
   "execution_count": 16,
   "id": "654acf7a",
   "metadata": {},
   "outputs": [
    {
     "data": {
      "text/plain": [
       "Carne de Porco à Alentejana    71\n",
       "Name: Prato, dtype: int64"
      ]
     },
     "execution_count": 16,
     "metadata": {},
     "output_type": "execute_result"
    }
   ],
   "source": [
    "consumo[consumo[\"Receita\"]==\"RCP_609\"][\"Prato\"].value_counts()"
   ]
  },
  {
   "cell_type": "markdown",
   "id": "48bca37e",
   "metadata": {},
   "source": [
    "2. Receita = \"RCP_1222\" ---- Prato = \"Robalo estufado à bulhão pato\""
   ]
  },
  {
   "cell_type": "code",
   "execution_count": 17,
   "id": "086fd855",
   "metadata": {},
   "outputs": [
    {
     "data": {
      "text/plain": [
       "robalo à bolhão pato- (Estufado)    1\n",
       "Name: Prato, dtype: int64"
      ]
     },
     "execution_count": 17,
     "metadata": {},
     "output_type": "execute_result"
    }
   ],
   "source": [
    "consumo[consumo[\"Receita\"]==\"RCP_1222\"][\"Prato\"].value_counts()"
   ]
  },
  {
   "cell_type": "code",
   "execution_count": 18,
   "id": "9ae5640a",
   "metadata": {},
   "outputs": [],
   "source": [
    "consumo.loc[consumo[\"Prato\"].isin([\"robalo à bolhão pato- (Estufado)\"]),\"Prato\"]=\"Robalo estufado à bulhão pato\""
   ]
  },
  {
   "cell_type": "markdown",
   "id": "6b8e117d",
   "metadata": {},
   "source": [
    "3. Receita=\"RCP_1346\" --- Prato=\"Cataplana de marisco\""
   ]
  },
  {
   "cell_type": "code",
   "execution_count": 19,
   "id": "e1ce866e",
   "metadata": {},
   "outputs": [
    {
     "data": {
      "text/plain": [
       "cataplana de marisco e carne                          3\n",
       "CATAPLANA DE MARISCO - RECEITA GENÉRICA - ESTUFADO    3\n",
       "Cataplana a algarvia                                  3\n",
       "Name: Prato, dtype: int64"
      ]
     },
     "execution_count": 19,
     "metadata": {},
     "output_type": "execute_result"
    }
   ],
   "source": [
    "consumo[consumo[\"Receita\"]==\"RCP_1346\"][\"Prato\"].value_counts()"
   ]
  },
  {
   "cell_type": "code",
   "execution_count": 20,
   "id": "0b374dd4",
   "metadata": {},
   "outputs": [],
   "source": [
    "def cataplana(data):\n",
    "    data.loc[data[\"Receita\"]==\"RCP_1346\",\"Prato\"]=\"Cataplana de marisco\"\n",
    "    return data"
   ]
  },
  {
   "cell_type": "code",
   "execution_count": 21,
   "id": "0fbe0203",
   "metadata": {},
   "outputs": [],
   "source": [
    "consumo = cataplana(consumo)"
   ]
  },
  {
   "cell_type": "markdown",
   "id": "aaa73148",
   "metadata": {},
   "source": [
    "4. Receita = \"RCP_1370\" --- Prato = \"Arroz à Valênciana\""
   ]
  },
  {
   "cell_type": "code",
   "execution_count": 22,
   "id": "1ea65e1a",
   "metadata": {},
   "outputs": [
    {
     "data": {
      "text/plain": [
       "arroz à valenciana    4\n",
       "Arroz à valenciana    3\n",
       "paelha de marisco     2\n",
       "paelha                1\n",
       "Paella                1\n",
       "arroz à valênciana    1\n",
       "Arroz de açafrão      1\n",
       "arroz valenciana      1\n",
       "Arroz à Valenciana    1\n",
       "Name: Prato, dtype: int64"
      ]
     },
     "execution_count": 22,
     "metadata": {},
     "output_type": "execute_result"
    }
   ],
   "source": [
    "consumo[consumo[\"Receita\"]==\"RCP_1370\"][\"Prato\"].value_counts()"
   ]
  },
  {
   "cell_type": "code",
   "execution_count": 23,
   "id": "1576e4d8",
   "metadata": {},
   "outputs": [],
   "source": [
    "def arroz_valenciana(data):\n",
    "    data.loc[data[\"Receita\"]==\"RCP_1370\",\"Prato\"]=\"Arroz à Valenciana\"\n",
    "    return data"
   ]
  },
  {
   "cell_type": "code",
   "execution_count": 24,
   "id": "84cdae5e",
   "metadata": {},
   "outputs": [],
   "source": [
    "consumo = arroz_valenciana(consumo)"
   ]
  },
  {
   "cell_type": "markdown",
   "id": "8318e1d1",
   "metadata": {},
   "source": [
    "5. Rceita = \"RCP_1379\" ---- Prato =\"Amêijoa à Bulhão Pato\""
   ]
  },
  {
   "cell_type": "code",
   "execution_count": 25,
   "id": "7f1a6bab",
   "metadata": {},
   "outputs": [
    {
     "data": {
      "text/plain": [
       "ameijoas                                                               1\n",
       "ameijoas à bulhão pato                                                 1\n",
       "estufado de ameijoa com mexilhão                                       1\n",
       "Misto de marisco (ameijoas; berbigão e mexilhão) tipo à Bulhão Pato    1\n",
       "amêijoas à bolhão pato                                                 1\n",
       "Conquilhas                                                             1\n",
       "Name: Prato, dtype: int64"
      ]
     },
     "execution_count": 25,
     "metadata": {},
     "output_type": "execute_result"
    }
   ],
   "source": [
    "consumo[consumo[\"Receita\"]==\"RCP_1379\"][\"Prato\"].value_counts()"
   ]
  },
  {
   "cell_type": "code",
   "execution_count": 26,
   "id": "be3c7bcf",
   "metadata": {},
   "outputs": [],
   "source": [
    "def ameijoa_bulhão(data):\n",
    "    data.loc[data[\"Receita\"]==\"RCP_1379\",\"Prato\"]=\"Amêijoas à Bulhão Pato\"\n",
    "    return data"
   ]
  },
  {
   "cell_type": "code",
   "execution_count": 27,
   "id": "46cd9418",
   "metadata": {},
   "outputs": [],
   "source": [
    "consumo= ameijoa_bulhão(consumo)"
   ]
  },
  {
   "cell_type": "markdown",
   "id": "7e210ae0",
   "metadata": {},
   "source": [
    "6. Receita=\"RCP_1483\" ------ Prato = \"Sopa de marisco com massa\""
   ]
  },
  {
   "cell_type": "code",
   "execution_count": 28,
   "id": "d08f71fc",
   "metadata": {},
   "outputs": [
    {
     "data": {
      "text/plain": [
       "sopa de marisco    2\n",
       "Name: Prato, dtype: int64"
      ]
     },
     "execution_count": 28,
     "metadata": {},
     "output_type": "execute_result"
    }
   ],
   "source": [
    "consumo[consumo[\"Receita\"]==\"RCP_1483\"][\"Prato\"].value_counts()"
   ]
  },
  {
   "cell_type": "code",
   "execution_count": 29,
   "id": "98ec5fc6",
   "metadata": {},
   "outputs": [],
   "source": [
    "consumo.loc[consumo[\"Prato\"].isin([\"sopa de marisco\"]),\"Prato\"]=\"Sopa de Marisco com Massa\""
   ]
  },
  {
   "cell_type": "markdown",
   "id": "465c40ca",
   "metadata": {},
   "source": [
    "7. Receita =\"RCP_1623\" --- Prato=\"Xérem\""
   ]
  },
  {
   "cell_type": "code",
   "execution_count": 30,
   "id": "369d6c07",
   "metadata": {},
   "outputs": [
    {
     "data": {
      "text/plain": [
       "Papas de milho                                         2\n",
       "Papas de milho (xarém)                                 1\n",
       "papas de milho                                         1\n",
       "Xarém com camarão                                      1\n",
       "Xerem de marisco_ papas de milho, camarão, berbigão    1\n",
       "Name: Prato, dtype: int64"
      ]
     },
     "execution_count": 30,
     "metadata": {},
     "output_type": "execute_result"
    }
   ],
   "source": [
    "consumo[consumo[\"Receita\"]==\"RCP_1623\"][\"Prato\"].value_counts()"
   ]
  },
  {
   "cell_type": "code",
   "execution_count": 31,
   "id": "94f453c5",
   "metadata": {},
   "outputs": [],
   "source": [
    "def xérem(data):\n",
    "    data.loc[data[\"Receita\"]==\"RCP_1623\",\"Prato\"]=\"Xérem\"\n",
    "    return data"
   ]
  },
  {
   "cell_type": "code",
   "execution_count": 32,
   "id": "5f3a099c",
   "metadata": {},
   "outputs": [],
   "source": [
    "consumo = xérem(consumo)"
   ]
  },
  {
   "cell_type": "markdown",
   "id": "c4e35cc0",
   "metadata": {},
   "source": [
    "8. Receita=\"RCP_41\" --- Prato=\"Molho de Amêijoa\""
   ]
  },
  {
   "cell_type": "code",
   "execution_count": 33,
   "id": "aa677f91",
   "metadata": {},
   "outputs": [
    {
     "data": {
      "text/plain": [
       "Ameijoas                  3\n",
       "ameijoas                  2\n",
       "berbigão                  1\n",
       "amêijoa estufada          1\n",
       "Ameijoas à Bolhão Pato    1\n",
       "Name: Prato, dtype: int64"
      ]
     },
     "execution_count": 33,
     "metadata": {},
     "output_type": "execute_result"
    }
   ],
   "source": [
    "consumo[consumo[\"Receita\"]==\"RCP_41\"][\"Prato\"].value_counts()"
   ]
  },
  {
   "cell_type": "code",
   "execution_count": 34,
   "id": "9d569c7a",
   "metadata": {},
   "outputs": [],
   "source": [
    "def molho_ameijoa(data):\n",
    "    data.loc[data[\"Receita\"]==\"RCP_41\",\"Prato\"]=\"Molho de Amêijoa\"\n",
    "    return data"
   ]
  },
  {
   "cell_type": "code",
   "execution_count": 35,
   "id": "b37e357d",
   "metadata": {},
   "outputs": [],
   "source": [
    "consumo = molho_ameijoa(consumo)"
   ]
  },
  {
   "cell_type": "markdown",
   "id": "50861d69",
   "metadata": {},
   "source": [
    "9. Receita=\"RCP_49\" ----- Prato = \"Abrótea Assada com Molho de Amêijoa\""
   ]
  },
  {
   "cell_type": "code",
   "execution_count": 36,
   "id": "c2149545",
   "metadata": {},
   "outputs": [
    {
     "data": {
      "text/plain": [
       "Abrótea frita          2\n",
       "Abrótea assada         1\n",
       "Filete de abrótea      1\n",
       "peixe abrotea frito    1\n",
       "Peixe assado           1\n",
       "Name: Prato, dtype: int64"
      ]
     },
     "execution_count": 36,
     "metadata": {},
     "output_type": "execute_result"
    }
   ],
   "source": [
    "consumo[consumo[\"Receita\"]==\"RCP_49\"][\"Prato\"].value_counts()"
   ]
  },
  {
   "cell_type": "code",
   "execution_count": 37,
   "id": "a63b253c",
   "metadata": {},
   "outputs": [],
   "source": [
    "def abrotea(data):\n",
    "    data.loc[data[\"Receita\"]==\"RCP_49\",\"Prato\"]=\"Abrótea Assada com Molho de Amêijoa\"\n",
    "    return data"
   ]
  },
  {
   "cell_type": "code",
   "execution_count": 38,
   "id": "89bc2a18",
   "metadata": {},
   "outputs": [],
   "source": [
    "consumo = abrotea(consumo)"
   ]
  },
  {
   "cell_type": "markdown",
   "id": "8f33a133",
   "metadata": {},
   "source": [
    "10. Receita = \"RCP_52\" --- Prato = \"Feijoada de Marisco\""
   ]
  },
  {
   "cell_type": "code",
   "execution_count": 39,
   "id": "42776a27",
   "metadata": {},
   "outputs": [
    {
     "data": {
      "text/plain": [
       "feijoada de camarão                                                                                                              4\n",
       "mariscada                                                                                                                        2\n",
       "feijoada de chocos sem tinta                                                                                                     2\n",
       "Feijoada de marisco                                                                                                              2\n",
       "Potas com feijão                                                                                                                 2\n",
       "Feijoada de chocos                                                                                                               2\n",
       "feijoada de chocos                                                                                                               2\n",
       "Feijoada de choco com arroz branco                                                                                               2\n",
       "Feijoada de choco, cebola, tomate, alho, azeite, coentros, rodelas de chouriço, feijão catarino, rodelinhas de cenoura, choco    2\n",
       "Feijoada de choco, feijão branco, alho, tomate, chouriço, cebola e azeite Gallo                                                  2\n",
       "Feijoada de lingueirão                                                                                                           2\n",
       "Feijoada de búzios                                                                                                               2\n",
       "Feijoada de Polvo                                                                                                                2\n",
       "Feijão de marisco                                                                                                                2\n",
       "feijoada                                                                                                                         2\n",
       "Arroz de marisco                                                                                                                 2\n",
       "Name: Prato, dtype: int64"
      ]
     },
     "execution_count": 39,
     "metadata": {},
     "output_type": "execute_result"
    }
   ],
   "source": [
    "consumo[consumo[\"Receita\"]==\"RCP_52\"][\"Prato\"].value_counts()"
   ]
  },
  {
   "cell_type": "code",
   "execution_count": 40,
   "id": "a91db2aa",
   "metadata": {},
   "outputs": [],
   "source": [
    "def feijoada(data):\n",
    "    data.loc[data[\"Receita\"]==\"RCP_52\",\"Prato\"]=\"Feijoada de Marisco\"\n",
    "    return data"
   ]
  },
  {
   "cell_type": "code",
   "execution_count": 41,
   "id": "19ac6ece",
   "metadata": {},
   "outputs": [],
   "source": [
    "consumo = feijoada(consumo)"
   ]
  },
  {
   "cell_type": "markdown",
   "id": "0ae1d2be",
   "metadata": {},
   "source": [
    "11. Receita=\"RCP_636\" ---- Prato=\"Mexilhões com Casca e Com Molho\""
   ]
  },
  {
   "cell_type": "code",
   "execution_count": 42,
   "id": "4dd87f03",
   "metadata": {},
   "outputs": [
    {
     "data": {
      "text/plain": [
       "mexilhões abertos ao natural, louro, alho e azeite, limão, piri-piri    1\n",
       "marisco                                                                 1\n",
       "Mexilhões                                                               1\n",
       "Mexilhões com casca e com molho                                         1\n",
       "Name: Prato, dtype: int64"
      ]
     },
     "execution_count": 42,
     "metadata": {},
     "output_type": "execute_result"
    }
   ],
   "source": [
    "consumo[consumo[\"Receita\"]==\"RCP_636\"][\"Prato\"].value_counts()"
   ]
  },
  {
   "cell_type": "code",
   "execution_count": 43,
   "id": "2dc7c545",
   "metadata": {},
   "outputs": [],
   "source": [
    "def mexilhoes_casca_molho(data):\n",
    "    data.loc[data[\"Receita\"]==\"RCP_636\",\"Prato\"]=\"Mexilhões com Casca e com Molho\"\n",
    "    return data"
   ]
  },
  {
   "cell_type": "code",
   "execution_count": 44,
   "id": "d89a47dd",
   "metadata": {},
   "outputs": [],
   "source": [
    "consumo = mexilhoes_casca_molho(consumo)"
   ]
  },
  {
   "cell_type": "markdown",
   "id": "f280af3c",
   "metadata": {},
   "source": [
    "12. Receita=\"RCP_635\" --- Prato=\"Mexilhões com Casca e sem Molho\""
   ]
  },
  {
   "cell_type": "code",
   "execution_count": 45,
   "id": "57cccfd0",
   "metadata": {},
   "outputs": [
    {
     "data": {
      "text/plain": [
       "arroz de camarão e mexilhões    1\n",
       "Marisco                         1\n",
       "Name: Prato, dtype: int64"
      ]
     },
     "execution_count": 45,
     "metadata": {},
     "output_type": "execute_result"
    }
   ],
   "source": [
    "consumo[consumo[\"Receita\"]==\"RCP_635\"][\"Prato\"].value_counts()"
   ]
  },
  {
   "cell_type": "code",
   "execution_count": 46,
   "id": "84c67a97",
   "metadata": {},
   "outputs": [],
   "source": [
    "consumo.loc[consumo[\"Prato\"].isin([\"arroz de camarão e mexilhões\",\n",
    "                                  \"Marisco\"]),\"Prato\"]=\"Mexilhões com Casca e sem Molho\""
   ]
  },
  {
   "cell_type": "markdown",
   "id": "08164003",
   "metadata": {},
   "source": [
    "12. Receita=\"RCP_637\" --- Prato=\"Mexilhões com Casca e sem Molho 2\""
   ]
  },
  {
   "cell_type": "code",
   "execution_count": 47,
   "id": "3a260de9",
   "metadata": {},
   "outputs": [
    {
     "data": {
      "text/plain": [
       "arroz de mexilhão                                                      1\n",
       "Misto de marisco (ameijoas; berbigão e mexilhão) tipo à Bulhão Pato    1\n",
       "Arroz                                                                  1\n",
       "Name: Prato, dtype: int64"
      ]
     },
     "execution_count": 47,
     "metadata": {},
     "output_type": "execute_result"
    }
   ],
   "source": [
    "consumo[consumo[\"Receita\"]==\"RCP_637\"][\"Prato\"].value_counts()"
   ]
  },
  {
   "cell_type": "code",
   "execution_count": 48,
   "id": "619c4cff",
   "metadata": {},
   "outputs": [],
   "source": [
    "def mexilhao2(data):\n",
    "    data.loc[data[\"Receita\"]==\"RCP_637\",\"Prato\"]=\"Mexilhão com Casca e sem Molho 2\"\n",
    "    return data"
   ]
  },
  {
   "cell_type": "code",
   "execution_count": 49,
   "id": "75e001e0",
   "metadata": {},
   "outputs": [],
   "source": [
    "consumo = mexilhao2(consumo)"
   ]
  },
  {
   "cell_type": "markdown",
   "id": "f62b1fc5",
   "metadata": {},
   "source": [
    "13. Receita=\"RCP_638\" --- Prato=\"Mexilhões com casca e com Molho 2\""
   ]
  },
  {
   "cell_type": "code",
   "execution_count": 50,
   "id": "6b423bbc",
   "metadata": {},
   "outputs": [
    {
     "data": {
      "text/plain": [
       "massa de mexilhões com pimento    1\n",
       "mexilhões                         1\n",
       "Name: Prato, dtype: int64"
      ]
     },
     "execution_count": 50,
     "metadata": {},
     "output_type": "execute_result"
    }
   ],
   "source": [
    "consumo[consumo[\"Receita\"]==\"RCP_638\"][\"Prato\"].value_counts()"
   ]
  },
  {
   "cell_type": "code",
   "execution_count": 51,
   "id": "0f338a58",
   "metadata": {},
   "outputs": [],
   "source": [
    "consumo.loc[consumo[\"Prato\"].isin([\"massa de mexilhões com pimento\",\n",
    "                                  \"mexilhões\"]),\"Prato\"]=\"Mexilhões com Casca e com Molho 2\""
   ]
  },
  {
   "cell_type": "markdown",
   "id": "d4118cdd",
   "metadata": {},
   "source": [
    "13. Receita=\"RCP_715\" --- Prato=\"RCP_715\""
   ]
  },
  {
   "cell_type": "code",
   "execution_count": 52,
   "id": "3b1f2f3d",
   "metadata": {},
   "outputs": [
    {
     "data": {
      "text/plain": [
       "massada de peixe                         6\n",
       "Arroz de marisco                         6\n",
       "massa de peixe                           4\n",
       "massa de camarão                         2\n",
       "arroz de marisco                         2\n",
       "massa de marisco                         2\n",
       "esparguete de marisco REC_GENERICA       2\n",
       "Massa com marisco                        2\n",
       "Massa de tamboril, (miolo de camarão)    2\n",
       "Massada de peixe - Receita Genérica      2\n",
       "esparguete com camarão                   2\n",
       "Massa do mar                             2\n",
       "Massada de marisco                       2\n",
       "Massada                                  2\n",
       "Massada de peixe                         2\n",
       "massa com cherne                         2\n",
       "massa com salmão                         2\n",
       "Massa de marisco                         2\n",
       "Massa de bacalhau                        2\n",
       "Name: Prato, dtype: int64"
      ]
     },
     "execution_count": 52,
     "metadata": {},
     "output_type": "execute_result"
    }
   ],
   "source": [
    "consumo[consumo[\"Receita\"]==\"RCP_715\"][\"Prato\"].value_counts()"
   ]
  },
  {
   "cell_type": "code",
   "execution_count": 53,
   "id": "d9913404",
   "metadata": {},
   "outputs": [],
   "source": [
    "def massa(data):\n",
    "    data.loc[data[\"Receita\"]==\"RCP_715\",\"Prato\"]=\"Massa de Marisco\"\n",
    "    return data"
   ]
  },
  {
   "cell_type": "code",
   "execution_count": 54,
   "id": "82aa4246",
   "metadata": {},
   "outputs": [],
   "source": [
    "consumo = massa(consumo)"
   ]
  },
  {
   "cell_type": "markdown",
   "id": "d084e6b9",
   "metadata": {},
   "source": [
    "14. Receita=\"RCP_915\" --- Prato=\"Arroz de Marisco\""
   ]
  },
  {
   "cell_type": "code",
   "execution_count": 55,
   "id": "af0347b7",
   "metadata": {},
   "outputs": [
    {
     "data": {
      "text/plain": [
       "arroz de marisco                           24\n",
       "Arroz de marisco                           20\n",
       "Arroz de marisco com cenoura e ervilhas     2\n",
       "Name: Prato, dtype: int64"
      ]
     },
     "execution_count": 55,
     "metadata": {},
     "output_type": "execute_result"
    }
   ],
   "source": [
    "consumo[consumo[\"Receita\"]==\"RCP_915\"][\"Prato\"].value_counts()"
   ]
  },
  {
   "cell_type": "code",
   "execution_count": 56,
   "id": "0f145a7c",
   "metadata": {},
   "outputs": [],
   "source": [
    "def arroz_marisco(data):\n",
    "    data.loc[data[\"Receita\"]==\"RCP_915\",\"Prato\"]=\"Arroz de Marisco\"\n",
    "    return data"
   ]
  },
  {
   "cell_type": "code",
   "execution_count": 57,
   "id": "bd34db59",
   "metadata": {},
   "outputs": [],
   "source": [
    "consumo = arroz_marisco(consumo)"
   ]
  },
  {
   "cell_type": "markdown",
   "id": "1eaf53c7",
   "metadata": {},
   "source": [
    "## NaN Values in \"Receita\""
   ]
  },
  {
   "cell_type": "code",
   "execution_count": 58,
   "id": "47d3db31",
   "metadata": {},
   "outputs": [
    {
     "data": {
      "text/plain": [
       "32"
      ]
     },
     "execution_count": 58,
     "metadata": {},
     "output_type": "execute_result"
    }
   ],
   "source": [
    "consumo[\"Receita\"].isna().sum()"
   ]
  },
  {
   "cell_type": "code",
   "execution_count": 59,
   "id": "c49873fc",
   "metadata": {},
   "outputs": [
    {
     "data": {
      "text/plain": [
       "ameijoas                                                                                 3\n",
       "Berbigão                                                                                 3\n",
       "Conquilhas                                                                               3\n",
       "ameijoa                                                                                  2\n",
       "Ameijoas                                                                                 2\n",
       "Amêijoa                                                                                  2\n",
       "arroz de marisco                                                                         2\n",
       "rojões com mexilhão                                                                      1\n",
       "Xerem de marisco_ papas de milho, camarão, berbigão                                      1\n",
       "conquilhas                                                                               1\n",
       "Ostras, 3 unidades                                                                       1\n",
       "Arroz de bacalhau com ameijoas                                                           1\n",
       "berbigão                                                                                 1\n",
       "Arroz de mexilhão                                                                        1\n",
       "Cataplana de bacalhau                                                                    1\n",
       "Cataplana, cherne, salmão, camarão, ameijoas, cebola, pimento verde, pimento vermelho    1\n",
       "Mexilhão com natas                                                                       1\n",
       "ostras                                                                                   1\n",
       "Amêijoas                                                                                 1\n",
       "lata mexilhão                                                                            1\n",
       "Arroz de berbigão                                                                        1\n",
       "Ameijoas abertas ao natural                                                              1\n",
       "Name: Prato, dtype: int64"
      ]
     },
     "execution_count": 59,
     "metadata": {},
     "output_type": "execute_result"
    }
   ],
   "source": [
    "consumo[consumo['Receita'].isna()][\"Prato\"].value_counts()"
   ]
  },
  {
   "cell_type": "markdown",
   "id": "beb1ebdf",
   "metadata": {},
   "source": [
    "1. Amêijoas"
   ]
  },
  {
   "cell_type": "code",
   "execution_count": 60,
   "id": "e92b3e9a",
   "metadata": {},
   "outputs": [],
   "source": [
    "consumo.loc[consumo[\"Prato\"].isin([\"ameijoas\",\n",
    "                                    \"ameijoa\",\n",
    "                                    \"Ameijoas\",\n",
    "                                    \"Amêijoa\",\n",
    "                                    \"Amêijoas\",\n",
    "                                    \"Ameijoas abertas ao natural\"]),\"Prato\"]=\"Amêijoas\""
   ]
  },
  {
   "cell_type": "markdown",
   "id": "83e1f218",
   "metadata": {},
   "source": [
    "2. Conquilhas"
   ]
  },
  {
   "cell_type": "code",
   "execution_count": 61,
   "id": "2781e12f",
   "metadata": {},
   "outputs": [],
   "source": [
    "consumo.loc[consumo[\"Prato\"].isin([\"Conquilhas\",\n",
    "                                 \"conquilhas\"]),\"Prato\"]=\"Conquilhas\""
   ]
  },
  {
   "cell_type": "markdown",
   "id": "245c8de6",
   "metadata": {},
   "source": [
    "3. Arroz de Marisco"
   ]
  },
  {
   "cell_type": "code",
   "execution_count": 62,
   "id": "b7ebf375",
   "metadata": {},
   "outputs": [],
   "source": [
    "consumo.loc[consumo[\"Prato\"].isin([\"arroz de marisco\"]),\"Prato\"]=\"Arroz de Marisco\""
   ]
  },
  {
   "cell_type": "markdown",
   "id": "3139120b",
   "metadata": {},
   "source": [
    "# Others"
   ]
  },
  {
   "cell_type": "code",
   "execution_count": 63,
   "id": "f3bad353",
   "metadata": {},
   "outputs": [
    {
     "data": {
      "text/plain": [
       "Carne de Porco à Alentejana                                                              71\n",
       "Arroz de Marisco                                                                         48\n",
       "Massa de Marisco                                                                         48\n",
       "Feijoada de Marisco                                                                      34\n",
       "Arroz à Valenciana                                                                       15\n",
       "Amêijoas                                                                                 11\n",
       "Cataplana de marisco                                                                      9\n",
       "Molho de Amêijoa                                                                          8\n",
       "Abrótea Assada com Molho de Amêijoa                                                       6\n",
       "Amêijoas à Bulhão Pato                                                                    6\n",
       "Xérem                                                                                     6\n",
       "Conquilhas                                                                                4\n",
       "Mexilhões com Casca e com Molho                                                           4\n",
       "Mexilhão com Casca e sem Molho 2                                                          3\n",
       "Berbigão                                                                                  3\n",
       "Massa de peixe                                                                            2\n",
       "massa de peixe                                                                            2\n",
       "Sopa de Marisco com Massa                                                                 2\n",
       "Mexilhões com Casca e com Molho 2                                                         2\n",
       "Mexilhões com Casca e sem Molho                                                           2\n",
       "lata mexilhão                                                                             1\n",
       "Robalo estufado à bulhão pato                                                             1\n",
       "Cataplana de bacalhau                                                                     1\n",
       "ostras                                                                                    1\n",
       "Mexilhão com natas                                                                        1\n",
       "Cataplana, cherne, salmão, camarão, ameijoas, cebola, pimento verde, pimento vermelho     1\n",
       "Xerem de marisco_ papas de milho, camarão, berbigão                                       1\n",
       "Arroz de mexilhão                                                                         1\n",
       "berbigão                                                                                  1\n",
       "Arroz de bacalhau com ameijoas                                                            1\n",
       "Ostras, 3 unidades                                                                        1\n",
       "rojões com mexilhão                                                                       1\n",
       "Arroz de berbigão                                                                         1\n",
       "Name: Prato, dtype: int64"
      ]
     },
     "execution_count": 63,
     "metadata": {},
     "output_type": "execute_result"
    }
   ],
   "source": [
    "consumo[\"Prato\"].value_counts()"
   ]
  },
  {
   "cell_type": "code",
   "execution_count": 64,
   "id": "a9ecb9f7",
   "metadata": {},
   "outputs": [
    {
     "data": {
      "text/html": [
       "<div>\n",
       "<style scoped>\n",
       "    .dataframe tbody tr th:only-of-type {\n",
       "        vertical-align: middle;\n",
       "    }\n",
       "\n",
       "    .dataframe tbody tr th {\n",
       "        vertical-align: top;\n",
       "    }\n",
       "\n",
       "    .dataframe thead th {\n",
       "        text-align: right;\n",
       "    }\n",
       "</style>\n",
       "<table border=\"1\" class=\"dataframe\">\n",
       "  <thead>\n",
       "    <tr style=\"text-align: right;\">\n",
       "      <th></th>\n",
       "      <th>IAN_ID</th>\n",
       "      <th>Entrevista</th>\n",
       "      <th>Refeição</th>\n",
       "      <th>Prato</th>\n",
       "      <th>Receita</th>\n",
       "      <th>ING_ID</th>\n",
       "      <th>Cru.Edível</th>\n",
       "      <th>Cru.Bruto</th>\n",
       "    </tr>\n",
       "  </thead>\n",
       "  <tbody>\n",
       "    <tr>\n",
       "      <th>115</th>\n",
       "      <td>3-09-01-0-13-078</td>\n",
       "      <td>2</td>\n",
       "      <td>Almoço</td>\n",
       "      <td>Massa de peixe</td>\n",
       "      <td>RCP_819</td>\n",
       "      <td>80300005</td>\n",
       "      <td>2.151917</td>\n",
       "      <td>7.685417</td>\n",
       "    </tr>\n",
       "    <tr>\n",
       "      <th>116</th>\n",
       "      <td>3-09-01-0-13-078</td>\n",
       "      <td>2</td>\n",
       "      <td>Almoço</td>\n",
       "      <td>Massa de peixe</td>\n",
       "      <td>RCP_819</td>\n",
       "      <td>80300005</td>\n",
       "      <td>12.904267</td>\n",
       "      <td>46.086668</td>\n",
       "    </tr>\n",
       "  </tbody>\n",
       "</table>\n",
       "</div>"
      ],
      "text/plain": [
       "               IAN_ID  Entrevista Refeição           Prato  Receita    ING_ID  \\\n",
       "115  3-09-01-0-13-078           2   Almoço  Massa de peixe  RCP_819  80300005   \n",
       "116  3-09-01-0-13-078           2   Almoço  Massa de peixe  RCP_819  80300005   \n",
       "\n",
       "     Cru.Edível  Cru.Bruto  \n",
       "115    2.151917   7.685417  \n",
       "116   12.904267  46.086668  "
      ]
     },
     "execution_count": 64,
     "metadata": {},
     "output_type": "execute_result"
    }
   ],
   "source": [
    "consumo[consumo[\"Prato\"]==\"Massa de peixe\"]"
   ]
  },
  {
   "cell_type": "code",
   "execution_count": 65,
   "id": "1a825372",
   "metadata": {},
   "outputs": [
    {
     "data": {
      "text/html": [
       "<div>\n",
       "<style scoped>\n",
       "    .dataframe tbody tr th:only-of-type {\n",
       "        vertical-align: middle;\n",
       "    }\n",
       "\n",
       "    .dataframe tbody tr th {\n",
       "        vertical-align: top;\n",
       "    }\n",
       "\n",
       "    .dataframe thead th {\n",
       "        text-align: right;\n",
       "    }\n",
       "</style>\n",
       "<table border=\"1\" class=\"dataframe\">\n",
       "  <thead>\n",
       "    <tr style=\"text-align: right;\">\n",
       "      <th></th>\n",
       "      <th>IAN_ID</th>\n",
       "      <th>Entrevista</th>\n",
       "      <th>Refeição</th>\n",
       "      <th>Prato</th>\n",
       "      <th>Receita</th>\n",
       "      <th>ING_ID</th>\n",
       "      <th>Cru.Edível</th>\n",
       "      <th>Cru.Bruto</th>\n",
       "    </tr>\n",
       "  </thead>\n",
       "  <tbody>\n",
       "    <tr>\n",
       "      <th>264</th>\n",
       "      <td>6-04-01-0-04-321</td>\n",
       "      <td>2</td>\n",
       "      <td>Jantar</td>\n",
       "      <td>massa de peixe</td>\n",
       "      <td>RCP_819</td>\n",
       "      <td>80300005</td>\n",
       "      <td>2.12415</td>\n",
       "      <td>7.586250</td>\n",
       "    </tr>\n",
       "    <tr>\n",
       "      <th>265</th>\n",
       "      <td>6-04-01-0-04-321</td>\n",
       "      <td>2</td>\n",
       "      <td>Jantar</td>\n",
       "      <td>massa de peixe</td>\n",
       "      <td>RCP_819</td>\n",
       "      <td>80300005</td>\n",
       "      <td>12.73776</td>\n",
       "      <td>45.492001</td>\n",
       "    </tr>\n",
       "  </tbody>\n",
       "</table>\n",
       "</div>"
      ],
      "text/plain": [
       "               IAN_ID  Entrevista Refeição           Prato  Receita    ING_ID  \\\n",
       "264  6-04-01-0-04-321           2   Jantar  massa de peixe  RCP_819  80300005   \n",
       "265  6-04-01-0-04-321           2   Jantar  massa de peixe  RCP_819  80300005   \n",
       "\n",
       "     Cru.Edível  Cru.Bruto  \n",
       "264     2.12415   7.586250  \n",
       "265    12.73776  45.492001  "
      ]
     },
     "execution_count": 65,
     "metadata": {},
     "output_type": "execute_result"
    }
   ],
   "source": [
    "consumo[consumo[\"Prato\"]==\"massa de peixe\"]"
   ]
  },
  {
   "cell_type": "code",
   "execution_count": 66,
   "id": "d13848b3",
   "metadata": {},
   "outputs": [],
   "source": [
    "consumo.loc[consumo[\"Prato\"].isin([\"massa de peixe\"]),\"Prato\"]=\"Massa de peixe\""
   ]
  },
  {
   "cell_type": "code",
   "execution_count": 67,
   "id": "ec5bc25b",
   "metadata": {},
   "outputs": [],
   "source": [
    "#consumo.to_excel(\"Limpos_Consumo.xlsx\")"
   ]
  },
  {
   "cell_type": "markdown",
   "id": "78ff60a4",
   "metadata": {},
   "source": [
    "# Let´s see the ID of each bival for each receipt"
   ]
  },
  {
   "cell_type": "code",
   "execution_count": 69,
   "id": "fc3fe90b",
   "metadata": {},
   "outputs": [],
   "source": [
    "receitas = pd.read_excel(\"Bivalves_Consumo_IAN_AF.xlsx\",sheet_name=\"Receitas\")"
   ]
  },
  {
   "cell_type": "code",
   "execution_count": 70,
   "id": "83c0fcb5",
   "metadata": {},
   "outputs": [
    {
     "data": {
      "text/html": [
       "<div>\n",
       "<style scoped>\n",
       "    .dataframe tbody tr th:only-of-type {\n",
       "        vertical-align: middle;\n",
       "    }\n",
       "\n",
       "    .dataframe tbody tr th {\n",
       "        vertical-align: top;\n",
       "    }\n",
       "\n",
       "    .dataframe thead th {\n",
       "        text-align: right;\n",
       "    }\n",
       "</style>\n",
       "<table border=\"1\" class=\"dataframe\">\n",
       "  <thead>\n",
       "    <tr style=\"text-align: right;\">\n",
       "      <th></th>\n",
       "      <th>Receita</th>\n",
       "      <th>Nome Receita</th>\n",
       "      <th>Ingrediente</th>\n",
       "      <th>Ingrediente.Nome</th>\n",
       "      <th>Percentagem</th>\n",
       "    </tr>\n",
       "  </thead>\n",
       "  <tbody>\n",
       "    <tr>\n",
       "      <th>0</th>\n",
       "      <td>RCP_1222</td>\n",
       "      <td>Robalo estufado à bulhão pato</td>\n",
       "      <td>20800005</td>\n",
       "      <td>Alho, cru</td>\n",
       "      <td>0.56</td>\n",
       "    </tr>\n",
       "    <tr>\n",
       "      <th>1</th>\n",
       "      <td>RCP_1222</td>\n",
       "      <td>Robalo estufado à bulhão pato</td>\n",
       "      <td>70500013</td>\n",
       "      <td>Chouriço, sangue cru</td>\n",
       "      <td>1.24</td>\n",
       "    </tr>\n",
       "    <tr>\n",
       "      <th>2</th>\n",
       "      <td>RCP_1222</td>\n",
       "      <td>Robalo estufado à bulhão pato</td>\n",
       "      <td>80200007</td>\n",
       "      <td>Robalo, cru</td>\n",
       "      <td>30.96</td>\n",
       "    </tr>\n",
       "    <tr>\n",
       "      <th>3</th>\n",
       "      <td>RCP_1222</td>\n",
       "      <td>Robalo estufado à bulhão pato</td>\n",
       "      <td>80300005</td>\n",
       "      <td>Amêijoa, crua</td>\n",
       "      <td>61.92</td>\n",
       "    </tr>\n",
       "    <tr>\n",
       "      <th>4</th>\n",
       "      <td>RCP_1222</td>\n",
       "      <td>Robalo estufado à bulhão pato</td>\n",
       "      <td>100100009</td>\n",
       "      <td>Azeite, n.e.</td>\n",
       "      <td>4.95</td>\n",
       "    </tr>\n",
       "  </tbody>\n",
       "</table>\n",
       "</div>"
      ],
      "text/plain": [
       "    Receita                   Nome Receita  Ingrediente      Ingrediente.Nome  \\\n",
       "0  RCP_1222  Robalo estufado à bulhão pato     20800005             Alho, cru   \n",
       "1  RCP_1222  Robalo estufado à bulhão pato     70500013  Chouriço, sangue cru   \n",
       "2  RCP_1222  Robalo estufado à bulhão pato     80200007           Robalo, cru   \n",
       "3  RCP_1222  Robalo estufado à bulhão pato     80300005         Amêijoa, crua   \n",
       "4  RCP_1222  Robalo estufado à bulhão pato    100100009          Azeite, n.e.   \n",
       "\n",
       "   Percentagem  \n",
       "0         0.56  \n",
       "1         1.24  \n",
       "2        30.96  \n",
       "3        61.92  \n",
       "4         4.95  "
      ]
     },
     "execution_count": 70,
     "metadata": {},
     "output_type": "execute_result"
    }
   ],
   "source": [
    "receitas.head()"
   ]
  },
  {
   "cell_type": "code",
   "execution_count": 71,
   "id": "ad133e81",
   "metadata": {},
   "outputs": [
    {
     "data": {
      "text/html": [
       "<div>\n",
       "<style scoped>\n",
       "    .dataframe tbody tr th:only-of-type {\n",
       "        vertical-align: middle;\n",
       "    }\n",
       "\n",
       "    .dataframe tbody tr th {\n",
       "        vertical-align: top;\n",
       "    }\n",
       "\n",
       "    .dataframe thead th {\n",
       "        text-align: right;\n",
       "    }\n",
       "</style>\n",
       "<table border=\"1\" class=\"dataframe\">\n",
       "  <thead>\n",
       "    <tr style=\"text-align: right;\">\n",
       "      <th></th>\n",
       "      <th>Receita</th>\n",
       "      <th>Nome Receita</th>\n",
       "      <th>ING_ID</th>\n",
       "      <th>Ingrediente.Nome</th>\n",
       "      <th>Percentagem</th>\n",
       "    </tr>\n",
       "  </thead>\n",
       "  <tbody>\n",
       "    <tr>\n",
       "      <th>0</th>\n",
       "      <td>RCP_1222</td>\n",
       "      <td>Robalo estufado à bulhão pato</td>\n",
       "      <td>20800005</td>\n",
       "      <td>Alho, cru</td>\n",
       "      <td>0.56</td>\n",
       "    </tr>\n",
       "    <tr>\n",
       "      <th>1</th>\n",
       "      <td>RCP_1222</td>\n",
       "      <td>Robalo estufado à bulhão pato</td>\n",
       "      <td>70500013</td>\n",
       "      <td>Chouriço, sangue cru</td>\n",
       "      <td>1.24</td>\n",
       "    </tr>\n",
       "    <tr>\n",
       "      <th>2</th>\n",
       "      <td>RCP_1222</td>\n",
       "      <td>Robalo estufado à bulhão pato</td>\n",
       "      <td>80200007</td>\n",
       "      <td>Robalo, cru</td>\n",
       "      <td>30.96</td>\n",
       "    </tr>\n",
       "    <tr>\n",
       "      <th>3</th>\n",
       "      <td>RCP_1222</td>\n",
       "      <td>Robalo estufado à bulhão pato</td>\n",
       "      <td>80300005</td>\n",
       "      <td>Amêijoa, crua</td>\n",
       "      <td>61.92</td>\n",
       "    </tr>\n",
       "    <tr>\n",
       "      <th>4</th>\n",
       "      <td>RCP_1222</td>\n",
       "      <td>Robalo estufado à bulhão pato</td>\n",
       "      <td>100100009</td>\n",
       "      <td>Azeite, n.e.</td>\n",
       "      <td>4.95</td>\n",
       "    </tr>\n",
       "  </tbody>\n",
       "</table>\n",
       "</div>"
      ],
      "text/plain": [
       "    Receita                   Nome Receita     ING_ID      Ingrediente.Nome  \\\n",
       "0  RCP_1222  Robalo estufado à bulhão pato   20800005             Alho, cru   \n",
       "1  RCP_1222  Robalo estufado à bulhão pato   70500013  Chouriço, sangue cru   \n",
       "2  RCP_1222  Robalo estufado à bulhão pato   80200007           Robalo, cru   \n",
       "3  RCP_1222  Robalo estufado à bulhão pato   80300005         Amêijoa, crua   \n",
       "4  RCP_1222  Robalo estufado à bulhão pato  100100009          Azeite, n.e.   \n",
       "\n",
       "   Percentagem  \n",
       "0         0.56  \n",
       "1         1.24  \n",
       "2        30.96  \n",
       "3        61.92  \n",
       "4         4.95  "
      ]
     },
     "execution_count": 71,
     "metadata": {},
     "output_type": "execute_result"
    }
   ],
   "source": [
    "receitas.rename(columns={\"Ingrediente\":\"ING_ID\"},inplace=True)\n",
    "receitas.head()"
   ]
  },
  {
   "cell_type": "code",
   "execution_count": 72,
   "id": "47d74dc1",
   "metadata": {},
   "outputs": [
    {
     "data": {
      "text/plain": [
       "Sal, n.e.                                               21\n",
       "Amêijoa, crua                                           14\n",
       "Azeite, n.e.                                            14\n",
       "Alho, cru                                                9\n",
       "Cebola, crua                                             9\n",
       "Salsa, crua                                              8\n",
       "Pimento, cru                                             7\n",
       "Camarão, cru                                             7\n",
       "Mexilhão, cru                                            7\n",
       "Vinho, branco maduro                                     6\n",
       "Coentros, crus                                           6\n",
       "Piri-piri                                                5\n",
       "Óleo, alimentar                                          4\n",
       "Pimenta, moída                                           4\n",
       "Folha de louro                                           3\n",
       "Caldo, marisco n.e.                                      3\n",
       "Banha, porco                                             2\n",
       "Tamboril, cru                                            2\n",
       "Tomate, cru                                              2\n",
       "Batata, crua                                             2\n",
       "Vinagre                                                  2\n",
       "Lula, crua                                               2\n",
       "Berbigão, cru                                            2\n",
       "Chouriço, sangue cru                                     2\n",
       "Colorau                                                  2\n",
       "Tomate, conserva ao natural                              2\n",
       "Arroz, agulha                                            1\n",
       "Porco, toucinho entremeado fresco cru                    1\n",
       "Cebolinho                                                1\n",
       "Pão, trigo, carcaça                                      1\n",
       "Feijão, branco cru                                       1\n",
       "Abrótea, crua                                            1\n",
       "Choco, cru                                               1\n",
       "Porco, rojões                                            1\n",
       "Pescada, posta                                           1\n",
       "Massa, esparguete cru                                    1\n",
       "Farinha, milho tipo 70                                   1\n",
       "Salsicha, n.e.                                           1\n",
       "Pó para sopa instantânea, creme de marisco               1\n",
       "Massa, cotovelos                                         1\n",
       "Arroz, carolino branqueado cru                           1\n",
       "Cubo de carne, galinha para caldo                        1\n",
       "Sumo, fresco de limão, espremido                         1\n",
       "Porco, barriga entremeada                                1\n",
       "Vaca, bife, valor médio de acém, alcatra e lombo cru     1\n",
       "Ervilhas, grão, frescas cruas                            1\n",
       "Frango, inteiro, sem pele, cru                           1\n",
       "Orégão, seco moído                                       1\n",
       "Caril                                                    1\n",
       "Vieiras                                                  1\n",
       "Lagosta, crua                                            1\n",
       "Malagueta, vermelha                                      1\n",
       "Robalo, cru                                              1\n",
       "Pota                                                     1\n",
       "Name: Ingrediente.Nome, dtype: int64"
      ]
     },
     "execution_count": 72,
     "metadata": {},
     "output_type": "execute_result"
    }
   ],
   "source": [
    "receitas[\"Ingrediente.Nome\"].value_counts()"
   ]
  },
  {
   "cell_type": "code",
   "execution_count": 74,
   "id": "608eced7",
   "metadata": {},
   "outputs": [
    {
     "data": {
      "text/html": [
       "<div>\n",
       "<style scoped>\n",
       "    .dataframe tbody tr th:only-of-type {\n",
       "        vertical-align: middle;\n",
       "    }\n",
       "\n",
       "    .dataframe tbody tr th {\n",
       "        vertical-align: top;\n",
       "    }\n",
       "\n",
       "    .dataframe thead th {\n",
       "        text-align: right;\n",
       "    }\n",
       "</style>\n",
       "<table border=\"1\" class=\"dataframe\">\n",
       "  <thead>\n",
       "    <tr style=\"text-align: right;\">\n",
       "      <th></th>\n",
       "      <th>IAN_ID</th>\n",
       "      <th>Entrevista</th>\n",
       "      <th>Refeição</th>\n",
       "      <th>Prato</th>\n",
       "      <th>Receita</th>\n",
       "      <th>ING_ID</th>\n",
       "      <th>Cru.Edível</th>\n",
       "      <th>Cru.Bruto</th>\n",
       "    </tr>\n",
       "  </thead>\n",
       "  <tbody>\n",
       "    <tr>\n",
       "      <th>0</th>\n",
       "      <td>1-01-01-0-13-059</td>\n",
       "      <td>1</td>\n",
       "      <td>Jantar</td>\n",
       "      <td>Mexilhão com Casca e sem Molho 2</td>\n",
       "      <td>RCP_637</td>\n",
       "      <td>80300014</td>\n",
       "      <td>20.054293</td>\n",
       "      <td>71.622475</td>\n",
       "    </tr>\n",
       "    <tr>\n",
       "      <th>1</th>\n",
       "      <td>1-02-01-1-15-020</td>\n",
       "      <td>2</td>\n",
       "      <td>Almoço</td>\n",
       "      <td>Arroz de Marisco</td>\n",
       "      <td>RCP_915</td>\n",
       "      <td>80300005</td>\n",
       "      <td>10.304279</td>\n",
       "      <td>36.800998</td>\n",
       "    </tr>\n",
       "    <tr>\n",
       "      <th>2</th>\n",
       "      <td>1-02-01-1-15-020</td>\n",
       "      <td>2</td>\n",
       "      <td>Almoço</td>\n",
       "      <td>Arroz de Marisco</td>\n",
       "      <td>RCP_915</td>\n",
       "      <td>80300023</td>\n",
       "      <td>3.864105</td>\n",
       "      <td>18.400499</td>\n",
       "    </tr>\n",
       "    <tr>\n",
       "      <th>3</th>\n",
       "      <td>1-04-01-0-04-119</td>\n",
       "      <td>2</td>\n",
       "      <td>Jantar</td>\n",
       "      <td>rojões com mexilhão</td>\n",
       "      <td>NaN</td>\n",
       "      <td>80300014</td>\n",
       "      <td>10.640000</td>\n",
       "      <td>38.000000</td>\n",
       "    </tr>\n",
       "    <tr>\n",
       "      <th>4</th>\n",
       "      <td>1-04-01-0-13-032</td>\n",
       "      <td>2</td>\n",
       "      <td>Almoço</td>\n",
       "      <td>Arroz de Marisco</td>\n",
       "      <td>RCP_915</td>\n",
       "      <td>80300005</td>\n",
       "      <td>2.033220</td>\n",
       "      <td>7.261500</td>\n",
       "    </tr>\n",
       "  </tbody>\n",
       "</table>\n",
       "</div>"
      ],
      "text/plain": [
       "             IAN_ID  Entrevista Refeição                             Prato  \\\n",
       "0  1-01-01-0-13-059           1   Jantar  Mexilhão com Casca e sem Molho 2   \n",
       "1  1-02-01-1-15-020           2   Almoço                  Arroz de Marisco   \n",
       "2  1-02-01-1-15-020           2   Almoço                  Arroz de Marisco   \n",
       "3  1-04-01-0-04-119           2   Jantar               rojões com mexilhão   \n",
       "4  1-04-01-0-13-032           2   Almoço                  Arroz de Marisco   \n",
       "\n",
       "   Receita    ING_ID  Cru.Edível  Cru.Bruto  \n",
       "0  RCP_637  80300014   20.054293  71.622475  \n",
       "1  RCP_915  80300005   10.304279  36.800998  \n",
       "2  RCP_915  80300023    3.864105  18.400499  \n",
       "3      NaN  80300014   10.640000  38.000000  \n",
       "4  RCP_915  80300005    2.033220   7.261500  "
      ]
     },
     "execution_count": 74,
     "metadata": {},
     "output_type": "execute_result"
    }
   ],
   "source": [
    "consumo.head()"
   ]
  },
  {
   "cell_type": "code",
   "execution_count": 75,
   "id": "8e9d71cd",
   "metadata": {},
   "outputs": [],
   "source": [
    "ingredientes = pd.read_excel(\"Bivalves_Consumo_IAN_AF.xlsx\",sheet_name=\"Foods\")"
   ]
  },
  {
   "cell_type": "code",
   "execution_count": 76,
   "id": "f6530a2e",
   "metadata": {},
   "outputs": [
    {
     "data": {
      "text/html": [
       "<div>\n",
       "<style scoped>\n",
       "    .dataframe tbody tr th:only-of-type {\n",
       "        vertical-align: middle;\n",
       "    }\n",
       "\n",
       "    .dataframe tbody tr th {\n",
       "        vertical-align: top;\n",
       "    }\n",
       "\n",
       "    .dataframe thead th {\n",
       "        text-align: right;\n",
       "    }\n",
       "</style>\n",
       "<table border=\"1\" class=\"dataframe\">\n",
       "  <thead>\n",
       "    <tr style=\"text-align: right;\">\n",
       "      <th></th>\n",
       "      <th>ING_ID</th>\n",
       "      <th>DESIGNAÇÃO</th>\n",
       "      <th>NOME.INGLÊS</th>\n",
       "      <th>Grupo_Relatorio</th>\n",
       "      <th>Edible.part..</th>\n",
       "      <th>ENERGY.kcal</th>\n",
       "      <th>ENERGY.kJ</th>\n",
       "      <th>WATER.g</th>\n",
       "      <th>PROTEIN.g</th>\n",
       "      <th>FAT.g</th>\n",
       "      <th>...</th>\n",
       "      <th>VITAMIN_C.mg</th>\n",
       "      <th>FOLATES.mcg</th>\n",
       "      <th>ASH.g</th>\n",
       "      <th>SODIUM.mg</th>\n",
       "      <th>POTASSIUM.mg</th>\n",
       "      <th>CALCIUM.mg</th>\n",
       "      <th>PHOSPHORUS.mg</th>\n",
       "      <th>MAGNESIUM.mg</th>\n",
       "      <th>IRON.mg</th>\n",
       "      <th>ZINC.mg</th>\n",
       "    </tr>\n",
       "  </thead>\n",
       "  <tbody>\n",
       "    <tr>\n",
       "      <th>0</th>\n",
       "      <td>80100012</td>\n",
       "      <td>Mexilhão, conserva</td>\n",
       "      <td>Canned mussel</td>\n",
       "      <td>G04.2.2</td>\n",
       "      <td>100</td>\n",
       "      <td>140.8</td>\n",
       "      <td>589.1072</td>\n",
       "      <td>63.6</td>\n",
       "      <td>25.6</td>\n",
       "      <td>2.0</td>\n",
       "      <td>...</td>\n",
       "      <td>22</td>\n",
       "      <td>29.0</td>\n",
       "      <td>1.5</td>\n",
       "      <td>112</td>\n",
       "      <td>628</td>\n",
       "      <td>92</td>\n",
       "      <td>338</td>\n",
       "      <td>18</td>\n",
       "      <td>28.0</td>\n",
       "      <td>2.7</td>\n",
       "    </tr>\n",
       "    <tr>\n",
       "      <th>1</th>\n",
       "      <td>80300005</td>\n",
       "      <td>Amêijoa, crua</td>\n",
       "      <td>Clams, raw</td>\n",
       "      <td>G04.2.2</td>\n",
       "      <td>27</td>\n",
       "      <td>65.3</td>\n",
       "      <td>273.2152</td>\n",
       "      <td>81.1</td>\n",
       "      <td>11.7</td>\n",
       "      <td>0.9</td>\n",
       "      <td>...</td>\n",
       "      <td>0</td>\n",
       "      <td>9.5</td>\n",
       "      <td>1.0</td>\n",
       "      <td>244</td>\n",
       "      <td>78</td>\n",
       "      <td>51</td>\n",
       "      <td>178</td>\n",
       "      <td>103</td>\n",
       "      <td>8.5</td>\n",
       "      <td>2.1</td>\n",
       "    </tr>\n",
       "    <tr>\n",
       "      <th>2</th>\n",
       "      <td>80300006</td>\n",
       "      <td>Amêijoa, aberta ao natural sem sal</td>\n",
       "      <td>Clams, boiled</td>\n",
       "      <td>G04.2.2</td>\n",
       "      <td>27</td>\n",
       "      <td>130.6</td>\n",
       "      <td>546.4304</td>\n",
       "      <td>65.9</td>\n",
       "      <td>23.4</td>\n",
       "      <td>1.8</td>\n",
       "      <td>...</td>\n",
       "      <td>0</td>\n",
       "      <td>16.0</td>\n",
       "      <td>2.0</td>\n",
       "      <td>488</td>\n",
       "      <td>156</td>\n",
       "      <td>102</td>\n",
       "      <td>356</td>\n",
       "      <td>206</td>\n",
       "      <td>17.0</td>\n",
       "      <td>4.2</td>\n",
       "    </tr>\n",
       "    <tr>\n",
       "      <th>3</th>\n",
       "      <td>80300014</td>\n",
       "      <td>Mexilhão, cru</td>\n",
       "      <td>Mussel, raw</td>\n",
       "      <td>G04.2.2</td>\n",
       "      <td>28</td>\n",
       "      <td>69.9</td>\n",
       "      <td>292.4616</td>\n",
       "      <td>82.5</td>\n",
       "      <td>12.1</td>\n",
       "      <td>1.5</td>\n",
       "      <td>...</td>\n",
       "      <td>0</td>\n",
       "      <td>37.0</td>\n",
       "      <td>2.1</td>\n",
       "      <td>290</td>\n",
       "      <td>280</td>\n",
       "      <td>56</td>\n",
       "      <td>240</td>\n",
       "      <td>36</td>\n",
       "      <td>3.5</td>\n",
       "      <td>4.1</td>\n",
       "    </tr>\n",
       "    <tr>\n",
       "      <th>4</th>\n",
       "      <td>80300015</td>\n",
       "      <td>Mexilhão, cozido sem sal</td>\n",
       "      <td>Mussel, boiled</td>\n",
       "      <td>G04.2.2</td>\n",
       "      <td>28</td>\n",
       "      <td>97.3</td>\n",
       "      <td>407.1032</td>\n",
       "      <td>75.8</td>\n",
       "      <td>16.8</td>\n",
       "      <td>2.1</td>\n",
       "      <td>...</td>\n",
       "      <td>0</td>\n",
       "      <td>36.0</td>\n",
       "      <td>2.5</td>\n",
       "      <td>362</td>\n",
       "      <td>135</td>\n",
       "      <td>78</td>\n",
       "      <td>190</td>\n",
       "      <td>42</td>\n",
       "      <td>4.0</td>\n",
       "      <td>4.1</td>\n",
       "    </tr>\n",
       "  </tbody>\n",
       "</table>\n",
       "<p>5 rows × 45 columns</p>\n",
       "</div>"
      ],
      "text/plain": [
       "     ING_ID                          DESIGNAÇÃO     NOME.INGLÊS  \\\n",
       "0  80100012                  Mexilhão, conserva   Canned mussel   \n",
       "1  80300005                       Amêijoa, crua      Clams, raw   \n",
       "2  80300006  Amêijoa, aberta ao natural sem sal   Clams, boiled   \n",
       "3  80300014                       Mexilhão, cru     Mussel, raw   \n",
       "4  80300015            Mexilhão, cozido sem sal  Mussel, boiled   \n",
       "\n",
       "  Grupo_Relatorio  Edible.part..  ENERGY.kcal  ENERGY.kJ  WATER.g  PROTEIN.g  \\\n",
       "0         G04.2.2            100        140.8   589.1072     63.6       25.6   \n",
       "1         G04.2.2             27         65.3   273.2152     81.1       11.7   \n",
       "2         G04.2.2             27        130.6   546.4304     65.9       23.4   \n",
       "3         G04.2.2             28         69.9   292.4616     82.5       12.1   \n",
       "4         G04.2.2             28         97.3   407.1032     75.8       16.8   \n",
       "\n",
       "   FAT.g  ...  VITAMIN_C.mg  FOLATES.mcg  ASH.g  SODIUM.mg  POTASSIUM.mg  \\\n",
       "0    2.0  ...            22         29.0    1.5        112           628   \n",
       "1    0.9  ...             0          9.5    1.0        244            78   \n",
       "2    1.8  ...             0         16.0    2.0        488           156   \n",
       "3    1.5  ...             0         37.0    2.1        290           280   \n",
       "4    2.1  ...             0         36.0    2.5        362           135   \n",
       "\n",
       "   CALCIUM.mg  PHOSPHORUS.mg  MAGNESIUM.mg  IRON.mg  ZINC.mg  \n",
       "0          92            338            18     28.0      2.7  \n",
       "1          51            178           103      8.5      2.1  \n",
       "2         102            356           206     17.0      4.2  \n",
       "3          56            240            36      3.5      4.1  \n",
       "4          78            190            42      4.0      4.1  \n",
       "\n",
       "[5 rows x 45 columns]"
      ]
     },
     "execution_count": 76,
     "metadata": {},
     "output_type": "execute_result"
    }
   ],
   "source": [
    "ingredientes.head()"
   ]
  },
  {
   "cell_type": "code",
   "execution_count": 78,
   "id": "7a2702b8",
   "metadata": {},
   "outputs": [
    {
     "data": {
      "text/plain": [
       "Mexilhão, conserva                     1\n",
       "Amêijoa, crua                          1\n",
       "Amêijoa, aberta ao natural sem sal     1\n",
       "Mexilhão, cru                          1\n",
       "Mexilhão, cozido sem sal               1\n",
       "Ostra, crua                            1\n",
       "Vieiras                                1\n",
       "Berbigão, cru                          1\n",
       "Berbigão, aberto ao natural sem sal    1\n",
       "Conquilha                              1\n",
       "Name: DESIGNAÇÃO, dtype: int64"
      ]
     },
     "execution_count": 78,
     "metadata": {},
     "output_type": "execute_result"
    }
   ],
   "source": [
    "ingredientes[\"DESIGNAÇÃO\"].value_counts()"
   ]
  },
  {
   "cell_type": "markdown",
   "id": "1a05573b",
   "metadata": {},
   "source": [
    "## Ameijoa"
   ]
  },
  {
   "cell_type": "code",
   "execution_count": 79,
   "id": "d88cff8e",
   "metadata": {},
   "outputs": [
    {
     "data": {
      "text/plain": [
       "80300005    14\n",
       "Name: ING_ID, dtype: int64"
      ]
     },
     "execution_count": 79,
     "metadata": {},
     "output_type": "execute_result"
    }
   ],
   "source": [
    "receitas[receitas[\"Ingrediente.Nome\"]==\"Amêijoa, crua\"][\"ING_ID\"].value_counts()"
   ]
  },
  {
   "cell_type": "code",
   "execution_count": 81,
   "id": "6eeebade",
   "metadata": {},
   "outputs": [
    {
     "data": {
      "text/plain": [
       "80300005    1\n",
       "Name: ING_ID, dtype: int64"
      ]
     },
     "execution_count": 81,
     "metadata": {},
     "output_type": "execute_result"
    }
   ],
   "source": [
    "ingredientes[ingredientes[\"DESIGNAÇÃO\"]==\"Amêijoa, crua\"][\"ING_ID\"].value_counts()"
   ]
  },
  {
   "cell_type": "code",
   "execution_count": 84,
   "id": "8d0340ae",
   "metadata": {},
   "outputs": [
    {
     "data": {
      "text/plain": [
       "80300006    1\n",
       "Name: ING_ID, dtype: int64"
      ]
     },
     "execution_count": 84,
     "metadata": {},
     "output_type": "execute_result"
    }
   ],
   "source": [
    "ingredientes[ingredientes[\"DESIGNAÇÃO\"]==\"Amêijoa, aberta ao natural sem sal\"][\"ING_ID\"].value_counts()"
   ]
  },
  {
   "cell_type": "markdown",
   "id": "27b6c070",
   "metadata": {},
   "source": [
    "> Ameijia, Crua ---ING_ID=80300005\n",
    "\n",
    "> Ameijoa, aberta oa natural sem sal ---- ING_ID = 80300006"
   ]
  },
  {
   "cell_type": "code",
   "execution_count": 89,
   "id": "d8398e77",
   "metadata": {},
   "outputs": [
    {
     "data": {
      "text/html": [
       "<div>\n",
       "<style scoped>\n",
       "    .dataframe tbody tr th:only-of-type {\n",
       "        vertical-align: middle;\n",
       "    }\n",
       "\n",
       "    .dataframe tbody tr th {\n",
       "        vertical-align: top;\n",
       "    }\n",
       "\n",
       "    .dataframe thead th {\n",
       "        text-align: right;\n",
       "    }\n",
       "</style>\n",
       "<table border=\"1\" class=\"dataframe\">\n",
       "  <thead>\n",
       "    <tr style=\"text-align: right;\">\n",
       "      <th></th>\n",
       "      <th>IAN_ID</th>\n",
       "      <th>Entrevista</th>\n",
       "      <th>Refeição</th>\n",
       "      <th>Prato</th>\n",
       "      <th>Receita</th>\n",
       "      <th>ING_ID</th>\n",
       "      <th>Cru.Edível</th>\n",
       "      <th>Cru.Bruto</th>\n",
       "    </tr>\n",
       "  </thead>\n",
       "  <tbody>\n",
       "    <tr>\n",
       "      <th>1</th>\n",
       "      <td>1-02-01-1-15-020</td>\n",
       "      <td>2</td>\n",
       "      <td>Almoço</td>\n",
       "      <td>Arroz de Marisco</td>\n",
       "      <td>RCP_915</td>\n",
       "      <td>80300005</td>\n",
       "      <td>10.304279</td>\n",
       "      <td>36.800998</td>\n",
       "    </tr>\n",
       "    <tr>\n",
       "      <th>4</th>\n",
       "      <td>1-04-01-0-13-032</td>\n",
       "      <td>2</td>\n",
       "      <td>Almoço</td>\n",
       "      <td>Arroz de Marisco</td>\n",
       "      <td>RCP_915</td>\n",
       "      <td>80300005</td>\n",
       "      <td>2.033220</td>\n",
       "      <td>7.261500</td>\n",
       "    </tr>\n",
       "    <tr>\n",
       "      <th>6</th>\n",
       "      <td>1-04-01-0-16-136</td>\n",
       "      <td>1</td>\n",
       "      <td>Almoço</td>\n",
       "      <td>Amêijoas à Bulhão Pato</td>\n",
       "      <td>RCP_1379</td>\n",
       "      <td>80300005</td>\n",
       "      <td>35.653527</td>\n",
       "      <td>127.334025</td>\n",
       "    </tr>\n",
       "    <tr>\n",
       "      <th>7</th>\n",
       "      <td>1-08-01-0-07-026</td>\n",
       "      <td>2</td>\n",
       "      <td>Almoço</td>\n",
       "      <td>Feijoada de Marisco</td>\n",
       "      <td>RCP_52</td>\n",
       "      <td>80300005</td>\n",
       "      <td>5.148542</td>\n",
       "      <td>18.387651</td>\n",
       "    </tr>\n",
       "    <tr>\n",
       "      <th>9</th>\n",
       "      <td>1-08-01-0-16-135</td>\n",
       "      <td>1</td>\n",
       "      <td>Almoço</td>\n",
       "      <td>Carne de Porco à Alentejana</td>\n",
       "      <td>RCP_609</td>\n",
       "      <td>80300005</td>\n",
       "      <td>28.921198</td>\n",
       "      <td>103.289994</td>\n",
       "    </tr>\n",
       "    <tr>\n",
       "      <th>...</th>\n",
       "      <td>...</td>\n",
       "      <td>...</td>\n",
       "      <td>...</td>\n",
       "      <td>...</td>\n",
       "      <td>...</td>\n",
       "      <td>...</td>\n",
       "      <td>...</td>\n",
       "      <td>...</td>\n",
       "    </tr>\n",
       "    <tr>\n",
       "      <th>294</th>\n",
       "      <td>7-05-06-1-12-339</td>\n",
       "      <td>2</td>\n",
       "      <td>Almoço</td>\n",
       "      <td>Massa de Marisco</td>\n",
       "      <td>RCP_715</td>\n",
       "      <td>80300005</td>\n",
       "      <td>17.476199</td>\n",
       "      <td>62.414998</td>\n",
       "    </tr>\n",
       "    <tr>\n",
       "      <th>295</th>\n",
       "      <td>7-05-07-0-17-366</td>\n",
       "      <td>2</td>\n",
       "      <td>Jantar</td>\n",
       "      <td>Carne de Porco à Alentejana</td>\n",
       "      <td>RCP_609</td>\n",
       "      <td>80300005</td>\n",
       "      <td>28.921198</td>\n",
       "      <td>103.289994</td>\n",
       "    </tr>\n",
       "    <tr>\n",
       "      <th>296</th>\n",
       "      <td>7-06-03-0-02-080</td>\n",
       "      <td>1</td>\n",
       "      <td>Jantar</td>\n",
       "      <td>Carne de Porco à Alentejana</td>\n",
       "      <td>RCP_609</td>\n",
       "      <td>80300005</td>\n",
       "      <td>16.243413</td>\n",
       "      <td>58.012188</td>\n",
       "    </tr>\n",
       "    <tr>\n",
       "      <th>297</th>\n",
       "      <td>7-06-03-0-11-028</td>\n",
       "      <td>2</td>\n",
       "      <td>Jantar</td>\n",
       "      <td>Carne de Porco à Alentejana</td>\n",
       "      <td>RCP_609</td>\n",
       "      <td>80300005</td>\n",
       "      <td>16.243413</td>\n",
       "      <td>58.012188</td>\n",
       "    </tr>\n",
       "    <tr>\n",
       "      <th>298</th>\n",
       "      <td>7-06-03-1-03-151</td>\n",
       "      <td>1</td>\n",
       "      <td>Almoço</td>\n",
       "      <td>Carne de Porco à Alentejana</td>\n",
       "      <td>RCP_609</td>\n",
       "      <td>80300005</td>\n",
       "      <td>28.921198</td>\n",
       "      <td>103.289994</td>\n",
       "    </tr>\n",
       "  </tbody>\n",
       "</table>\n",
       "<p>208 rows × 8 columns</p>\n",
       "</div>"
      ],
      "text/plain": [
       "               IAN_ID  Entrevista Refeição                        Prato  \\\n",
       "1    1-02-01-1-15-020           2   Almoço             Arroz de Marisco   \n",
       "4    1-04-01-0-13-032           2   Almoço             Arroz de Marisco   \n",
       "6    1-04-01-0-16-136           1   Almoço       Amêijoas à Bulhão Pato   \n",
       "7    1-08-01-0-07-026           2   Almoço          Feijoada de Marisco   \n",
       "9    1-08-01-0-16-135           1   Almoço  Carne de Porco à Alentejana   \n",
       "..                ...         ...      ...                          ...   \n",
       "294  7-05-06-1-12-339           2   Almoço             Massa de Marisco   \n",
       "295  7-05-07-0-17-366           2   Jantar  Carne de Porco à Alentejana   \n",
       "296  7-06-03-0-02-080           1   Jantar  Carne de Porco à Alentejana   \n",
       "297  7-06-03-0-11-028           2   Jantar  Carne de Porco à Alentejana   \n",
       "298  7-06-03-1-03-151           1   Almoço  Carne de Porco à Alentejana   \n",
       "\n",
       "      Receita    ING_ID  Cru.Edível   Cru.Bruto  \n",
       "1     RCP_915  80300005   10.304279   36.800998  \n",
       "4     RCP_915  80300005    2.033220    7.261500  \n",
       "6    RCP_1379  80300005   35.653527  127.334025  \n",
       "7      RCP_52  80300005    5.148542   18.387651  \n",
       "9     RCP_609  80300005   28.921198  103.289994  \n",
       "..        ...       ...         ...         ...  \n",
       "294   RCP_715  80300005   17.476199   62.414998  \n",
       "295   RCP_609  80300005   28.921198  103.289994  \n",
       "296   RCP_609  80300005   16.243413   58.012188  \n",
       "297   RCP_609  80300005   16.243413   58.012188  \n",
       "298   RCP_609  80300005   28.921198  103.289994  \n",
       "\n",
       "[208 rows x 8 columns]"
      ]
     },
     "execution_count": 89,
     "metadata": {},
     "output_type": "execute_result"
    }
   ],
   "source": [
    "# Let´s in the consumo dataset the ameijoa data\n",
    "ameijoa = consumo[(consumo[\"ING_ID\"]==80300005) | (consumo[\"ING_ID\"]==80300006)]\n",
    "ameijoa"
   ]
  },
  {
   "cell_type": "code",
   "execution_count": 90,
   "id": "a16d7135",
   "metadata": {},
   "outputs": [
    {
     "data": {
      "text/plain": [
       "80300005    199\n",
       "80300006      9\n",
       "Name: ING_ID, dtype: int64"
      ]
     },
     "execution_count": 90,
     "metadata": {},
     "output_type": "execute_result"
    }
   ],
   "source": [
    "ameijoa[\"ING_ID\"].value_counts()"
   ]
  },
  {
   "cell_type": "code",
   "execution_count": null,
   "id": "0fe17392",
   "metadata": {},
   "outputs": [],
   "source": [
    "#ameijoa.to_excel(\"ameijoa.xlsx\")"
   ]
  },
  {
   "cell_type": "code",
   "execution_count": 91,
   "id": "b4f6504a",
   "metadata": {},
   "outputs": [
    {
     "data": {
      "text/plain": [
       "Carne de Porco à Alentejana                                                              71\n",
       "Massa de Marisco                                                                         48\n",
       "Arroz de Marisco                                                                         23\n",
       "Feijoada de Marisco                                                                      17\n",
       "Amêijoas                                                                                 11\n",
       "Molho de Amêijoa                                                                          8\n",
       "Amêijoas à Bulhão Pato                                                                    6\n",
       "Xérem                                                                                     6\n",
       "Abrótea Assada com Molho de Amêijoa                                                       6\n",
       "Massa de peixe                                                                            4\n",
       "Cataplana de marisco                                                                      3\n",
       "Sopa de Marisco com Massa                                                                 1\n",
       "Robalo estufado à bulhão pato                                                             1\n",
       "Cataplana de bacalhau                                                                     1\n",
       "Cataplana, cherne, salmão, camarão, ameijoas, cebola, pimento verde, pimento vermelho     1\n",
       "Arroz de bacalhau com ameijoas                                                            1\n",
       "Name: Prato, dtype: int64"
      ]
     },
     "execution_count": 91,
     "metadata": {},
     "output_type": "execute_result"
    }
   ],
   "source": [
    "# Receipts with ameijoa\n",
    "ameijoa[\"Prato\"].value_counts()"
   ]
  },
  {
   "cell_type": "markdown",
   "id": "7a6808a3",
   "metadata": {},
   "source": [
    "__Let´s Merge the \"Subjects\" tabel Based on the \"IAN_ID\" from ameijoa dataset__"
   ]
  },
  {
   "cell_type": "code",
   "execution_count": 92,
   "id": "8049fe2f",
   "metadata": {},
   "outputs": [],
   "source": [
    "subjects=pd.read_excel(\"Bivalves_Consumo_IAN_AF.xlsx\",sheet_name=\"Subjects\")"
   ]
  },
  {
   "cell_type": "code",
   "execution_count": 93,
   "id": "367301cb",
   "metadata": {},
   "outputs": [
    {
     "data": {
      "text/html": [
       "<div>\n",
       "<style scoped>\n",
       "    .dataframe tbody tr th:only-of-type {\n",
       "        vertical-align: middle;\n",
       "    }\n",
       "\n",
       "    .dataframe tbody tr th {\n",
       "        vertical-align: top;\n",
       "    }\n",
       "\n",
       "    .dataframe thead th {\n",
       "        text-align: right;\n",
       "    }\n",
       "</style>\n",
       "<table border=\"1\" class=\"dataframe\">\n",
       "  <thead>\n",
       "    <tr style=\"text-align: right;\">\n",
       "      <th></th>\n",
       "      <th>IAN_ID</th>\n",
       "      <th>NUT</th>\n",
       "      <th>PSU</th>\n",
       "      <th>Ponderador1</th>\n",
       "      <th>Ponderador2</th>\n",
       "      <th>Sexo</th>\n",
       "      <th>Idade</th>\n",
       "      <th>GrupoEtario</th>\n",
       "    </tr>\n",
       "  </thead>\n",
       "  <tbody>\n",
       "    <tr>\n",
       "      <th>0</th>\n",
       "      <td>1-01-01-0-13-059</td>\n",
       "      <td>1</td>\n",
       "      <td>1.01</td>\n",
       "      <td>4640.957447</td>\n",
       "      <td>4640.957447</td>\n",
       "      <td>1</td>\n",
       "      <td>5</td>\n",
       "      <td>1</td>\n",
       "    </tr>\n",
       "    <tr>\n",
       "      <th>1</th>\n",
       "      <td>1-02-01-1-15-020</td>\n",
       "      <td>1</td>\n",
       "      <td>1.02</td>\n",
       "      <td>5694.805467</td>\n",
       "      <td>6749.502000</td>\n",
       "      <td>1</td>\n",
       "      <td>28</td>\n",
       "      <td>3</td>\n",
       "    </tr>\n",
       "    <tr>\n",
       "      <th>2</th>\n",
       "      <td>1-04-01-0-04-119</td>\n",
       "      <td>1</td>\n",
       "      <td>1.04</td>\n",
       "      <td>1768.518519</td>\n",
       "      <td>1768.519000</td>\n",
       "      <td>0</td>\n",
       "      <td>11</td>\n",
       "      <td>2</td>\n",
       "    </tr>\n",
       "    <tr>\n",
       "      <th>3</th>\n",
       "      <td>1-04-01-0-13-032</td>\n",
       "      <td>1</td>\n",
       "      <td>1.04</td>\n",
       "      <td>816.666667</td>\n",
       "      <td>816.666700</td>\n",
       "      <td>1</td>\n",
       "      <td>5</td>\n",
       "      <td>1</td>\n",
       "    </tr>\n",
       "    <tr>\n",
       "      <th>4</th>\n",
       "      <td>1-04-01-0-16-136</td>\n",
       "      <td>1</td>\n",
       "      <td>1.04</td>\n",
       "      <td>5302.083333</td>\n",
       "      <td>5302.083000</td>\n",
       "      <td>1</td>\n",
       "      <td>57</td>\n",
       "      <td>3</td>\n",
       "    </tr>\n",
       "  </tbody>\n",
       "</table>\n",
       "</div>"
      ],
      "text/plain": [
       "             IAN_ID  NUT   PSU  Ponderador1  Ponderador2  Sexo  Idade  \\\n",
       "0  1-01-01-0-13-059    1  1.01  4640.957447  4640.957447     1      5   \n",
       "1  1-02-01-1-15-020    1  1.02  5694.805467  6749.502000     1     28   \n",
       "2  1-04-01-0-04-119    1  1.04  1768.518519  1768.519000     0     11   \n",
       "3  1-04-01-0-13-032    1  1.04   816.666667   816.666700     1      5   \n",
       "4  1-04-01-0-16-136    1  1.04  5302.083333  5302.083000     1     57   \n",
       "\n",
       "   GrupoEtario  \n",
       "0            1  \n",
       "1            3  \n",
       "2            2  \n",
       "3            1  \n",
       "4            3  "
      ]
     },
     "execution_count": 93,
     "metadata": {},
     "output_type": "execute_result"
    }
   ],
   "source": [
    "subjects.head()"
   ]
  },
  {
   "cell_type": "code",
   "execution_count": 94,
   "id": "aa6f2d5e",
   "metadata": {},
   "outputs": [],
   "source": [
    "ameijoa_consumption=ameijoa.merge(subjects,how=\"left\",left_on=\"IAN_ID\",right_on=\"IAN_ID\")"
   ]
  },
  {
   "cell_type": "code",
   "execution_count": 96,
   "id": "4ddde4a0",
   "metadata": {},
   "outputs": [
    {
     "data": {
      "text/html": [
       "<div>\n",
       "<style scoped>\n",
       "    .dataframe tbody tr th:only-of-type {\n",
       "        vertical-align: middle;\n",
       "    }\n",
       "\n",
       "    .dataframe tbody tr th {\n",
       "        vertical-align: top;\n",
       "    }\n",
       "\n",
       "    .dataframe thead th {\n",
       "        text-align: right;\n",
       "    }\n",
       "</style>\n",
       "<table border=\"1\" class=\"dataframe\">\n",
       "  <thead>\n",
       "    <tr style=\"text-align: right;\">\n",
       "      <th></th>\n",
       "      <th>IAN_ID</th>\n",
       "      <th>Entrevista</th>\n",
       "      <th>Refeição</th>\n",
       "      <th>Prato</th>\n",
       "      <th>Receita</th>\n",
       "      <th>ING_ID</th>\n",
       "      <th>Cru.Edível</th>\n",
       "      <th>Cru.Bruto</th>\n",
       "      <th>NUT</th>\n",
       "      <th>PSU</th>\n",
       "      <th>Ponderador1</th>\n",
       "      <th>Ponderador2</th>\n",
       "      <th>Sexo</th>\n",
       "      <th>Idade</th>\n",
       "      <th>GrupoEtario</th>\n",
       "    </tr>\n",
       "  </thead>\n",
       "  <tbody>\n",
       "    <tr>\n",
       "      <th>0</th>\n",
       "      <td>1-02-01-1-15-020</td>\n",
       "      <td>2</td>\n",
       "      <td>Almoço</td>\n",
       "      <td>Arroz de Marisco</td>\n",
       "      <td>RCP_915</td>\n",
       "      <td>80300005</td>\n",
       "      <td>10.304279</td>\n",
       "      <td>36.800998</td>\n",
       "      <td>1</td>\n",
       "      <td>1.02</td>\n",
       "      <td>5694.805467</td>\n",
       "      <td>6749.50200</td>\n",
       "      <td>1</td>\n",
       "      <td>28</td>\n",
       "      <td>3</td>\n",
       "    </tr>\n",
       "    <tr>\n",
       "      <th>1</th>\n",
       "      <td>1-04-01-0-13-032</td>\n",
       "      <td>2</td>\n",
       "      <td>Almoço</td>\n",
       "      <td>Arroz de Marisco</td>\n",
       "      <td>RCP_915</td>\n",
       "      <td>80300005</td>\n",
       "      <td>2.033220</td>\n",
       "      <td>7.261500</td>\n",
       "      <td>1</td>\n",
       "      <td>1.04</td>\n",
       "      <td>816.666667</td>\n",
       "      <td>816.66670</td>\n",
       "      <td>1</td>\n",
       "      <td>5</td>\n",
       "      <td>1</td>\n",
       "    </tr>\n",
       "    <tr>\n",
       "      <th>2</th>\n",
       "      <td>1-04-01-0-16-136</td>\n",
       "      <td>1</td>\n",
       "      <td>Almoço</td>\n",
       "      <td>Amêijoas à Bulhão Pato</td>\n",
       "      <td>RCP_1379</td>\n",
       "      <td>80300005</td>\n",
       "      <td>35.653527</td>\n",
       "      <td>127.334025</td>\n",
       "      <td>1</td>\n",
       "      <td>1.04</td>\n",
       "      <td>5302.083333</td>\n",
       "      <td>5302.08300</td>\n",
       "      <td>1</td>\n",
       "      <td>57</td>\n",
       "      <td>3</td>\n",
       "    </tr>\n",
       "    <tr>\n",
       "      <th>3</th>\n",
       "      <td>1-08-01-0-07-026</td>\n",
       "      <td>2</td>\n",
       "      <td>Almoço</td>\n",
       "      <td>Feijoada de Marisco</td>\n",
       "      <td>RCP_52</td>\n",
       "      <td>80300005</td>\n",
       "      <td>5.148542</td>\n",
       "      <td>18.387651</td>\n",
       "      <td>1</td>\n",
       "      <td>1.08</td>\n",
       "      <td>7124.326538</td>\n",
       "      <td>7124.32700</td>\n",
       "      <td>0</td>\n",
       "      <td>70</td>\n",
       "      <td>4</td>\n",
       "    </tr>\n",
       "    <tr>\n",
       "      <th>4</th>\n",
       "      <td>1-08-01-0-16-135</td>\n",
       "      <td>1</td>\n",
       "      <td>Almoço</td>\n",
       "      <td>Carne de Porco à Alentejana</td>\n",
       "      <td>RCP_609</td>\n",
       "      <td>80300005</td>\n",
       "      <td>28.921198</td>\n",
       "      <td>103.289994</td>\n",
       "      <td>1</td>\n",
       "      <td>1.08</td>\n",
       "      <td>8443.085944</td>\n",
       "      <td>8443.08600</td>\n",
       "      <td>1</td>\n",
       "      <td>37</td>\n",
       "      <td>3</td>\n",
       "    </tr>\n",
       "    <tr>\n",
       "      <th>...</th>\n",
       "      <td>...</td>\n",
       "      <td>...</td>\n",
       "      <td>...</td>\n",
       "      <td>...</td>\n",
       "      <td>...</td>\n",
       "      <td>...</td>\n",
       "      <td>...</td>\n",
       "      <td>...</td>\n",
       "      <td>...</td>\n",
       "      <td>...</td>\n",
       "      <td>...</td>\n",
       "      <td>...</td>\n",
       "      <td>...</td>\n",
       "      <td>...</td>\n",
       "      <td>...</td>\n",
       "    </tr>\n",
       "    <tr>\n",
       "      <th>203</th>\n",
       "      <td>7-05-06-1-12-339</td>\n",
       "      <td>2</td>\n",
       "      <td>Almoço</td>\n",
       "      <td>Massa de Marisco</td>\n",
       "      <td>RCP_715</td>\n",
       "      <td>80300005</td>\n",
       "      <td>17.476199</td>\n",
       "      <td>62.414998</td>\n",
       "      <td>7</td>\n",
       "      <td>7.05</td>\n",
       "      <td>73.404540</td>\n",
       "      <td>76.14589</td>\n",
       "      <td>1</td>\n",
       "      <td>2</td>\n",
       "      <td>1</td>\n",
       "    </tr>\n",
       "    <tr>\n",
       "      <th>204</th>\n",
       "      <td>7-05-07-0-17-366</td>\n",
       "      <td>2</td>\n",
       "      <td>Jantar</td>\n",
       "      <td>Carne de Porco à Alentejana</td>\n",
       "      <td>RCP_609</td>\n",
       "      <td>80300005</td>\n",
       "      <td>28.921198</td>\n",
       "      <td>103.289994</td>\n",
       "      <td>7</td>\n",
       "      <td>7.05</td>\n",
       "      <td>390.484831</td>\n",
       "      <td>443.40900</td>\n",
       "      <td>1</td>\n",
       "      <td>66</td>\n",
       "      <td>4</td>\n",
       "    </tr>\n",
       "    <tr>\n",
       "      <th>205</th>\n",
       "      <td>7-06-03-0-02-080</td>\n",
       "      <td>1</td>\n",
       "      <td>Jantar</td>\n",
       "      <td>Carne de Porco à Alentejana</td>\n",
       "      <td>RCP_609</td>\n",
       "      <td>80300005</td>\n",
       "      <td>16.243413</td>\n",
       "      <td>58.012188</td>\n",
       "      <td>7</td>\n",
       "      <td>7.06</td>\n",
       "      <td>126.358749</td>\n",
       "      <td>151.88560</td>\n",
       "      <td>0</td>\n",
       "      <td>3</td>\n",
       "      <td>1</td>\n",
       "    </tr>\n",
       "    <tr>\n",
       "      <th>206</th>\n",
       "      <td>7-06-03-0-11-028</td>\n",
       "      <td>2</td>\n",
       "      <td>Jantar</td>\n",
       "      <td>Carne de Porco à Alentejana</td>\n",
       "      <td>RCP_609</td>\n",
       "      <td>80300005</td>\n",
       "      <td>16.243413</td>\n",
       "      <td>58.012188</td>\n",
       "      <td>7</td>\n",
       "      <td>7.06</td>\n",
       "      <td>46.835066</td>\n",
       "      <td>54.91904</td>\n",
       "      <td>1</td>\n",
       "      <td>1</td>\n",
       "      <td>1</td>\n",
       "    </tr>\n",
       "    <tr>\n",
       "      <th>207</th>\n",
       "      <td>7-06-03-1-03-151</td>\n",
       "      <td>1</td>\n",
       "      <td>Almoço</td>\n",
       "      <td>Carne de Porco à Alentejana</td>\n",
       "      <td>RCP_609</td>\n",
       "      <td>80300005</td>\n",
       "      <td>28.921198</td>\n",
       "      <td>103.289994</td>\n",
       "      <td>7</td>\n",
       "      <td>7.06</td>\n",
       "      <td>126.358749</td>\n",
       "      <td>151.88560</td>\n",
       "      <td>0</td>\n",
       "      <td>8</td>\n",
       "      <td>1</td>\n",
       "    </tr>\n",
       "  </tbody>\n",
       "</table>\n",
       "<p>208 rows × 15 columns</p>\n",
       "</div>"
      ],
      "text/plain": [
       "               IAN_ID  Entrevista Refeição                        Prato  \\\n",
       "0    1-02-01-1-15-020           2   Almoço             Arroz de Marisco   \n",
       "1    1-04-01-0-13-032           2   Almoço             Arroz de Marisco   \n",
       "2    1-04-01-0-16-136           1   Almoço       Amêijoas à Bulhão Pato   \n",
       "3    1-08-01-0-07-026           2   Almoço          Feijoada de Marisco   \n",
       "4    1-08-01-0-16-135           1   Almoço  Carne de Porco à Alentejana   \n",
       "..                ...         ...      ...                          ...   \n",
       "203  7-05-06-1-12-339           2   Almoço             Massa de Marisco   \n",
       "204  7-05-07-0-17-366           2   Jantar  Carne de Porco à Alentejana   \n",
       "205  7-06-03-0-02-080           1   Jantar  Carne de Porco à Alentejana   \n",
       "206  7-06-03-0-11-028           2   Jantar  Carne de Porco à Alentejana   \n",
       "207  7-06-03-1-03-151           1   Almoço  Carne de Porco à Alentejana   \n",
       "\n",
       "      Receita    ING_ID  Cru.Edível   Cru.Bruto  NUT   PSU  Ponderador1  \\\n",
       "0     RCP_915  80300005   10.304279   36.800998    1  1.02  5694.805467   \n",
       "1     RCP_915  80300005    2.033220    7.261500    1  1.04   816.666667   \n",
       "2    RCP_1379  80300005   35.653527  127.334025    1  1.04  5302.083333   \n",
       "3      RCP_52  80300005    5.148542   18.387651    1  1.08  7124.326538   \n",
       "4     RCP_609  80300005   28.921198  103.289994    1  1.08  8443.085944   \n",
       "..        ...       ...         ...         ...  ...   ...          ...   \n",
       "203   RCP_715  80300005   17.476199   62.414998    7  7.05    73.404540   \n",
       "204   RCP_609  80300005   28.921198  103.289994    7  7.05   390.484831   \n",
       "205   RCP_609  80300005   16.243413   58.012188    7  7.06   126.358749   \n",
       "206   RCP_609  80300005   16.243413   58.012188    7  7.06    46.835066   \n",
       "207   RCP_609  80300005   28.921198  103.289994    7  7.06   126.358749   \n",
       "\n",
       "     Ponderador2  Sexo  Idade  GrupoEtario  \n",
       "0     6749.50200     1     28            3  \n",
       "1      816.66670     1      5            1  \n",
       "2     5302.08300     1     57            3  \n",
       "3     7124.32700     0     70            4  \n",
       "4     8443.08600     1     37            3  \n",
       "..           ...   ...    ...          ...  \n",
       "203     76.14589     1      2            1  \n",
       "204    443.40900     1     66            4  \n",
       "205    151.88560     0      3            1  \n",
       "206     54.91904     1      1            1  \n",
       "207    151.88560     0      8            1  \n",
       "\n",
       "[208 rows x 15 columns]"
      ]
     },
     "execution_count": 96,
     "metadata": {},
     "output_type": "execute_result"
    }
   ],
   "source": [
    "ameijoa_consumption"
   ]
  },
  {
   "cell_type": "markdown",
   "id": "960452a3",
   "metadata": {},
   "source": [
    "## Mexilhão"
   ]
  },
  {
   "cell_type": "code",
   "execution_count": 97,
   "id": "19ecf701",
   "metadata": {},
   "outputs": [
    {
     "data": {
      "text/html": [
       "<div>\n",
       "<style scoped>\n",
       "    .dataframe tbody tr th:only-of-type {\n",
       "        vertical-align: middle;\n",
       "    }\n",
       "\n",
       "    .dataframe tbody tr th {\n",
       "        vertical-align: top;\n",
       "    }\n",
       "\n",
       "    .dataframe thead th {\n",
       "        text-align: right;\n",
       "    }\n",
       "</style>\n",
       "<table border=\"1\" class=\"dataframe\">\n",
       "  <thead>\n",
       "    <tr style=\"text-align: right;\">\n",
       "      <th></th>\n",
       "      <th>Receita</th>\n",
       "      <th>Nome Receita</th>\n",
       "      <th>ING_ID</th>\n",
       "      <th>Ingrediente.Nome</th>\n",
       "      <th>Percentagem</th>\n",
       "    </tr>\n",
       "  </thead>\n",
       "  <tbody>\n",
       "    <tr>\n",
       "      <th>0</th>\n",
       "      <td>RCP_1222</td>\n",
       "      <td>Robalo estufado à bulhão pato</td>\n",
       "      <td>20800005</td>\n",
       "      <td>Alho, cru</td>\n",
       "      <td>0.56</td>\n",
       "    </tr>\n",
       "    <tr>\n",
       "      <th>1</th>\n",
       "      <td>RCP_1222</td>\n",
       "      <td>Robalo estufado à bulhão pato</td>\n",
       "      <td>70500013</td>\n",
       "      <td>Chouriço, sangue cru</td>\n",
       "      <td>1.24</td>\n",
       "    </tr>\n",
       "    <tr>\n",
       "      <th>2</th>\n",
       "      <td>RCP_1222</td>\n",
       "      <td>Robalo estufado à bulhão pato</td>\n",
       "      <td>80200007</td>\n",
       "      <td>Robalo, cru</td>\n",
       "      <td>30.96</td>\n",
       "    </tr>\n",
       "    <tr>\n",
       "      <th>3</th>\n",
       "      <td>RCP_1222</td>\n",
       "      <td>Robalo estufado à bulhão pato</td>\n",
       "      <td>80300005</td>\n",
       "      <td>Amêijoa, crua</td>\n",
       "      <td>61.92</td>\n",
       "    </tr>\n",
       "    <tr>\n",
       "      <th>4</th>\n",
       "      <td>RCP_1222</td>\n",
       "      <td>Robalo estufado à bulhão pato</td>\n",
       "      <td>100100009</td>\n",
       "      <td>Azeite, n.e.</td>\n",
       "      <td>4.95</td>\n",
       "    </tr>\n",
       "  </tbody>\n",
       "</table>\n",
       "</div>"
      ],
      "text/plain": [
       "    Receita                   Nome Receita     ING_ID      Ingrediente.Nome  \\\n",
       "0  RCP_1222  Robalo estufado à bulhão pato   20800005             Alho, cru   \n",
       "1  RCP_1222  Robalo estufado à bulhão pato   70500013  Chouriço, sangue cru   \n",
       "2  RCP_1222  Robalo estufado à bulhão pato   80200007           Robalo, cru   \n",
       "3  RCP_1222  Robalo estufado à bulhão pato   80300005         Amêijoa, crua   \n",
       "4  RCP_1222  Robalo estufado à bulhão pato  100100009          Azeite, n.e.   \n",
       "\n",
       "   Percentagem  \n",
       "0         0.56  \n",
       "1         1.24  \n",
       "2        30.96  \n",
       "3        61.92  \n",
       "4         4.95  "
      ]
     },
     "execution_count": 97,
     "metadata": {},
     "output_type": "execute_result"
    }
   ],
   "source": [
    "receitas.head()"
   ]
  },
  {
   "cell_type": "code",
   "execution_count": 102,
   "id": "4cecaaf0",
   "metadata": {},
   "outputs": [
    {
     "data": {
      "text/plain": [
       "80300014    7\n",
       "Name: ING_ID, dtype: int64"
      ]
     },
     "execution_count": 102,
     "metadata": {},
     "output_type": "execute_result"
    }
   ],
   "source": [
    "receitas[receitas[\"Ingrediente.Nome\"]==\"Mexilhão, cru\"][\"ING_ID\"].value_counts()"
   ]
  },
  {
   "cell_type": "code",
   "execution_count": 104,
   "id": "567a80fe",
   "metadata": {},
   "outputs": [
    {
     "data": {
      "text/plain": [
       "80300014    1\n",
       "Name: ING_ID, dtype: int64"
      ]
     },
     "execution_count": 104,
     "metadata": {},
     "output_type": "execute_result"
    }
   ],
   "source": [
    "ingredientes[ingredientes[\"DESIGNAÇÃO\"]==\"Mexilhão, cru\"][\"ING_ID\"].value_counts()"
   ]
  },
  {
   "cell_type": "code",
   "execution_count": 101,
   "id": "81251d69",
   "metadata": {},
   "outputs": [
    {
     "data": {
      "text/plain": [
       "80300015    1\n",
       "Name: ING_ID, dtype: int64"
      ]
     },
     "execution_count": 101,
     "metadata": {},
     "output_type": "execute_result"
    }
   ],
   "source": [
    "ingredientes[ingredientes[\"DESIGNAÇÃO\"]==\"Mexilhão, cozido sem sal\"][\"ING_ID\"].value_counts()"
   ]
  },
  {
   "cell_type": "code",
   "execution_count": 106,
   "id": "faf7c212",
   "metadata": {},
   "outputs": [
    {
     "data": {
      "text/plain": [
       "80100012    1\n",
       "Name: ING_ID, dtype: int64"
      ]
     },
     "execution_count": 106,
     "metadata": {},
     "output_type": "execute_result"
    }
   ],
   "source": [
    "ingredientes[ingredientes[\"DESIGNAÇÃO\"]==\"Mexilhão, conserva\"][\"ING_ID\"].value_counts()"
   ]
  },
  {
   "cell_type": "markdown",
   "id": "2486b3bc",
   "metadata": {},
   "source": [
    "> Mexilhão, cru --- ING_ID = 80300014\n",
    "\n",
    "> Mexilhão, cozido sem sal ---- ING_ID = 80300015\n",
    "\n",
    "> Mexilhão, conserva ---- ING_ID = 80100012"
   ]
  },
  {
   "cell_type": "code",
   "execution_count": 109,
   "id": "b2212034",
   "metadata": {},
   "outputs": [
    {
     "data": {
      "text/html": [
       "<div>\n",
       "<style scoped>\n",
       "    .dataframe tbody tr th:only-of-type {\n",
       "        vertical-align: middle;\n",
       "    }\n",
       "\n",
       "    .dataframe tbody tr th {\n",
       "        vertical-align: top;\n",
       "    }\n",
       "\n",
       "    .dataframe thead th {\n",
       "        text-align: right;\n",
       "    }\n",
       "</style>\n",
       "<table border=\"1\" class=\"dataframe\">\n",
       "  <thead>\n",
       "    <tr style=\"text-align: right;\">\n",
       "      <th></th>\n",
       "      <th>IAN_ID</th>\n",
       "      <th>Entrevista</th>\n",
       "      <th>Refeição</th>\n",
       "      <th>Prato</th>\n",
       "      <th>Receita</th>\n",
       "      <th>ING_ID</th>\n",
       "      <th>Cru.Edível</th>\n",
       "      <th>Cru.Bruto</th>\n",
       "    </tr>\n",
       "  </thead>\n",
       "  <tbody>\n",
       "    <tr>\n",
       "      <th>0</th>\n",
       "      <td>1-01-01-0-13-059</td>\n",
       "      <td>1</td>\n",
       "      <td>Jantar</td>\n",
       "      <td>Mexilhão com Casca e sem Molho 2</td>\n",
       "      <td>RCP_637</td>\n",
       "      <td>80300014</td>\n",
       "      <td>20.054293</td>\n",
       "      <td>71.622475</td>\n",
       "    </tr>\n",
       "    <tr>\n",
       "      <th>3</th>\n",
       "      <td>1-04-01-0-04-119</td>\n",
       "      <td>2</td>\n",
       "      <td>Jantar</td>\n",
       "      <td>rojões com mexilhão</td>\n",
       "      <td>NaN</td>\n",
       "      <td>80300014</td>\n",
       "      <td>10.640000</td>\n",
       "      <td>38.000000</td>\n",
       "    </tr>\n",
       "    <tr>\n",
       "      <th>8</th>\n",
       "      <td>1-08-01-0-07-026</td>\n",
       "      <td>2</td>\n",
       "      <td>Almoço</td>\n",
       "      <td>Feijoada de Marisco</td>\n",
       "      <td>RCP_52</td>\n",
       "      <td>80300014</td>\n",
       "      <td>5.712430</td>\n",
       "      <td>20.401537</td>\n",
       "    </tr>\n",
       "    <tr>\n",
       "      <th>12</th>\n",
       "      <td>1-10-01-0-16-118</td>\n",
       "      <td>1</td>\n",
       "      <td>Jantar</td>\n",
       "      <td>Mexilhões com Casca e sem Molho</td>\n",
       "      <td>RCP_635</td>\n",
       "      <td>80300014</td>\n",
       "      <td>24.441170</td>\n",
       "      <td>87.289892</td>\n",
       "    </tr>\n",
       "    <tr>\n",
       "      <th>13</th>\n",
       "      <td>1-10-01-0-16-118</td>\n",
       "      <td>2</td>\n",
       "      <td>Jantar</td>\n",
       "      <td>Mexilhões com Casca e com Molho 2</td>\n",
       "      <td>RCP_638</td>\n",
       "      <td>80300014</td>\n",
       "      <td>67.215723</td>\n",
       "      <td>240.056155</td>\n",
       "    </tr>\n",
       "  </tbody>\n",
       "</table>\n",
       "</div>"
      ],
      "text/plain": [
       "              IAN_ID  Entrevista Refeição                              Prato  \\\n",
       "0   1-01-01-0-13-059           1   Jantar   Mexilhão com Casca e sem Molho 2   \n",
       "3   1-04-01-0-04-119           2   Jantar                rojões com mexilhão   \n",
       "8   1-08-01-0-07-026           2   Almoço                Feijoada de Marisco   \n",
       "12  1-10-01-0-16-118           1   Jantar    Mexilhões com Casca e sem Molho   \n",
       "13  1-10-01-0-16-118           2   Jantar  Mexilhões com Casca e com Molho 2   \n",
       "\n",
       "    Receita    ING_ID  Cru.Edível   Cru.Bruto  \n",
       "0   RCP_637  80300014   20.054293   71.622475  \n",
       "3       NaN  80300014   10.640000   38.000000  \n",
       "8    RCP_52  80300014    5.712430   20.401537  \n",
       "12  RCP_635  80300014   24.441170   87.289892  \n",
       "13  RCP_638  80300014   67.215723  240.056155  "
      ]
     },
     "execution_count": 109,
     "metadata": {},
     "output_type": "execute_result"
    }
   ],
   "source": [
    "mexilhão=consumo[(consumo[\"ING_ID\"]==80300014) | (consumo[\"ING_ID\"]==80300015) | (consumo[\"ING_ID\"]==80100012)]\n",
    "mexilhão.head()"
   ]
  },
  {
   "cell_type": "code",
   "execution_count": 110,
   "id": "7d6be0dd",
   "metadata": {},
   "outputs": [
    {
     "data": {
      "text/plain": [
       "80300014    34\n",
       "80300015     3\n",
       "80100012     1\n",
       "Name: ING_ID, dtype: int64"
      ]
     },
     "execution_count": 110,
     "metadata": {},
     "output_type": "execute_result"
    }
   ],
   "source": [
    "mexilhão[\"ING_ID\"].value_counts()"
   ]
  },
  {
   "cell_type": "code",
   "execution_count": 111,
   "id": "8b468f09",
   "metadata": {},
   "outputs": [],
   "source": [
    "mexilhao_consumption=mexilhão.merge(subjects,how=\"left\",left_on=\"IAN_ID\",right_on=\"IAN_ID\")"
   ]
  },
  {
   "cell_type": "code",
   "execution_count": 112,
   "id": "a9e61e77",
   "metadata": {},
   "outputs": [
    {
     "data": {
      "text/html": [
       "<div>\n",
       "<style scoped>\n",
       "    .dataframe tbody tr th:only-of-type {\n",
       "        vertical-align: middle;\n",
       "    }\n",
       "\n",
       "    .dataframe tbody tr th {\n",
       "        vertical-align: top;\n",
       "    }\n",
       "\n",
       "    .dataframe thead th {\n",
       "        text-align: right;\n",
       "    }\n",
       "</style>\n",
       "<table border=\"1\" class=\"dataframe\">\n",
       "  <thead>\n",
       "    <tr style=\"text-align: right;\">\n",
       "      <th></th>\n",
       "      <th>IAN_ID</th>\n",
       "      <th>Entrevista</th>\n",
       "      <th>Refeição</th>\n",
       "      <th>Prato</th>\n",
       "      <th>Receita</th>\n",
       "      <th>ING_ID</th>\n",
       "      <th>Cru.Edível</th>\n",
       "      <th>Cru.Bruto</th>\n",
       "      <th>NUT</th>\n",
       "      <th>PSU</th>\n",
       "      <th>Ponderador1</th>\n",
       "      <th>Ponderador2</th>\n",
       "      <th>Sexo</th>\n",
       "      <th>Idade</th>\n",
       "      <th>GrupoEtario</th>\n",
       "    </tr>\n",
       "  </thead>\n",
       "  <tbody>\n",
       "    <tr>\n",
       "      <th>0</th>\n",
       "      <td>1-01-01-0-13-059</td>\n",
       "      <td>1</td>\n",
       "      <td>Jantar</td>\n",
       "      <td>Mexilhão com Casca e sem Molho 2</td>\n",
       "      <td>RCP_637</td>\n",
       "      <td>80300014</td>\n",
       "      <td>20.054293</td>\n",
       "      <td>71.622475</td>\n",
       "      <td>1</td>\n",
       "      <td>1.01</td>\n",
       "      <td>4640.957447</td>\n",
       "      <td>4640.957447</td>\n",
       "      <td>1</td>\n",
       "      <td>5</td>\n",
       "      <td>1</td>\n",
       "    </tr>\n",
       "    <tr>\n",
       "      <th>1</th>\n",
       "      <td>1-04-01-0-04-119</td>\n",
       "      <td>2</td>\n",
       "      <td>Jantar</td>\n",
       "      <td>rojões com mexilhão</td>\n",
       "      <td>NaN</td>\n",
       "      <td>80300014</td>\n",
       "      <td>10.640000</td>\n",
       "      <td>38.000000</td>\n",
       "      <td>1</td>\n",
       "      <td>1.04</td>\n",
       "      <td>1768.518519</td>\n",
       "      <td>1768.519000</td>\n",
       "      <td>0</td>\n",
       "      <td>11</td>\n",
       "      <td>2</td>\n",
       "    </tr>\n",
       "    <tr>\n",
       "      <th>2</th>\n",
       "      <td>1-08-01-0-07-026</td>\n",
       "      <td>2</td>\n",
       "      <td>Almoço</td>\n",
       "      <td>Feijoada de Marisco</td>\n",
       "      <td>RCP_52</td>\n",
       "      <td>80300014</td>\n",
       "      <td>5.712430</td>\n",
       "      <td>20.401537</td>\n",
       "      <td>1</td>\n",
       "      <td>1.08</td>\n",
       "      <td>7124.326538</td>\n",
       "      <td>7124.327000</td>\n",
       "      <td>0</td>\n",
       "      <td>70</td>\n",
       "      <td>4</td>\n",
       "    </tr>\n",
       "    <tr>\n",
       "      <th>3</th>\n",
       "      <td>1-10-01-0-16-118</td>\n",
       "      <td>1</td>\n",
       "      <td>Jantar</td>\n",
       "      <td>Mexilhões com Casca e sem Molho</td>\n",
       "      <td>RCP_635</td>\n",
       "      <td>80300014</td>\n",
       "      <td>24.441170</td>\n",
       "      <td>87.289892</td>\n",
       "      <td>1</td>\n",
       "      <td>1.10</td>\n",
       "      <td>5217.919782</td>\n",
       "      <td>5217.920000</td>\n",
       "      <td>1</td>\n",
       "      <td>35</td>\n",
       "      <td>3</td>\n",
       "    </tr>\n",
       "    <tr>\n",
       "      <th>4</th>\n",
       "      <td>1-10-01-0-16-118</td>\n",
       "      <td>2</td>\n",
       "      <td>Jantar</td>\n",
       "      <td>Mexilhões com Casca e com Molho 2</td>\n",
       "      <td>RCP_638</td>\n",
       "      <td>80300014</td>\n",
       "      <td>67.215723</td>\n",
       "      <td>240.056155</td>\n",
       "      <td>1</td>\n",
       "      <td>1.10</td>\n",
       "      <td>5217.919782</td>\n",
       "      <td>5217.920000</td>\n",
       "      <td>1</td>\n",
       "      <td>35</td>\n",
       "      <td>3</td>\n",
       "    </tr>\n",
       "  </tbody>\n",
       "</table>\n",
       "</div>"
      ],
      "text/plain": [
       "             IAN_ID  Entrevista Refeição                              Prato  \\\n",
       "0  1-01-01-0-13-059           1   Jantar   Mexilhão com Casca e sem Molho 2   \n",
       "1  1-04-01-0-04-119           2   Jantar                rojões com mexilhão   \n",
       "2  1-08-01-0-07-026           2   Almoço                Feijoada de Marisco   \n",
       "3  1-10-01-0-16-118           1   Jantar    Mexilhões com Casca e sem Molho   \n",
       "4  1-10-01-0-16-118           2   Jantar  Mexilhões com Casca e com Molho 2   \n",
       "\n",
       "   Receita    ING_ID  Cru.Edível   Cru.Bruto  NUT   PSU  Ponderador1  \\\n",
       "0  RCP_637  80300014   20.054293   71.622475    1  1.01  4640.957447   \n",
       "1      NaN  80300014   10.640000   38.000000    1  1.04  1768.518519   \n",
       "2   RCP_52  80300014    5.712430   20.401537    1  1.08  7124.326538   \n",
       "3  RCP_635  80300014   24.441170   87.289892    1  1.10  5217.919782   \n",
       "4  RCP_638  80300014   67.215723  240.056155    1  1.10  5217.919782   \n",
       "\n",
       "   Ponderador2  Sexo  Idade  GrupoEtario  \n",
       "0  4640.957447     1      5            1  \n",
       "1  1768.519000     0     11            2  \n",
       "2  7124.327000     0     70            4  \n",
       "3  5217.920000     1     35            3  \n",
       "4  5217.920000     1     35            3  "
      ]
     },
     "execution_count": 112,
     "metadata": {},
     "output_type": "execute_result"
    }
   ],
   "source": [
    "mexilhao_consumption.head()"
   ]
  },
  {
   "cell_type": "markdown",
   "id": "8ff48343",
   "metadata": {},
   "source": [
    "## Ostras"
   ]
  },
  {
   "cell_type": "code",
   "execution_count": 113,
   "id": "c6d5fd1f",
   "metadata": {},
   "outputs": [
    {
     "data": {
      "text/plain": [
       "Carne de Porco à Alentejana                                                              71\n",
       "Massa de Marisco                                                                         48\n",
       "Arroz de Marisco                                                                         48\n",
       "Feijoada de Marisco                                                                      34\n",
       "Arroz à Valenciana                                                                       15\n",
       "Amêijoas                                                                                 11\n",
       "Cataplana de marisco                                                                      9\n",
       "Molho de Amêijoa                                                                          8\n",
       "Abrótea Assada com Molho de Amêijoa                                                       6\n",
       "Xérem                                                                                     6\n",
       "Amêijoas à Bulhão Pato                                                                    6\n",
       "Conquilhas                                                                                4\n",
       "Massa de peixe                                                                            4\n",
       "Mexilhões com Casca e com Molho                                                           4\n",
       "Mexilhão com Casca e sem Molho 2                                                          3\n",
       "Berbigão                                                                                  3\n",
       "Mexilhões com Casca e com Molho 2                                                         2\n",
       "Mexilhões com Casca e sem Molho                                                           2\n",
       "Sopa de Marisco com Massa                                                                 2\n",
       "Cataplana, cherne, salmão, camarão, ameijoas, cebola, pimento verde, pimento vermelho     1\n",
       "Ostras, 3 unidades                                                                        1\n",
       "Arroz de bacalhau com ameijoas                                                            1\n",
       "berbigão                                                                                  1\n",
       "Arroz de mexilhão                                                                         1\n",
       "Xerem de marisco_ papas de milho, camarão, berbigão                                       1\n",
       "rojões com mexilhão                                                                       1\n",
       "Mexilhão com natas                                                                        1\n",
       "ostras                                                                                    1\n",
       "Cataplana de bacalhau                                                                     1\n",
       "Robalo estufado à bulhão pato                                                             1\n",
       "lata mexilhão                                                                             1\n",
       "Arroz de berbigão                                                                         1\n",
       "Name: Prato, dtype: int64"
      ]
     },
     "execution_count": 113,
     "metadata": {},
     "output_type": "execute_result"
    }
   ],
   "source": [
    "consumo[\"Prato\"].value_counts()"
   ]
  },
  {
   "cell_type": "code",
   "execution_count": 114,
   "id": "81be6fc4",
   "metadata": {},
   "outputs": [],
   "source": [
    "ostra = consumo[(consumo[\"Prato\"]==\"Ostras, 3 unidades\") |\n",
    "               (consumo[\"Prato\"]==\"ostras\")]"
   ]
  },
  {
   "cell_type": "code",
   "execution_count": 116,
   "id": "1e388a57",
   "metadata": {},
   "outputs": [
    {
     "data": {
      "text/plain": [
       "80300018    2\n",
       "Name: ING_ID, dtype: int64"
      ]
     },
     "execution_count": 116,
     "metadata": {},
     "output_type": "execute_result"
    }
   ],
   "source": [
    "ostra[\"ING_ID\"].value_counts()"
   ]
  },
  {
   "cell_type": "markdown",
   "id": "2a66cd72",
   "metadata": {},
   "source": [
    "> Ostra ---- ING_ID = 80300018"
   ]
  },
  {
   "cell_type": "code",
   "execution_count": 117,
   "id": "3f6ae765",
   "metadata": {},
   "outputs": [],
   "source": [
    "ostra_consumption=ostra.merge(subjects,how=\"left\",left_on=\"IAN_ID\",right_on=\"IAN_ID\")"
   ]
  },
  {
   "cell_type": "code",
   "execution_count": 118,
   "id": "151d8da0",
   "metadata": {},
   "outputs": [
    {
     "data": {
      "text/html": [
       "<div>\n",
       "<style scoped>\n",
       "    .dataframe tbody tr th:only-of-type {\n",
       "        vertical-align: middle;\n",
       "    }\n",
       "\n",
       "    .dataframe tbody tr th {\n",
       "        vertical-align: top;\n",
       "    }\n",
       "\n",
       "    .dataframe thead th {\n",
       "        text-align: right;\n",
       "    }\n",
       "</style>\n",
       "<table border=\"1\" class=\"dataframe\">\n",
       "  <thead>\n",
       "    <tr style=\"text-align: right;\">\n",
       "      <th></th>\n",
       "      <th>IAN_ID</th>\n",
       "      <th>Entrevista</th>\n",
       "      <th>Refeição</th>\n",
       "      <th>Prato</th>\n",
       "      <th>Receita</th>\n",
       "      <th>ING_ID</th>\n",
       "      <th>Cru.Edível</th>\n",
       "      <th>Cru.Bruto</th>\n",
       "      <th>NUT</th>\n",
       "      <th>PSU</th>\n",
       "      <th>Ponderador1</th>\n",
       "      <th>Ponderador2</th>\n",
       "      <th>Sexo</th>\n",
       "      <th>Idade</th>\n",
       "      <th>GrupoEtario</th>\n",
       "    </tr>\n",
       "  </thead>\n",
       "  <tbody>\n",
       "    <tr>\n",
       "      <th>0</th>\n",
       "      <td>5-05-01-0-06-119</td>\n",
       "      <td>1</td>\n",
       "      <td>Almoço</td>\n",
       "      <td>ostras</td>\n",
       "      <td>NaN</td>\n",
       "      <td>80300018</td>\n",
       "      <td>13.5</td>\n",
       "      <td>150.0</td>\n",
       "      <td>5</td>\n",
       "      <td>5.05</td>\n",
       "      <td>555.093769</td>\n",
       "      <td>624.8854</td>\n",
       "      <td>0</td>\n",
       "      <td>36</td>\n",
       "      <td>3</td>\n",
       "    </tr>\n",
       "    <tr>\n",
       "      <th>1</th>\n",
       "      <td>5-12-05-0-06-003</td>\n",
       "      <td>1</td>\n",
       "      <td>Durante a tarde (Lanche)</td>\n",
       "      <td>Ostras, 3 unidades</td>\n",
       "      <td>NaN</td>\n",
       "      <td>80300018</td>\n",
       "      <td>8.1</td>\n",
       "      <td>90.0</td>\n",
       "      <td>5</td>\n",
       "      <td>5.12</td>\n",
       "      <td>701.139572</td>\n",
       "      <td>788.4049</td>\n",
       "      <td>0</td>\n",
       "      <td>38</td>\n",
       "      <td>3</td>\n",
       "    </tr>\n",
       "  </tbody>\n",
       "</table>\n",
       "</div>"
      ],
      "text/plain": [
       "             IAN_ID  Entrevista                  Refeição               Prato  \\\n",
       "0  5-05-01-0-06-119           1                    Almoço              ostras   \n",
       "1  5-12-05-0-06-003           1  Durante a tarde (Lanche)  Ostras, 3 unidades   \n",
       "\n",
       "  Receita    ING_ID  Cru.Edível  Cru.Bruto  NUT   PSU  Ponderador1  \\\n",
       "0     NaN  80300018        13.5      150.0    5  5.05   555.093769   \n",
       "1     NaN  80300018         8.1       90.0    5  5.12   701.139572   \n",
       "\n",
       "   Ponderador2  Sexo  Idade  GrupoEtario  \n",
       "0     624.8854     0     36            3  \n",
       "1     788.4049     0     38            3  "
      ]
     },
     "execution_count": 118,
     "metadata": {},
     "output_type": "execute_result"
    }
   ],
   "source": [
    "ostra_consumption"
   ]
  },
  {
   "cell_type": "markdown",
   "id": "ad44f37b",
   "metadata": {},
   "source": [
    "## Berbigão"
   ]
  },
  {
   "cell_type": "code",
   "execution_count": 119,
   "id": "ebdc92ee",
   "metadata": {},
   "outputs": [
    {
     "data": {
      "text/plain": [
       "80300023    2\n",
       "Name: ING_ID, dtype: int64"
      ]
     },
     "execution_count": 119,
     "metadata": {},
     "output_type": "execute_result"
    }
   ],
   "source": [
    "receitas[receitas[\"Ingrediente.Nome\"]==\"Berbigão, cru\"][\"ING_ID\"].value_counts()"
   ]
  },
  {
   "cell_type": "code",
   "execution_count": 122,
   "id": "b2f9e23a",
   "metadata": {},
   "outputs": [
    {
     "data": {
      "text/plain": [
       "80300023    1\n",
       "Name: ING_ID, dtype: int64"
      ]
     },
     "execution_count": 122,
     "metadata": {},
     "output_type": "execute_result"
    }
   ],
   "source": [
    "ingredientes[ingredientes[\"DESIGNAÇÃO\"]==\"Berbigão, cru\"][\"ING_ID\"].value_counts()"
   ]
  },
  {
   "cell_type": "code",
   "execution_count": 123,
   "id": "d0786f63",
   "metadata": {},
   "outputs": [
    {
     "data": {
      "text/plain": [
       "80300024    1\n",
       "Name: ING_ID, dtype: int64"
      ]
     },
     "execution_count": 123,
     "metadata": {},
     "output_type": "execute_result"
    }
   ],
   "source": [
    "ingredientes[ingredientes[\"DESIGNAÇÃO\"]==\"Berbigão, aberto ao natural sem sal\"][\"ING_ID\"].value_counts()"
   ]
  },
  {
   "cell_type": "markdown",
   "id": "5697296f",
   "metadata": {},
   "source": [
    "> Berbigão, cru --- ING_ID = 80300023\n",
    "\n",
    "> Berbigão, aberto ao natural sem sal ---- ING_ID = 80300024"
   ]
  },
  {
   "cell_type": "code",
   "execution_count": 124,
   "id": "aee166fe",
   "metadata": {},
   "outputs": [
    {
     "data": {
      "text/html": [
       "<div>\n",
       "<style scoped>\n",
       "    .dataframe tbody tr th:only-of-type {\n",
       "        vertical-align: middle;\n",
       "    }\n",
       "\n",
       "    .dataframe tbody tr th {\n",
       "        vertical-align: top;\n",
       "    }\n",
       "\n",
       "    .dataframe thead th {\n",
       "        text-align: right;\n",
       "    }\n",
       "</style>\n",
       "<table border=\"1\" class=\"dataframe\">\n",
       "  <thead>\n",
       "    <tr style=\"text-align: right;\">\n",
       "      <th></th>\n",
       "      <th>IAN_ID</th>\n",
       "      <th>Entrevista</th>\n",
       "      <th>Refeição</th>\n",
       "      <th>Prato</th>\n",
       "      <th>Receita</th>\n",
       "      <th>ING_ID</th>\n",
       "      <th>Cru.Edível</th>\n",
       "      <th>Cru.Bruto</th>\n",
       "    </tr>\n",
       "  </thead>\n",
       "  <tbody>\n",
       "    <tr>\n",
       "      <th>2</th>\n",
       "      <td>1-02-01-1-15-020</td>\n",
       "      <td>2</td>\n",
       "      <td>Almoço</td>\n",
       "      <td>Arroz de Marisco</td>\n",
       "      <td>RCP_915</td>\n",
       "      <td>80300023</td>\n",
       "      <td>3.864105</td>\n",
       "      <td>18.400499</td>\n",
       "    </tr>\n",
       "    <tr>\n",
       "      <th>5</th>\n",
       "      <td>1-04-01-0-13-032</td>\n",
       "      <td>2</td>\n",
       "      <td>Almoço</td>\n",
       "      <td>Arroz de Marisco</td>\n",
       "      <td>RCP_915</td>\n",
       "      <td>80300023</td>\n",
       "      <td>0.762457</td>\n",
       "      <td>3.630750</td>\n",
       "    </tr>\n",
       "    <tr>\n",
       "      <th>10</th>\n",
       "      <td>1-09-01-0-07-037</td>\n",
       "      <td>2</td>\n",
       "      <td>Almoço</td>\n",
       "      <td>Arroz à Valenciana</td>\n",
       "      <td>RCP_1370</td>\n",
       "      <td>80300023</td>\n",
       "      <td>14.828615</td>\n",
       "      <td>70.612455</td>\n",
       "    </tr>\n",
       "    <tr>\n",
       "      <th>11</th>\n",
       "      <td>1-09-01-0-15-133</td>\n",
       "      <td>2</td>\n",
       "      <td>Jantar</td>\n",
       "      <td>Arroz à Valenciana</td>\n",
       "      <td>RCP_1370</td>\n",
       "      <td>80300023</td>\n",
       "      <td>25.848385</td>\n",
       "      <td>123.087545</td>\n",
       "    </tr>\n",
       "    <tr>\n",
       "      <th>14</th>\n",
       "      <td>1-12-01-0-06-001</td>\n",
       "      <td>2</td>\n",
       "      <td>Almoço</td>\n",
       "      <td>Arroz à Valenciana</td>\n",
       "      <td>RCP_1370</td>\n",
       "      <td>80300023</td>\n",
       "      <td>9.651543</td>\n",
       "      <td>45.959727</td>\n",
       "    </tr>\n",
       "  </tbody>\n",
       "</table>\n",
       "</div>"
      ],
      "text/plain": [
       "              IAN_ID  Entrevista Refeição               Prato   Receita  \\\n",
       "2   1-02-01-1-15-020           2   Almoço    Arroz de Marisco   RCP_915   \n",
       "5   1-04-01-0-13-032           2   Almoço    Arroz de Marisco   RCP_915   \n",
       "10  1-09-01-0-07-037           2   Almoço  Arroz à Valenciana  RCP_1370   \n",
       "11  1-09-01-0-15-133           2   Jantar  Arroz à Valenciana  RCP_1370   \n",
       "14  1-12-01-0-06-001           2   Almoço  Arroz à Valenciana  RCP_1370   \n",
       "\n",
       "      ING_ID  Cru.Edível   Cru.Bruto  \n",
       "2   80300023    3.864105   18.400499  \n",
       "5   80300023    0.762457    3.630750  \n",
       "10  80300023   14.828615   70.612455  \n",
       "11  80300023   25.848385  123.087545  \n",
       "14  80300023    9.651543   45.959727  "
      ]
     },
     "execution_count": 124,
     "metadata": {},
     "output_type": "execute_result"
    }
   ],
   "source": [
    "berbigao=consumo[ (consumo[\"ING_ID\"]==80300023) | (consumo[\"ING_ID\"]==80300024)]\n",
    "berbigao.head()"
   ]
  },
  {
   "cell_type": "code",
   "execution_count": 125,
   "id": "e0db50bb",
   "metadata": {},
   "outputs": [],
   "source": [
    "berbigão_consumption=berbigao.merge(subjects,how=\"left\",left_on=\"IAN_ID\",right_on=\"IAN_ID\")"
   ]
  },
  {
   "cell_type": "code",
   "execution_count": 126,
   "id": "90c35af4",
   "metadata": {},
   "outputs": [
    {
     "data": {
      "text/html": [
       "<div>\n",
       "<style scoped>\n",
       "    .dataframe tbody tr th:only-of-type {\n",
       "        vertical-align: middle;\n",
       "    }\n",
       "\n",
       "    .dataframe tbody tr th {\n",
       "        vertical-align: top;\n",
       "    }\n",
       "\n",
       "    .dataframe thead th {\n",
       "        text-align: right;\n",
       "    }\n",
       "</style>\n",
       "<table border=\"1\" class=\"dataframe\">\n",
       "  <thead>\n",
       "    <tr style=\"text-align: right;\">\n",
       "      <th></th>\n",
       "      <th>IAN_ID</th>\n",
       "      <th>Entrevista</th>\n",
       "      <th>Refeição</th>\n",
       "      <th>Prato</th>\n",
       "      <th>Receita</th>\n",
       "      <th>ING_ID</th>\n",
       "      <th>Cru.Edível</th>\n",
       "      <th>Cru.Bruto</th>\n",
       "      <th>NUT</th>\n",
       "      <th>PSU</th>\n",
       "      <th>Ponderador1</th>\n",
       "      <th>Ponderador2</th>\n",
       "      <th>Sexo</th>\n",
       "      <th>Idade</th>\n",
       "      <th>GrupoEtario</th>\n",
       "    </tr>\n",
       "  </thead>\n",
       "  <tbody>\n",
       "    <tr>\n",
       "      <th>0</th>\n",
       "      <td>1-02-01-1-15-020</td>\n",
       "      <td>2</td>\n",
       "      <td>Almoço</td>\n",
       "      <td>Arroz de Marisco</td>\n",
       "      <td>RCP_915</td>\n",
       "      <td>80300023</td>\n",
       "      <td>3.864105</td>\n",
       "      <td>18.400499</td>\n",
       "      <td>1</td>\n",
       "      <td>1.02</td>\n",
       "      <td>5694.805467</td>\n",
       "      <td>6749.502000</td>\n",
       "      <td>1</td>\n",
       "      <td>28</td>\n",
       "      <td>3</td>\n",
       "    </tr>\n",
       "    <tr>\n",
       "      <th>1</th>\n",
       "      <td>1-04-01-0-13-032</td>\n",
       "      <td>2</td>\n",
       "      <td>Almoço</td>\n",
       "      <td>Arroz de Marisco</td>\n",
       "      <td>RCP_915</td>\n",
       "      <td>80300023</td>\n",
       "      <td>0.762457</td>\n",
       "      <td>3.630750</td>\n",
       "      <td>1</td>\n",
       "      <td>1.04</td>\n",
       "      <td>816.666667</td>\n",
       "      <td>816.666700</td>\n",
       "      <td>1</td>\n",
       "      <td>5</td>\n",
       "      <td>1</td>\n",
       "    </tr>\n",
       "    <tr>\n",
       "      <th>2</th>\n",
       "      <td>1-09-01-0-07-037</td>\n",
       "      <td>2</td>\n",
       "      <td>Almoço</td>\n",
       "      <td>Arroz à Valenciana</td>\n",
       "      <td>RCP_1370</td>\n",
       "      <td>80300023</td>\n",
       "      <td>14.828615</td>\n",
       "      <td>70.612455</td>\n",
       "      <td>1</td>\n",
       "      <td>1.09</td>\n",
       "      <td>3659.397281</td>\n",
       "      <td>3659.397000</td>\n",
       "      <td>0</td>\n",
       "      <td>65</td>\n",
       "      <td>4</td>\n",
       "    </tr>\n",
       "    <tr>\n",
       "      <th>3</th>\n",
       "      <td>1-09-01-0-15-133</td>\n",
       "      <td>2</td>\n",
       "      <td>Jantar</td>\n",
       "      <td>Arroz à Valenciana</td>\n",
       "      <td>RCP_1370</td>\n",
       "      <td>80300023</td>\n",
       "      <td>25.848385</td>\n",
       "      <td>123.087545</td>\n",
       "      <td>1</td>\n",
       "      <td>1.09</td>\n",
       "      <td>3969.438163</td>\n",
       "      <td>3969.438000</td>\n",
       "      <td>1</td>\n",
       "      <td>34</td>\n",
       "      <td>3</td>\n",
       "    </tr>\n",
       "    <tr>\n",
       "      <th>4</th>\n",
       "      <td>1-12-01-0-06-001</td>\n",
       "      <td>2</td>\n",
       "      <td>Almoço</td>\n",
       "      <td>Arroz à Valenciana</td>\n",
       "      <td>RCP_1370</td>\n",
       "      <td>80300023</td>\n",
       "      <td>9.651543</td>\n",
       "      <td>45.959727</td>\n",
       "      <td>1</td>\n",
       "      <td>1.12</td>\n",
       "      <td>4669.530977</td>\n",
       "      <td>4775.048365</td>\n",
       "      <td>0</td>\n",
       "      <td>47</td>\n",
       "      <td>3</td>\n",
       "    </tr>\n",
       "  </tbody>\n",
       "</table>\n",
       "</div>"
      ],
      "text/plain": [
       "             IAN_ID  Entrevista Refeição               Prato   Receita  \\\n",
       "0  1-02-01-1-15-020           2   Almoço    Arroz de Marisco   RCP_915   \n",
       "1  1-04-01-0-13-032           2   Almoço    Arroz de Marisco   RCP_915   \n",
       "2  1-09-01-0-07-037           2   Almoço  Arroz à Valenciana  RCP_1370   \n",
       "3  1-09-01-0-15-133           2   Jantar  Arroz à Valenciana  RCP_1370   \n",
       "4  1-12-01-0-06-001           2   Almoço  Arroz à Valenciana  RCP_1370   \n",
       "\n",
       "     ING_ID  Cru.Edível   Cru.Bruto  NUT   PSU  Ponderador1  Ponderador2  \\\n",
       "0  80300023    3.864105   18.400499    1  1.02  5694.805467  6749.502000   \n",
       "1  80300023    0.762457    3.630750    1  1.04   816.666667   816.666700   \n",
       "2  80300023   14.828615   70.612455    1  1.09  3659.397281  3659.397000   \n",
       "3  80300023   25.848385  123.087545    1  1.09  3969.438163  3969.438000   \n",
       "4  80300023    9.651543   45.959727    1  1.12  4669.530977  4775.048365   \n",
       "\n",
       "   Sexo  Idade  GrupoEtario  \n",
       "0     1     28            3  \n",
       "1     1      5            1  \n",
       "2     0     65            4  \n",
       "3     1     34            3  \n",
       "4     0     47            3  "
      ]
     },
     "execution_count": 126,
     "metadata": {},
     "output_type": "execute_result"
    }
   ],
   "source": [
    "berbigão_consumption.head()"
   ]
  },
  {
   "cell_type": "markdown",
   "id": "e87d6232",
   "metadata": {},
   "source": [
    "## Vieiras"
   ]
  },
  {
   "cell_type": "code",
   "execution_count": 127,
   "id": "402dba5b",
   "metadata": {},
   "outputs": [
    {
     "data": {
      "text/plain": [
       "80300022    1\n",
       "Name: ING_ID, dtype: int64"
      ]
     },
     "execution_count": 127,
     "metadata": {},
     "output_type": "execute_result"
    }
   ],
   "source": [
    "receitas[receitas[\"Ingrediente.Nome\"]==\"Vieiras\"][\"ING_ID\"].value_counts()"
   ]
  },
  {
   "cell_type": "code",
   "execution_count": 128,
   "id": "07dfcb45",
   "metadata": {},
   "outputs": [
    {
     "data": {
      "text/plain": [
       "80300022    1\n",
       "Name: ING_ID, dtype: int64"
      ]
     },
     "execution_count": 128,
     "metadata": {},
     "output_type": "execute_result"
    }
   ],
   "source": [
    "ingredientes[ingredientes[\"DESIGNAÇÃO\"]==\"Vieiras\"][\"ING_ID\"].value_counts()"
   ]
  },
  {
   "cell_type": "markdown",
   "id": "25520081",
   "metadata": {},
   "source": [
    "> Vieiras --- ING_ID = 80300022"
   ]
  },
  {
   "cell_type": "code",
   "execution_count": 129,
   "id": "badb9be1",
   "metadata": {},
   "outputs": [
    {
     "data": {
      "text/html": [
       "<div>\n",
       "<style scoped>\n",
       "    .dataframe tbody tr th:only-of-type {\n",
       "        vertical-align: middle;\n",
       "    }\n",
       "\n",
       "    .dataframe tbody tr th {\n",
       "        vertical-align: top;\n",
       "    }\n",
       "\n",
       "    .dataframe thead th {\n",
       "        text-align: right;\n",
       "    }\n",
       "</style>\n",
       "<table border=\"1\" class=\"dataframe\">\n",
       "  <thead>\n",
       "    <tr style=\"text-align: right;\">\n",
       "      <th></th>\n",
       "      <th>IAN_ID</th>\n",
       "      <th>Entrevista</th>\n",
       "      <th>Refeição</th>\n",
       "      <th>Prato</th>\n",
       "      <th>Receita</th>\n",
       "      <th>ING_ID</th>\n",
       "      <th>Cru.Edível</th>\n",
       "      <th>Cru.Bruto</th>\n",
       "    </tr>\n",
       "  </thead>\n",
       "  <tbody>\n",
       "    <tr>\n",
       "      <th>93</th>\n",
       "      <td>2-21-01-0-14-066</td>\n",
       "      <td>1</td>\n",
       "      <td>Jantar</td>\n",
       "      <td>Cataplana de marisco</td>\n",
       "      <td>RCP_1346</td>\n",
       "      <td>80300022</td>\n",
       "      <td>10.9944</td>\n",
       "      <td>22.905000</td>\n",
       "    </tr>\n",
       "    <tr>\n",
       "      <th>132</th>\n",
       "      <td>3-19-01-0-15-037</td>\n",
       "      <td>2</td>\n",
       "      <td>Almoço</td>\n",
       "      <td>Cataplana de marisco</td>\n",
       "      <td>RCP_1346</td>\n",
       "      <td>80300022</td>\n",
       "      <td>26.8752</td>\n",
       "      <td>55.990000</td>\n",
       "    </tr>\n",
       "    <tr>\n",
       "      <th>228</th>\n",
       "      <td>5-11-01-0-06-109</td>\n",
       "      <td>2</td>\n",
       "      <td>Jantar</td>\n",
       "      <td>Cataplana de marisco</td>\n",
       "      <td>RCP_1346</td>\n",
       "      <td>80300022</td>\n",
       "      <td>8.6530</td>\n",
       "      <td>18.027083</td>\n",
       "    </tr>\n",
       "  </tbody>\n",
       "</table>\n",
       "</div>"
      ],
      "text/plain": [
       "               IAN_ID  Entrevista Refeição                 Prato   Receita  \\\n",
       "93   2-21-01-0-14-066           1   Jantar  Cataplana de marisco  RCP_1346   \n",
       "132  3-19-01-0-15-037           2   Almoço  Cataplana de marisco  RCP_1346   \n",
       "228  5-11-01-0-06-109           2   Jantar  Cataplana de marisco  RCP_1346   \n",
       "\n",
       "       ING_ID  Cru.Edível  Cru.Bruto  \n",
       "93   80300022     10.9944  22.905000  \n",
       "132  80300022     26.8752  55.990000  \n",
       "228  80300022      8.6530  18.027083  "
      ]
     },
     "execution_count": 129,
     "metadata": {},
     "output_type": "execute_result"
    }
   ],
   "source": [
    "vieiras=consumo[consumo[\"ING_ID\"]==80300022]\n",
    "vieiras.head()"
   ]
  },
  {
   "cell_type": "code",
   "execution_count": 130,
   "id": "bea58e56",
   "metadata": {},
   "outputs": [],
   "source": [
    "vieiras_consumption=vieiras.merge(subjects,how=\"left\",left_on=\"IAN_ID\",right_on=\"IAN_ID\")"
   ]
  },
  {
   "cell_type": "code",
   "execution_count": 131,
   "id": "e0720e9e",
   "metadata": {},
   "outputs": [
    {
     "data": {
      "text/html": [
       "<div>\n",
       "<style scoped>\n",
       "    .dataframe tbody tr th:only-of-type {\n",
       "        vertical-align: middle;\n",
       "    }\n",
       "\n",
       "    .dataframe tbody tr th {\n",
       "        vertical-align: top;\n",
       "    }\n",
       "\n",
       "    .dataframe thead th {\n",
       "        text-align: right;\n",
       "    }\n",
       "</style>\n",
       "<table border=\"1\" class=\"dataframe\">\n",
       "  <thead>\n",
       "    <tr style=\"text-align: right;\">\n",
       "      <th></th>\n",
       "      <th>IAN_ID</th>\n",
       "      <th>Entrevista</th>\n",
       "      <th>Refeição</th>\n",
       "      <th>Prato</th>\n",
       "      <th>Receita</th>\n",
       "      <th>ING_ID</th>\n",
       "      <th>Cru.Edível</th>\n",
       "      <th>Cru.Bruto</th>\n",
       "      <th>NUT</th>\n",
       "      <th>PSU</th>\n",
       "      <th>Ponderador1</th>\n",
       "      <th>Ponderador2</th>\n",
       "      <th>Sexo</th>\n",
       "      <th>Idade</th>\n",
       "      <th>GrupoEtario</th>\n",
       "    </tr>\n",
       "  </thead>\n",
       "  <tbody>\n",
       "    <tr>\n",
       "      <th>0</th>\n",
       "      <td>2-21-01-0-14-066</td>\n",
       "      <td>1</td>\n",
       "      <td>Jantar</td>\n",
       "      <td>Cataplana de marisco</td>\n",
       "      <td>RCP_1346</td>\n",
       "      <td>80300022</td>\n",
       "      <td>10.9944</td>\n",
       "      <td>22.905000</td>\n",
       "      <td>2</td>\n",
       "      <td>2.21</td>\n",
       "      <td>1368.957214</td>\n",
       "      <td>1467.9210</td>\n",
       "      <td>1</td>\n",
       "      <td>14</td>\n",
       "      <td>2</td>\n",
       "    </tr>\n",
       "    <tr>\n",
       "      <th>1</th>\n",
       "      <td>3-19-01-0-15-037</td>\n",
       "      <td>2</td>\n",
       "      <td>Almoço</td>\n",
       "      <td>Cataplana de marisco</td>\n",
       "      <td>RCP_1346</td>\n",
       "      <td>80300022</td>\n",
       "      <td>26.8752</td>\n",
       "      <td>55.990000</td>\n",
       "      <td>3</td>\n",
       "      <td>3.19</td>\n",
       "      <td>3595.655114</td>\n",
       "      <td>3595.6550</td>\n",
       "      <td>1</td>\n",
       "      <td>31</td>\n",
       "      <td>3</td>\n",
       "    </tr>\n",
       "    <tr>\n",
       "      <th>2</th>\n",
       "      <td>5-11-01-0-06-109</td>\n",
       "      <td>2</td>\n",
       "      <td>Jantar</td>\n",
       "      <td>Cataplana de marisco</td>\n",
       "      <td>RCP_1346</td>\n",
       "      <td>80300022</td>\n",
       "      <td>8.6530</td>\n",
       "      <td>18.027083</td>\n",
       "      <td>5</td>\n",
       "      <td>5.11</td>\n",
       "      <td>283.166824</td>\n",
       "      <td>288.0332</td>\n",
       "      <td>0</td>\n",
       "      <td>39</td>\n",
       "      <td>3</td>\n",
       "    </tr>\n",
       "  </tbody>\n",
       "</table>\n",
       "</div>"
      ],
      "text/plain": [
       "             IAN_ID  Entrevista Refeição                 Prato   Receita  \\\n",
       "0  2-21-01-0-14-066           1   Jantar  Cataplana de marisco  RCP_1346   \n",
       "1  3-19-01-0-15-037           2   Almoço  Cataplana de marisco  RCP_1346   \n",
       "2  5-11-01-0-06-109           2   Jantar  Cataplana de marisco  RCP_1346   \n",
       "\n",
       "     ING_ID  Cru.Edível  Cru.Bruto  NUT   PSU  Ponderador1  Ponderador2  Sexo  \\\n",
       "0  80300022     10.9944  22.905000    2  2.21  1368.957214    1467.9210     1   \n",
       "1  80300022     26.8752  55.990000    3  3.19  3595.655114    3595.6550     1   \n",
       "2  80300022      8.6530  18.027083    5  5.11   283.166824     288.0332     0   \n",
       "\n",
       "   Idade  GrupoEtario  \n",
       "0     14            2  \n",
       "1     31            3  \n",
       "2     39            3  "
      ]
     },
     "execution_count": 131,
     "metadata": {},
     "output_type": "execute_result"
    }
   ],
   "source": [
    "vieiras_consumption"
   ]
  },
  {
   "cell_type": "markdown",
   "id": "d30ce99f",
   "metadata": {},
   "source": [
    "## Conquilha"
   ]
  },
  {
   "cell_type": "code",
   "execution_count": 136,
   "id": "ead45ce0",
   "metadata": {},
   "outputs": [
    {
     "data": {
      "text/plain": [
       "Series([], Name: ING_ID, dtype: int64)"
      ]
     },
     "execution_count": 136,
     "metadata": {},
     "output_type": "execute_result"
    }
   ],
   "source": [
    "receitas[receitas[\"Ingrediente.Nome\"]==\"Conquilha\"][\"ING_ID\"].value_counts()"
   ]
  },
  {
   "cell_type": "code",
   "execution_count": 139,
   "id": "5ae8b968",
   "metadata": {},
   "outputs": [
    {
     "data": {
      "text/html": [
       "<div>\n",
       "<style scoped>\n",
       "    .dataframe tbody tr th:only-of-type {\n",
       "        vertical-align: middle;\n",
       "    }\n",
       "\n",
       "    .dataframe tbody tr th {\n",
       "        vertical-align: top;\n",
       "    }\n",
       "\n",
       "    .dataframe thead th {\n",
       "        text-align: right;\n",
       "    }\n",
       "</style>\n",
       "<table border=\"1\" class=\"dataframe\">\n",
       "  <thead>\n",
       "    <tr style=\"text-align: right;\">\n",
       "      <th></th>\n",
       "      <th>ING_ID</th>\n",
       "      <th>DESIGNAÇÃO</th>\n",
       "      <th>NOME.INGLÊS</th>\n",
       "      <th>Grupo_Relatorio</th>\n",
       "      <th>Edible.part..</th>\n",
       "      <th>ENERGY.kcal</th>\n",
       "      <th>ENERGY.kJ</th>\n",
       "      <th>WATER.g</th>\n",
       "      <th>PROTEIN.g</th>\n",
       "      <th>FAT.g</th>\n",
       "      <th>...</th>\n",
       "      <th>VITAMIN_C.mg</th>\n",
       "      <th>FOLATES.mcg</th>\n",
       "      <th>ASH.g</th>\n",
       "      <th>SODIUM.mg</th>\n",
       "      <th>POTASSIUM.mg</th>\n",
       "      <th>CALCIUM.mg</th>\n",
       "      <th>PHOSPHORUS.mg</th>\n",
       "      <th>MAGNESIUM.mg</th>\n",
       "      <th>IRON.mg</th>\n",
       "      <th>ZINC.mg</th>\n",
       "    </tr>\n",
       "  </thead>\n",
       "  <tbody>\n",
       "    <tr>\n",
       "      <th>9</th>\n",
       "      <td>80300026</td>\n",
       "      <td>Conquilha</td>\n",
       "      <td>Donax clams</td>\n",
       "      <td>G04.2.2</td>\n",
       "      <td>48</td>\n",
       "      <td>65.3</td>\n",
       "      <td>273.2152</td>\n",
       "      <td>81.1</td>\n",
       "      <td>11.7</td>\n",
       "      <td>0.9</td>\n",
       "      <td>...</td>\n",
       "      <td>0</td>\n",
       "      <td>9.5</td>\n",
       "      <td>1.0</td>\n",
       "      <td>244</td>\n",
       "      <td>78</td>\n",
       "      <td>51</td>\n",
       "      <td>178</td>\n",
       "      <td>103</td>\n",
       "      <td>8.5</td>\n",
       "      <td>2.1</td>\n",
       "    </tr>\n",
       "  </tbody>\n",
       "</table>\n",
       "<p>1 rows × 45 columns</p>\n",
       "</div>"
      ],
      "text/plain": [
       "     ING_ID DESIGNAÇÃO  NOME.INGLÊS Grupo_Relatorio  Edible.part..  \\\n",
       "9  80300026  Conquilha  Donax clams         G04.2.2             48   \n",
       "\n",
       "   ENERGY.kcal  ENERGY.kJ  WATER.g  PROTEIN.g  FAT.g  ...  VITAMIN_C.mg  \\\n",
       "9         65.3   273.2152     81.1       11.7    0.9  ...             0   \n",
       "\n",
       "   FOLATES.mcg  ASH.g  SODIUM.mg  POTASSIUM.mg  CALCIUM.mg  PHOSPHORUS.mg  \\\n",
       "9          9.5    1.0        244            78          51            178   \n",
       "\n",
       "   MAGNESIUM.mg  IRON.mg  ZINC.mg  \n",
       "9           103      8.5      2.1  \n",
       "\n",
       "[1 rows x 45 columns]"
      ]
     },
     "execution_count": 139,
     "metadata": {},
     "output_type": "execute_result"
    }
   ],
   "source": [
    "ingredientes[ingredientes[\"DESIGNAÇÃO\"]==\"Conquilha\"]"
   ]
  },
  {
   "cell_type": "markdown",
   "id": "1c1ed958",
   "metadata": {},
   "source": [
    "> Conquilhas --- ING_ID = 80300026"
   ]
  },
  {
   "cell_type": "code",
   "execution_count": 141,
   "id": "2ff5d246",
   "metadata": {},
   "outputs": [
    {
     "data": {
      "text/html": [
       "<div>\n",
       "<style scoped>\n",
       "    .dataframe tbody tr th:only-of-type {\n",
       "        vertical-align: middle;\n",
       "    }\n",
       "\n",
       "    .dataframe tbody tr th {\n",
       "        vertical-align: top;\n",
       "    }\n",
       "\n",
       "    .dataframe thead th {\n",
       "        text-align: right;\n",
       "    }\n",
       "</style>\n",
       "<table border=\"1\" class=\"dataframe\">\n",
       "  <thead>\n",
       "    <tr style=\"text-align: right;\">\n",
       "      <th></th>\n",
       "      <th>IAN_ID</th>\n",
       "      <th>Entrevista</th>\n",
       "      <th>Refeição</th>\n",
       "      <th>Prato</th>\n",
       "      <th>Receita</th>\n",
       "      <th>ING_ID</th>\n",
       "      <th>Cru.Edível</th>\n",
       "      <th>Cru.Bruto</th>\n",
       "    </tr>\n",
       "  </thead>\n",
       "  <tbody>\n",
       "    <tr>\n",
       "      <th>190</th>\n",
       "      <td>5-02-05-0-08-025</td>\n",
       "      <td>2</td>\n",
       "      <td>Durante a tarde (Lanche)</td>\n",
       "      <td>Conquilhas</td>\n",
       "      <td>NaN</td>\n",
       "      <td>80300026</td>\n",
       "      <td>23.0000</td>\n",
       "      <td>47.916667</td>\n",
       "    </tr>\n",
       "    <tr>\n",
       "      <th>219</th>\n",
       "      <td>5-08-01-0-13-127</td>\n",
       "      <td>2</td>\n",
       "      <td>Durante a tarde (Lanche)</td>\n",
       "      <td>Conquilhas</td>\n",
       "      <td>NaN</td>\n",
       "      <td>80300026</td>\n",
       "      <td>33.8688</td>\n",
       "      <td>70.560000</td>\n",
       "    </tr>\n",
       "    <tr>\n",
       "      <th>246</th>\n",
       "      <td>5-11-01-2-06-006</td>\n",
       "      <td>2</td>\n",
       "      <td>Jantar</td>\n",
       "      <td>Conquilhas</td>\n",
       "      <td>NaN</td>\n",
       "      <td>80300026</td>\n",
       "      <td>134.0000</td>\n",
       "      <td>279.166667</td>\n",
       "    </tr>\n",
       "    <tr>\n",
       "      <th>251</th>\n",
       "      <td>5-12-09-1-16-221</td>\n",
       "      <td>1</td>\n",
       "      <td>Jantar</td>\n",
       "      <td>Conquilhas</td>\n",
       "      <td>NaN</td>\n",
       "      <td>80300026</td>\n",
       "      <td>95.0000</td>\n",
       "      <td>197.916667</td>\n",
       "    </tr>\n",
       "  </tbody>\n",
       "</table>\n",
       "</div>"
      ],
      "text/plain": [
       "               IAN_ID  Entrevista                  Refeição       Prato  \\\n",
       "190  5-02-05-0-08-025           2  Durante a tarde (Lanche)  Conquilhas   \n",
       "219  5-08-01-0-13-127           2  Durante a tarde (Lanche)  Conquilhas   \n",
       "246  5-11-01-2-06-006           2                    Jantar  Conquilhas   \n",
       "251  5-12-09-1-16-221           1                    Jantar  Conquilhas   \n",
       "\n",
       "    Receita    ING_ID  Cru.Edível   Cru.Bruto  \n",
       "190     NaN  80300026     23.0000   47.916667  \n",
       "219     NaN  80300026     33.8688   70.560000  \n",
       "246     NaN  80300026    134.0000  279.166667  \n",
       "251     NaN  80300026     95.0000  197.916667  "
      ]
     },
     "execution_count": 141,
     "metadata": {},
     "output_type": "execute_result"
    }
   ],
   "source": [
    "conquilhas = consumo[consumo[\"ING_ID\"]==80300026]\n",
    "conquilhas"
   ]
  },
  {
   "cell_type": "code",
   "execution_count": 142,
   "id": "10cbd8ea",
   "metadata": {},
   "outputs": [
    {
     "data": {
      "text/html": [
       "<div>\n",
       "<style scoped>\n",
       "    .dataframe tbody tr th:only-of-type {\n",
       "        vertical-align: middle;\n",
       "    }\n",
       "\n",
       "    .dataframe tbody tr th {\n",
       "        vertical-align: top;\n",
       "    }\n",
       "\n",
       "    .dataframe thead th {\n",
       "        text-align: right;\n",
       "    }\n",
       "</style>\n",
       "<table border=\"1\" class=\"dataframe\">\n",
       "  <thead>\n",
       "    <tr style=\"text-align: right;\">\n",
       "      <th></th>\n",
       "      <th>IAN_ID</th>\n",
       "      <th>Entrevista</th>\n",
       "      <th>Refeição</th>\n",
       "      <th>Prato</th>\n",
       "      <th>Receita</th>\n",
       "      <th>ING_ID</th>\n",
       "      <th>Cru.Edível</th>\n",
       "      <th>Cru.Bruto</th>\n",
       "      <th>NUT</th>\n",
       "      <th>PSU</th>\n",
       "      <th>Ponderador1</th>\n",
       "      <th>Ponderador2</th>\n",
       "      <th>Sexo</th>\n",
       "      <th>Idade</th>\n",
       "      <th>GrupoEtario</th>\n",
       "    </tr>\n",
       "  </thead>\n",
       "  <tbody>\n",
       "    <tr>\n",
       "      <th>0</th>\n",
       "      <td>5-02-05-0-08-025</td>\n",
       "      <td>2</td>\n",
       "      <td>Durante a tarde (Lanche)</td>\n",
       "      <td>Conquilhas</td>\n",
       "      <td>NaN</td>\n",
       "      <td>80300026</td>\n",
       "      <td>23.0000</td>\n",
       "      <td>47.916667</td>\n",
       "      <td>5</td>\n",
       "      <td>5.02</td>\n",
       "      <td>2365.785256</td>\n",
       "      <td>2618.3830</td>\n",
       "      <td>0</td>\n",
       "      <td>80</td>\n",
       "      <td>4</td>\n",
       "    </tr>\n",
       "    <tr>\n",
       "      <th>1</th>\n",
       "      <td>5-08-01-0-13-127</td>\n",
       "      <td>2</td>\n",
       "      <td>Durante a tarde (Lanche)</td>\n",
       "      <td>Conquilhas</td>\n",
       "      <td>NaN</td>\n",
       "      <td>80300026</td>\n",
       "      <td>33.8688</td>\n",
       "      <td>70.560000</td>\n",
       "      <td>5</td>\n",
       "      <td>5.08</td>\n",
       "      <td>361.597369</td>\n",
       "      <td>361.5974</td>\n",
       "      <td>1</td>\n",
       "      <td>3</td>\n",
       "      <td>1</td>\n",
       "    </tr>\n",
       "    <tr>\n",
       "      <th>2</th>\n",
       "      <td>5-11-01-2-06-006</td>\n",
       "      <td>2</td>\n",
       "      <td>Jantar</td>\n",
       "      <td>Conquilhas</td>\n",
       "      <td>NaN</td>\n",
       "      <td>80300026</td>\n",
       "      <td>134.0000</td>\n",
       "      <td>279.166667</td>\n",
       "      <td>5</td>\n",
       "      <td>5.11</td>\n",
       "      <td>283.166824</td>\n",
       "      <td>288.0332</td>\n",
       "      <td>0</td>\n",
       "      <td>40</td>\n",
       "      <td>3</td>\n",
       "    </tr>\n",
       "    <tr>\n",
       "      <th>3</th>\n",
       "      <td>5-12-09-1-16-221</td>\n",
       "      <td>1</td>\n",
       "      <td>Jantar</td>\n",
       "      <td>Conquilhas</td>\n",
       "      <td>NaN</td>\n",
       "      <td>80300026</td>\n",
       "      <td>95.0000</td>\n",
       "      <td>197.916667</td>\n",
       "      <td>5</td>\n",
       "      <td>5.12</td>\n",
       "      <td>309.609723</td>\n",
       "      <td>315.6130</td>\n",
       "      <td>1</td>\n",
       "      <td>49</td>\n",
       "      <td>3</td>\n",
       "    </tr>\n",
       "  </tbody>\n",
       "</table>\n",
       "</div>"
      ],
      "text/plain": [
       "             IAN_ID  Entrevista                  Refeição       Prato Receita  \\\n",
       "0  5-02-05-0-08-025           2  Durante a tarde (Lanche)  Conquilhas     NaN   \n",
       "1  5-08-01-0-13-127           2  Durante a tarde (Lanche)  Conquilhas     NaN   \n",
       "2  5-11-01-2-06-006           2                    Jantar  Conquilhas     NaN   \n",
       "3  5-12-09-1-16-221           1                    Jantar  Conquilhas     NaN   \n",
       "\n",
       "     ING_ID  Cru.Edível   Cru.Bruto  NUT   PSU  Ponderador1  Ponderador2  \\\n",
       "0  80300026     23.0000   47.916667    5  5.02  2365.785256    2618.3830   \n",
       "1  80300026     33.8688   70.560000    5  5.08   361.597369     361.5974   \n",
       "2  80300026    134.0000  279.166667    5  5.11   283.166824     288.0332   \n",
       "3  80300026     95.0000  197.916667    5  5.12   309.609723     315.6130   \n",
       "\n",
       "   Sexo  Idade  GrupoEtario  \n",
       "0     0     80            4  \n",
       "1     1      3            1  \n",
       "2     0     40            3  \n",
       "3     1     49            3  "
      ]
     },
     "execution_count": 142,
     "metadata": {},
     "output_type": "execute_result"
    }
   ],
   "source": [
    "conquilhas_consumption=conquilhas.merge(subjects,how=\"left\",left_on=\"IAN_ID\",right_on=\"IAN_ID\")\n",
    "conquilhas_consumption"
   ]
  },
  {
   "cell_type": "markdown",
   "id": "5ce78de7",
   "metadata": {},
   "source": [
    "# Let´s Concat All the Bivalves Consumption Dataset´s"
   ]
  },
  {
   "cell_type": "code",
   "execution_count": 143,
   "id": "a0627d0b",
   "metadata": {},
   "outputs": [
    {
     "data": {
      "text/html": [
       "<div>\n",
       "<style scoped>\n",
       "    .dataframe tbody tr th:only-of-type {\n",
       "        vertical-align: middle;\n",
       "    }\n",
       "\n",
       "    .dataframe tbody tr th {\n",
       "        vertical-align: top;\n",
       "    }\n",
       "\n",
       "    .dataframe thead th {\n",
       "        text-align: right;\n",
       "    }\n",
       "</style>\n",
       "<table border=\"1\" class=\"dataframe\">\n",
       "  <thead>\n",
       "    <tr style=\"text-align: right;\">\n",
       "      <th></th>\n",
       "      <th>IAN_ID</th>\n",
       "      <th>Entrevista</th>\n",
       "      <th>Refeição</th>\n",
       "      <th>Prato</th>\n",
       "      <th>Receita</th>\n",
       "      <th>ING_ID</th>\n",
       "      <th>Cru.Edível</th>\n",
       "      <th>Cru.Bruto</th>\n",
       "      <th>NUT</th>\n",
       "      <th>PSU</th>\n",
       "      <th>Ponderador1</th>\n",
       "      <th>Ponderador2</th>\n",
       "      <th>Sexo</th>\n",
       "      <th>Idade</th>\n",
       "      <th>GrupoEtario</th>\n",
       "    </tr>\n",
       "  </thead>\n",
       "  <tbody>\n",
       "    <tr>\n",
       "      <th>0</th>\n",
       "      <td>1-02-01-1-15-020</td>\n",
       "      <td>2</td>\n",
       "      <td>Almoço</td>\n",
       "      <td>Arroz de Marisco</td>\n",
       "      <td>RCP_915</td>\n",
       "      <td>80300005</td>\n",
       "      <td>10.304279</td>\n",
       "      <td>36.800998</td>\n",
       "      <td>1</td>\n",
       "      <td>1.02</td>\n",
       "      <td>5694.805467</td>\n",
       "      <td>6749.5020</td>\n",
       "      <td>1</td>\n",
       "      <td>28</td>\n",
       "      <td>3</td>\n",
       "    </tr>\n",
       "    <tr>\n",
       "      <th>1</th>\n",
       "      <td>1-04-01-0-13-032</td>\n",
       "      <td>2</td>\n",
       "      <td>Almoço</td>\n",
       "      <td>Arroz de Marisco</td>\n",
       "      <td>RCP_915</td>\n",
       "      <td>80300005</td>\n",
       "      <td>2.033220</td>\n",
       "      <td>7.261500</td>\n",
       "      <td>1</td>\n",
       "      <td>1.04</td>\n",
       "      <td>816.666667</td>\n",
       "      <td>816.6667</td>\n",
       "      <td>1</td>\n",
       "      <td>5</td>\n",
       "      <td>1</td>\n",
       "    </tr>\n",
       "    <tr>\n",
       "      <th>2</th>\n",
       "      <td>1-04-01-0-16-136</td>\n",
       "      <td>1</td>\n",
       "      <td>Almoço</td>\n",
       "      <td>Amêijoas à Bulhão Pato</td>\n",
       "      <td>RCP_1379</td>\n",
       "      <td>80300005</td>\n",
       "      <td>35.653527</td>\n",
       "      <td>127.334025</td>\n",
       "      <td>1</td>\n",
       "      <td>1.04</td>\n",
       "      <td>5302.083333</td>\n",
       "      <td>5302.0830</td>\n",
       "      <td>1</td>\n",
       "      <td>57</td>\n",
       "      <td>3</td>\n",
       "    </tr>\n",
       "    <tr>\n",
       "      <th>3</th>\n",
       "      <td>1-08-01-0-07-026</td>\n",
       "      <td>2</td>\n",
       "      <td>Almoço</td>\n",
       "      <td>Feijoada de Marisco</td>\n",
       "      <td>RCP_52</td>\n",
       "      <td>80300005</td>\n",
       "      <td>5.148542</td>\n",
       "      <td>18.387651</td>\n",
       "      <td>1</td>\n",
       "      <td>1.08</td>\n",
       "      <td>7124.326538</td>\n",
       "      <td>7124.3270</td>\n",
       "      <td>0</td>\n",
       "      <td>70</td>\n",
       "      <td>4</td>\n",
       "    </tr>\n",
       "    <tr>\n",
       "      <th>4</th>\n",
       "      <td>1-08-01-0-16-135</td>\n",
       "      <td>1</td>\n",
       "      <td>Almoço</td>\n",
       "      <td>Carne de Porco à Alentejana</td>\n",
       "      <td>RCP_609</td>\n",
       "      <td>80300005</td>\n",
       "      <td>28.921198</td>\n",
       "      <td>103.289994</td>\n",
       "      <td>1</td>\n",
       "      <td>1.08</td>\n",
       "      <td>8443.085944</td>\n",
       "      <td>8443.0860</td>\n",
       "      <td>1</td>\n",
       "      <td>37</td>\n",
       "      <td>3</td>\n",
       "    </tr>\n",
       "  </tbody>\n",
       "</table>\n",
       "</div>"
      ],
      "text/plain": [
       "             IAN_ID  Entrevista Refeição                        Prato  \\\n",
       "0  1-02-01-1-15-020           2   Almoço             Arroz de Marisco   \n",
       "1  1-04-01-0-13-032           2   Almoço             Arroz de Marisco   \n",
       "2  1-04-01-0-16-136           1   Almoço       Amêijoas à Bulhão Pato   \n",
       "3  1-08-01-0-07-026           2   Almoço          Feijoada de Marisco   \n",
       "4  1-08-01-0-16-135           1   Almoço  Carne de Porco à Alentejana   \n",
       "\n",
       "    Receita    ING_ID  Cru.Edível   Cru.Bruto  NUT   PSU  Ponderador1  \\\n",
       "0   RCP_915  80300005   10.304279   36.800998    1  1.02  5694.805467   \n",
       "1   RCP_915  80300005    2.033220    7.261500    1  1.04   816.666667   \n",
       "2  RCP_1379  80300005   35.653527  127.334025    1  1.04  5302.083333   \n",
       "3    RCP_52  80300005    5.148542   18.387651    1  1.08  7124.326538   \n",
       "4   RCP_609  80300005   28.921198  103.289994    1  1.08  8443.085944   \n",
       "\n",
       "   Ponderador2  Sexo  Idade  GrupoEtario  \n",
       "0    6749.5020     1     28            3  \n",
       "1     816.6667     1      5            1  \n",
       "2    5302.0830     1     57            3  \n",
       "3    7124.3270     0     70            4  \n",
       "4    8443.0860     1     37            3  "
      ]
     },
     "execution_count": 143,
     "metadata": {},
     "output_type": "execute_result"
    }
   ],
   "source": [
    "ameijoa_consumption.head()"
   ]
  },
  {
   "cell_type": "code",
   "execution_count": 144,
   "id": "0ef67fc2",
   "metadata": {},
   "outputs": [
    {
     "data": {
      "text/html": [
       "<div>\n",
       "<style scoped>\n",
       "    .dataframe tbody tr th:only-of-type {\n",
       "        vertical-align: middle;\n",
       "    }\n",
       "\n",
       "    .dataframe tbody tr th {\n",
       "        vertical-align: top;\n",
       "    }\n",
       "\n",
       "    .dataframe thead th {\n",
       "        text-align: right;\n",
       "    }\n",
       "</style>\n",
       "<table border=\"1\" class=\"dataframe\">\n",
       "  <thead>\n",
       "    <tr style=\"text-align: right;\">\n",
       "      <th></th>\n",
       "      <th>IAN_ID</th>\n",
       "      <th>Entrevista</th>\n",
       "      <th>Refeição</th>\n",
       "      <th>Prato</th>\n",
       "      <th>Receita</th>\n",
       "      <th>ING_ID</th>\n",
       "      <th>Cru.Edível</th>\n",
       "      <th>Cru.Bruto</th>\n",
       "      <th>NUT</th>\n",
       "      <th>PSU</th>\n",
       "      <th>Ponderador1</th>\n",
       "      <th>Ponderador2</th>\n",
       "      <th>Sexo</th>\n",
       "      <th>Idade</th>\n",
       "      <th>GrupoEtario</th>\n",
       "    </tr>\n",
       "  </thead>\n",
       "  <tbody>\n",
       "    <tr>\n",
       "      <th>0</th>\n",
       "      <td>1-01-01-0-13-059</td>\n",
       "      <td>1</td>\n",
       "      <td>Jantar</td>\n",
       "      <td>Mexilhão com Casca e sem Molho 2</td>\n",
       "      <td>RCP_637</td>\n",
       "      <td>80300014</td>\n",
       "      <td>20.054293</td>\n",
       "      <td>71.622475</td>\n",
       "      <td>1</td>\n",
       "      <td>1.01</td>\n",
       "      <td>4640.957447</td>\n",
       "      <td>4640.957447</td>\n",
       "      <td>1</td>\n",
       "      <td>5</td>\n",
       "      <td>1</td>\n",
       "    </tr>\n",
       "    <tr>\n",
       "      <th>1</th>\n",
       "      <td>1-04-01-0-04-119</td>\n",
       "      <td>2</td>\n",
       "      <td>Jantar</td>\n",
       "      <td>rojões com mexilhão</td>\n",
       "      <td>NaN</td>\n",
       "      <td>80300014</td>\n",
       "      <td>10.640000</td>\n",
       "      <td>38.000000</td>\n",
       "      <td>1</td>\n",
       "      <td>1.04</td>\n",
       "      <td>1768.518519</td>\n",
       "      <td>1768.519000</td>\n",
       "      <td>0</td>\n",
       "      <td>11</td>\n",
       "      <td>2</td>\n",
       "    </tr>\n",
       "    <tr>\n",
       "      <th>2</th>\n",
       "      <td>1-08-01-0-07-026</td>\n",
       "      <td>2</td>\n",
       "      <td>Almoço</td>\n",
       "      <td>Feijoada de Marisco</td>\n",
       "      <td>RCP_52</td>\n",
       "      <td>80300014</td>\n",
       "      <td>5.712430</td>\n",
       "      <td>20.401537</td>\n",
       "      <td>1</td>\n",
       "      <td>1.08</td>\n",
       "      <td>7124.326538</td>\n",
       "      <td>7124.327000</td>\n",
       "      <td>0</td>\n",
       "      <td>70</td>\n",
       "      <td>4</td>\n",
       "    </tr>\n",
       "    <tr>\n",
       "      <th>3</th>\n",
       "      <td>1-10-01-0-16-118</td>\n",
       "      <td>1</td>\n",
       "      <td>Jantar</td>\n",
       "      <td>Mexilhões com Casca e sem Molho</td>\n",
       "      <td>RCP_635</td>\n",
       "      <td>80300014</td>\n",
       "      <td>24.441170</td>\n",
       "      <td>87.289892</td>\n",
       "      <td>1</td>\n",
       "      <td>1.10</td>\n",
       "      <td>5217.919782</td>\n",
       "      <td>5217.920000</td>\n",
       "      <td>1</td>\n",
       "      <td>35</td>\n",
       "      <td>3</td>\n",
       "    </tr>\n",
       "    <tr>\n",
       "      <th>4</th>\n",
       "      <td>1-10-01-0-16-118</td>\n",
       "      <td>2</td>\n",
       "      <td>Jantar</td>\n",
       "      <td>Mexilhões com Casca e com Molho 2</td>\n",
       "      <td>RCP_638</td>\n",
       "      <td>80300014</td>\n",
       "      <td>67.215723</td>\n",
       "      <td>240.056155</td>\n",
       "      <td>1</td>\n",
       "      <td>1.10</td>\n",
       "      <td>5217.919782</td>\n",
       "      <td>5217.920000</td>\n",
       "      <td>1</td>\n",
       "      <td>35</td>\n",
       "      <td>3</td>\n",
       "    </tr>\n",
       "  </tbody>\n",
       "</table>\n",
       "</div>"
      ],
      "text/plain": [
       "             IAN_ID  Entrevista Refeição                              Prato  \\\n",
       "0  1-01-01-0-13-059           1   Jantar   Mexilhão com Casca e sem Molho 2   \n",
       "1  1-04-01-0-04-119           2   Jantar                rojões com mexilhão   \n",
       "2  1-08-01-0-07-026           2   Almoço                Feijoada de Marisco   \n",
       "3  1-10-01-0-16-118           1   Jantar    Mexilhões com Casca e sem Molho   \n",
       "4  1-10-01-0-16-118           2   Jantar  Mexilhões com Casca e com Molho 2   \n",
       "\n",
       "   Receita    ING_ID  Cru.Edível   Cru.Bruto  NUT   PSU  Ponderador1  \\\n",
       "0  RCP_637  80300014   20.054293   71.622475    1  1.01  4640.957447   \n",
       "1      NaN  80300014   10.640000   38.000000    1  1.04  1768.518519   \n",
       "2   RCP_52  80300014    5.712430   20.401537    1  1.08  7124.326538   \n",
       "3  RCP_635  80300014   24.441170   87.289892    1  1.10  5217.919782   \n",
       "4  RCP_638  80300014   67.215723  240.056155    1  1.10  5217.919782   \n",
       "\n",
       "   Ponderador2  Sexo  Idade  GrupoEtario  \n",
       "0  4640.957447     1      5            1  \n",
       "1  1768.519000     0     11            2  \n",
       "2  7124.327000     0     70            4  \n",
       "3  5217.920000     1     35            3  \n",
       "4  5217.920000     1     35            3  "
      ]
     },
     "execution_count": 144,
     "metadata": {},
     "output_type": "execute_result"
    }
   ],
   "source": [
    "mexilhao_consumption.head()"
   ]
  },
  {
   "cell_type": "code",
   "execution_count": 145,
   "id": "712cfec3",
   "metadata": {},
   "outputs": [
    {
     "data": {
      "text/html": [
       "<div>\n",
       "<style scoped>\n",
       "    .dataframe tbody tr th:only-of-type {\n",
       "        vertical-align: middle;\n",
       "    }\n",
       "\n",
       "    .dataframe tbody tr th {\n",
       "        vertical-align: top;\n",
       "    }\n",
       "\n",
       "    .dataframe thead th {\n",
       "        text-align: right;\n",
       "    }\n",
       "</style>\n",
       "<table border=\"1\" class=\"dataframe\">\n",
       "  <thead>\n",
       "    <tr style=\"text-align: right;\">\n",
       "      <th></th>\n",
       "      <th>IAN_ID</th>\n",
       "      <th>Entrevista</th>\n",
       "      <th>Refeição</th>\n",
       "      <th>Prato</th>\n",
       "      <th>Receita</th>\n",
       "      <th>ING_ID</th>\n",
       "      <th>Cru.Edível</th>\n",
       "      <th>Cru.Bruto</th>\n",
       "      <th>NUT</th>\n",
       "      <th>PSU</th>\n",
       "      <th>Ponderador1</th>\n",
       "      <th>Ponderador2</th>\n",
       "      <th>Sexo</th>\n",
       "      <th>Idade</th>\n",
       "      <th>GrupoEtario</th>\n",
       "    </tr>\n",
       "  </thead>\n",
       "  <tbody>\n",
       "    <tr>\n",
       "      <th>0</th>\n",
       "      <td>1-02-01-1-15-020</td>\n",
       "      <td>2</td>\n",
       "      <td>Almoço</td>\n",
       "      <td>Arroz de Marisco</td>\n",
       "      <td>RCP_915</td>\n",
       "      <td>80300023</td>\n",
       "      <td>3.864105</td>\n",
       "      <td>18.400499</td>\n",
       "      <td>1</td>\n",
       "      <td>1.02</td>\n",
       "      <td>5694.805467</td>\n",
       "      <td>6749.502000</td>\n",
       "      <td>1</td>\n",
       "      <td>28</td>\n",
       "      <td>3</td>\n",
       "    </tr>\n",
       "    <tr>\n",
       "      <th>1</th>\n",
       "      <td>1-04-01-0-13-032</td>\n",
       "      <td>2</td>\n",
       "      <td>Almoço</td>\n",
       "      <td>Arroz de Marisco</td>\n",
       "      <td>RCP_915</td>\n",
       "      <td>80300023</td>\n",
       "      <td>0.762457</td>\n",
       "      <td>3.630750</td>\n",
       "      <td>1</td>\n",
       "      <td>1.04</td>\n",
       "      <td>816.666667</td>\n",
       "      <td>816.666700</td>\n",
       "      <td>1</td>\n",
       "      <td>5</td>\n",
       "      <td>1</td>\n",
       "    </tr>\n",
       "    <tr>\n",
       "      <th>2</th>\n",
       "      <td>1-09-01-0-07-037</td>\n",
       "      <td>2</td>\n",
       "      <td>Almoço</td>\n",
       "      <td>Arroz à Valenciana</td>\n",
       "      <td>RCP_1370</td>\n",
       "      <td>80300023</td>\n",
       "      <td>14.828615</td>\n",
       "      <td>70.612455</td>\n",
       "      <td>1</td>\n",
       "      <td>1.09</td>\n",
       "      <td>3659.397281</td>\n",
       "      <td>3659.397000</td>\n",
       "      <td>0</td>\n",
       "      <td>65</td>\n",
       "      <td>4</td>\n",
       "    </tr>\n",
       "    <tr>\n",
       "      <th>3</th>\n",
       "      <td>1-09-01-0-15-133</td>\n",
       "      <td>2</td>\n",
       "      <td>Jantar</td>\n",
       "      <td>Arroz à Valenciana</td>\n",
       "      <td>RCP_1370</td>\n",
       "      <td>80300023</td>\n",
       "      <td>25.848385</td>\n",
       "      <td>123.087545</td>\n",
       "      <td>1</td>\n",
       "      <td>1.09</td>\n",
       "      <td>3969.438163</td>\n",
       "      <td>3969.438000</td>\n",
       "      <td>1</td>\n",
       "      <td>34</td>\n",
       "      <td>3</td>\n",
       "    </tr>\n",
       "    <tr>\n",
       "      <th>4</th>\n",
       "      <td>1-12-01-0-06-001</td>\n",
       "      <td>2</td>\n",
       "      <td>Almoço</td>\n",
       "      <td>Arroz à Valenciana</td>\n",
       "      <td>RCP_1370</td>\n",
       "      <td>80300023</td>\n",
       "      <td>9.651543</td>\n",
       "      <td>45.959727</td>\n",
       "      <td>1</td>\n",
       "      <td>1.12</td>\n",
       "      <td>4669.530977</td>\n",
       "      <td>4775.048365</td>\n",
       "      <td>0</td>\n",
       "      <td>47</td>\n",
       "      <td>3</td>\n",
       "    </tr>\n",
       "  </tbody>\n",
       "</table>\n",
       "</div>"
      ],
      "text/plain": [
       "             IAN_ID  Entrevista Refeição               Prato   Receita  \\\n",
       "0  1-02-01-1-15-020           2   Almoço    Arroz de Marisco   RCP_915   \n",
       "1  1-04-01-0-13-032           2   Almoço    Arroz de Marisco   RCP_915   \n",
       "2  1-09-01-0-07-037           2   Almoço  Arroz à Valenciana  RCP_1370   \n",
       "3  1-09-01-0-15-133           2   Jantar  Arroz à Valenciana  RCP_1370   \n",
       "4  1-12-01-0-06-001           2   Almoço  Arroz à Valenciana  RCP_1370   \n",
       "\n",
       "     ING_ID  Cru.Edível   Cru.Bruto  NUT   PSU  Ponderador1  Ponderador2  \\\n",
       "0  80300023    3.864105   18.400499    1  1.02  5694.805467  6749.502000   \n",
       "1  80300023    0.762457    3.630750    1  1.04   816.666667   816.666700   \n",
       "2  80300023   14.828615   70.612455    1  1.09  3659.397281  3659.397000   \n",
       "3  80300023   25.848385  123.087545    1  1.09  3969.438163  3969.438000   \n",
       "4  80300023    9.651543   45.959727    1  1.12  4669.530977  4775.048365   \n",
       "\n",
       "   Sexo  Idade  GrupoEtario  \n",
       "0     1     28            3  \n",
       "1     1      5            1  \n",
       "2     0     65            4  \n",
       "3     1     34            3  \n",
       "4     0     47            3  "
      ]
     },
     "execution_count": 145,
     "metadata": {},
     "output_type": "execute_result"
    }
   ],
   "source": [
    "berbigão_consumption.head()"
   ]
  },
  {
   "cell_type": "code",
   "execution_count": 146,
   "id": "7837e830",
   "metadata": {},
   "outputs": [
    {
     "data": {
      "text/html": [
       "<div>\n",
       "<style scoped>\n",
       "    .dataframe tbody tr th:only-of-type {\n",
       "        vertical-align: middle;\n",
       "    }\n",
       "\n",
       "    .dataframe tbody tr th {\n",
       "        vertical-align: top;\n",
       "    }\n",
       "\n",
       "    .dataframe thead th {\n",
       "        text-align: right;\n",
       "    }\n",
       "</style>\n",
       "<table border=\"1\" class=\"dataframe\">\n",
       "  <thead>\n",
       "    <tr style=\"text-align: right;\">\n",
       "      <th></th>\n",
       "      <th>IAN_ID</th>\n",
       "      <th>Entrevista</th>\n",
       "      <th>Refeição</th>\n",
       "      <th>Prato</th>\n",
       "      <th>Receita</th>\n",
       "      <th>ING_ID</th>\n",
       "      <th>Cru.Edível</th>\n",
       "      <th>Cru.Bruto</th>\n",
       "      <th>NUT</th>\n",
       "      <th>PSU</th>\n",
       "      <th>Ponderador1</th>\n",
       "      <th>Ponderador2</th>\n",
       "      <th>Sexo</th>\n",
       "      <th>Idade</th>\n",
       "      <th>GrupoEtario</th>\n",
       "    </tr>\n",
       "  </thead>\n",
       "  <tbody>\n",
       "    <tr>\n",
       "      <th>0</th>\n",
       "      <td>2-21-01-0-14-066</td>\n",
       "      <td>1</td>\n",
       "      <td>Jantar</td>\n",
       "      <td>Cataplana de marisco</td>\n",
       "      <td>RCP_1346</td>\n",
       "      <td>80300022</td>\n",
       "      <td>10.9944</td>\n",
       "      <td>22.905000</td>\n",
       "      <td>2</td>\n",
       "      <td>2.21</td>\n",
       "      <td>1368.957214</td>\n",
       "      <td>1467.9210</td>\n",
       "      <td>1</td>\n",
       "      <td>14</td>\n",
       "      <td>2</td>\n",
       "    </tr>\n",
       "    <tr>\n",
       "      <th>1</th>\n",
       "      <td>3-19-01-0-15-037</td>\n",
       "      <td>2</td>\n",
       "      <td>Almoço</td>\n",
       "      <td>Cataplana de marisco</td>\n",
       "      <td>RCP_1346</td>\n",
       "      <td>80300022</td>\n",
       "      <td>26.8752</td>\n",
       "      <td>55.990000</td>\n",
       "      <td>3</td>\n",
       "      <td>3.19</td>\n",
       "      <td>3595.655114</td>\n",
       "      <td>3595.6550</td>\n",
       "      <td>1</td>\n",
       "      <td>31</td>\n",
       "      <td>3</td>\n",
       "    </tr>\n",
       "    <tr>\n",
       "      <th>2</th>\n",
       "      <td>5-11-01-0-06-109</td>\n",
       "      <td>2</td>\n",
       "      <td>Jantar</td>\n",
       "      <td>Cataplana de marisco</td>\n",
       "      <td>RCP_1346</td>\n",
       "      <td>80300022</td>\n",
       "      <td>8.6530</td>\n",
       "      <td>18.027083</td>\n",
       "      <td>5</td>\n",
       "      <td>5.11</td>\n",
       "      <td>283.166824</td>\n",
       "      <td>288.0332</td>\n",
       "      <td>0</td>\n",
       "      <td>39</td>\n",
       "      <td>3</td>\n",
       "    </tr>\n",
       "  </tbody>\n",
       "</table>\n",
       "</div>"
      ],
      "text/plain": [
       "             IAN_ID  Entrevista Refeição                 Prato   Receita  \\\n",
       "0  2-21-01-0-14-066           1   Jantar  Cataplana de marisco  RCP_1346   \n",
       "1  3-19-01-0-15-037           2   Almoço  Cataplana de marisco  RCP_1346   \n",
       "2  5-11-01-0-06-109           2   Jantar  Cataplana de marisco  RCP_1346   \n",
       "\n",
       "     ING_ID  Cru.Edível  Cru.Bruto  NUT   PSU  Ponderador1  Ponderador2  Sexo  \\\n",
       "0  80300022     10.9944  22.905000    2  2.21  1368.957214    1467.9210     1   \n",
       "1  80300022     26.8752  55.990000    3  3.19  3595.655114    3595.6550     1   \n",
       "2  80300022      8.6530  18.027083    5  5.11   283.166824     288.0332     0   \n",
       "\n",
       "   Idade  GrupoEtario  \n",
       "0     14            2  \n",
       "1     31            3  \n",
       "2     39            3  "
      ]
     },
     "execution_count": 146,
     "metadata": {},
     "output_type": "execute_result"
    }
   ],
   "source": [
    "vieiras_consumption.head()"
   ]
  },
  {
   "cell_type": "code",
   "execution_count": 147,
   "id": "67f1f969",
   "metadata": {},
   "outputs": [
    {
     "data": {
      "text/html": [
       "<div>\n",
       "<style scoped>\n",
       "    .dataframe tbody tr th:only-of-type {\n",
       "        vertical-align: middle;\n",
       "    }\n",
       "\n",
       "    .dataframe tbody tr th {\n",
       "        vertical-align: top;\n",
       "    }\n",
       "\n",
       "    .dataframe thead th {\n",
       "        text-align: right;\n",
       "    }\n",
       "</style>\n",
       "<table border=\"1\" class=\"dataframe\">\n",
       "  <thead>\n",
       "    <tr style=\"text-align: right;\">\n",
       "      <th></th>\n",
       "      <th>IAN_ID</th>\n",
       "      <th>Entrevista</th>\n",
       "      <th>Refeição</th>\n",
       "      <th>Prato</th>\n",
       "      <th>Receita</th>\n",
       "      <th>ING_ID</th>\n",
       "      <th>Cru.Edível</th>\n",
       "      <th>Cru.Bruto</th>\n",
       "      <th>NUT</th>\n",
       "      <th>PSU</th>\n",
       "      <th>Ponderador1</th>\n",
       "      <th>Ponderador2</th>\n",
       "      <th>Sexo</th>\n",
       "      <th>Idade</th>\n",
       "      <th>GrupoEtario</th>\n",
       "    </tr>\n",
       "  </thead>\n",
       "  <tbody>\n",
       "    <tr>\n",
       "      <th>0</th>\n",
       "      <td>5-05-01-0-06-119</td>\n",
       "      <td>1</td>\n",
       "      <td>Almoço</td>\n",
       "      <td>ostras</td>\n",
       "      <td>NaN</td>\n",
       "      <td>80300018</td>\n",
       "      <td>13.5</td>\n",
       "      <td>150.0</td>\n",
       "      <td>5</td>\n",
       "      <td>5.05</td>\n",
       "      <td>555.093769</td>\n",
       "      <td>624.8854</td>\n",
       "      <td>0</td>\n",
       "      <td>36</td>\n",
       "      <td>3</td>\n",
       "    </tr>\n",
       "    <tr>\n",
       "      <th>1</th>\n",
       "      <td>5-12-05-0-06-003</td>\n",
       "      <td>1</td>\n",
       "      <td>Durante a tarde (Lanche)</td>\n",
       "      <td>Ostras, 3 unidades</td>\n",
       "      <td>NaN</td>\n",
       "      <td>80300018</td>\n",
       "      <td>8.1</td>\n",
       "      <td>90.0</td>\n",
       "      <td>5</td>\n",
       "      <td>5.12</td>\n",
       "      <td>701.139572</td>\n",
       "      <td>788.4049</td>\n",
       "      <td>0</td>\n",
       "      <td>38</td>\n",
       "      <td>3</td>\n",
       "    </tr>\n",
       "  </tbody>\n",
       "</table>\n",
       "</div>"
      ],
      "text/plain": [
       "             IAN_ID  Entrevista                  Refeição               Prato  \\\n",
       "0  5-05-01-0-06-119           1                    Almoço              ostras   \n",
       "1  5-12-05-0-06-003           1  Durante a tarde (Lanche)  Ostras, 3 unidades   \n",
       "\n",
       "  Receita    ING_ID  Cru.Edível  Cru.Bruto  NUT   PSU  Ponderador1  \\\n",
       "0     NaN  80300018        13.5      150.0    5  5.05   555.093769   \n",
       "1     NaN  80300018         8.1       90.0    5  5.12   701.139572   \n",
       "\n",
       "   Ponderador2  Sexo  Idade  GrupoEtario  \n",
       "0     624.8854     0     36            3  \n",
       "1     788.4049     0     38            3  "
      ]
     },
     "execution_count": 147,
     "metadata": {},
     "output_type": "execute_result"
    }
   ],
   "source": [
    "ostra_consumption.head()"
   ]
  },
  {
   "cell_type": "code",
   "execution_count": 148,
   "id": "12a49fb0",
   "metadata": {},
   "outputs": [
    {
     "data": {
      "text/html": [
       "<div>\n",
       "<style scoped>\n",
       "    .dataframe tbody tr th:only-of-type {\n",
       "        vertical-align: middle;\n",
       "    }\n",
       "\n",
       "    .dataframe tbody tr th {\n",
       "        vertical-align: top;\n",
       "    }\n",
       "\n",
       "    .dataframe thead th {\n",
       "        text-align: right;\n",
       "    }\n",
       "</style>\n",
       "<table border=\"1\" class=\"dataframe\">\n",
       "  <thead>\n",
       "    <tr style=\"text-align: right;\">\n",
       "      <th></th>\n",
       "      <th>IAN_ID</th>\n",
       "      <th>Entrevista</th>\n",
       "      <th>Refeição</th>\n",
       "      <th>Prato</th>\n",
       "      <th>Receita</th>\n",
       "      <th>ING_ID</th>\n",
       "      <th>Cru.Edível</th>\n",
       "      <th>Cru.Bruto</th>\n",
       "      <th>NUT</th>\n",
       "      <th>PSU</th>\n",
       "      <th>Ponderador1</th>\n",
       "      <th>Ponderador2</th>\n",
       "      <th>Sexo</th>\n",
       "      <th>Idade</th>\n",
       "      <th>GrupoEtario</th>\n",
       "    </tr>\n",
       "  </thead>\n",
       "  <tbody>\n",
       "    <tr>\n",
       "      <th>0</th>\n",
       "      <td>5-02-05-0-08-025</td>\n",
       "      <td>2</td>\n",
       "      <td>Durante a tarde (Lanche)</td>\n",
       "      <td>Conquilhas</td>\n",
       "      <td>NaN</td>\n",
       "      <td>80300026</td>\n",
       "      <td>23.0000</td>\n",
       "      <td>47.916667</td>\n",
       "      <td>5</td>\n",
       "      <td>5.02</td>\n",
       "      <td>2365.785256</td>\n",
       "      <td>2618.3830</td>\n",
       "      <td>0</td>\n",
       "      <td>80</td>\n",
       "      <td>4</td>\n",
       "    </tr>\n",
       "    <tr>\n",
       "      <th>1</th>\n",
       "      <td>5-08-01-0-13-127</td>\n",
       "      <td>2</td>\n",
       "      <td>Durante a tarde (Lanche)</td>\n",
       "      <td>Conquilhas</td>\n",
       "      <td>NaN</td>\n",
       "      <td>80300026</td>\n",
       "      <td>33.8688</td>\n",
       "      <td>70.560000</td>\n",
       "      <td>5</td>\n",
       "      <td>5.08</td>\n",
       "      <td>361.597369</td>\n",
       "      <td>361.5974</td>\n",
       "      <td>1</td>\n",
       "      <td>3</td>\n",
       "      <td>1</td>\n",
       "    </tr>\n",
       "    <tr>\n",
       "      <th>2</th>\n",
       "      <td>5-11-01-2-06-006</td>\n",
       "      <td>2</td>\n",
       "      <td>Jantar</td>\n",
       "      <td>Conquilhas</td>\n",
       "      <td>NaN</td>\n",
       "      <td>80300026</td>\n",
       "      <td>134.0000</td>\n",
       "      <td>279.166667</td>\n",
       "      <td>5</td>\n",
       "      <td>5.11</td>\n",
       "      <td>283.166824</td>\n",
       "      <td>288.0332</td>\n",
       "      <td>0</td>\n",
       "      <td>40</td>\n",
       "      <td>3</td>\n",
       "    </tr>\n",
       "    <tr>\n",
       "      <th>3</th>\n",
       "      <td>5-12-09-1-16-221</td>\n",
       "      <td>1</td>\n",
       "      <td>Jantar</td>\n",
       "      <td>Conquilhas</td>\n",
       "      <td>NaN</td>\n",
       "      <td>80300026</td>\n",
       "      <td>95.0000</td>\n",
       "      <td>197.916667</td>\n",
       "      <td>5</td>\n",
       "      <td>5.12</td>\n",
       "      <td>309.609723</td>\n",
       "      <td>315.6130</td>\n",
       "      <td>1</td>\n",
       "      <td>49</td>\n",
       "      <td>3</td>\n",
       "    </tr>\n",
       "  </tbody>\n",
       "</table>\n",
       "</div>"
      ],
      "text/plain": [
       "             IAN_ID  Entrevista                  Refeição       Prato Receita  \\\n",
       "0  5-02-05-0-08-025           2  Durante a tarde (Lanche)  Conquilhas     NaN   \n",
       "1  5-08-01-0-13-127           2  Durante a tarde (Lanche)  Conquilhas     NaN   \n",
       "2  5-11-01-2-06-006           2                    Jantar  Conquilhas     NaN   \n",
       "3  5-12-09-1-16-221           1                    Jantar  Conquilhas     NaN   \n",
       "\n",
       "     ING_ID  Cru.Edível   Cru.Bruto  NUT   PSU  Ponderador1  Ponderador2  \\\n",
       "0  80300026     23.0000   47.916667    5  5.02  2365.785256    2618.3830   \n",
       "1  80300026     33.8688   70.560000    5  5.08   361.597369     361.5974   \n",
       "2  80300026    134.0000  279.166667    5  5.11   283.166824     288.0332   \n",
       "3  80300026     95.0000  197.916667    5  5.12   309.609723     315.6130   \n",
       "\n",
       "   Sexo  Idade  GrupoEtario  \n",
       "0     0     80            4  \n",
       "1     1      3            1  \n",
       "2     0     40            3  \n",
       "3     1     49            3  "
      ]
     },
     "execution_count": 148,
     "metadata": {},
     "output_type": "execute_result"
    }
   ],
   "source": [
    "conquilhas_consumption.head()"
   ]
  },
  {
   "cell_type": "code",
   "execution_count": 149,
   "id": "23019a02",
   "metadata": {},
   "outputs": [],
   "source": [
    "bivalves_consumo = pd.concat(\n",
    "    [ameijoa_consumption,mexilhao_consumption,berbigão_consumption,vieiras_consumption,ostra_consumption, conquilhas_consumption],\n",
    "keys=[\"Ameijoa\",\"Mexilhao\",\"Berbigao\",\"Vieiras\",\"Ostra\",\"Conquilhas\"],names=[\"Espécie\"])"
   ]
  },
  {
   "cell_type": "code",
   "execution_count": 150,
   "id": "fe15647e",
   "metadata": {},
   "outputs": [
    {
     "data": {
      "text/html": [
       "<div>\n",
       "<style scoped>\n",
       "    .dataframe tbody tr th:only-of-type {\n",
       "        vertical-align: middle;\n",
       "    }\n",
       "\n",
       "    .dataframe tbody tr th {\n",
       "        vertical-align: top;\n",
       "    }\n",
       "\n",
       "    .dataframe thead th {\n",
       "        text-align: right;\n",
       "    }\n",
       "</style>\n",
       "<table border=\"1\" class=\"dataframe\">\n",
       "  <thead>\n",
       "    <tr style=\"text-align: right;\">\n",
       "      <th></th>\n",
       "      <th>Espécie</th>\n",
       "      <th>IAN_ID</th>\n",
       "      <th>Entrevista</th>\n",
       "      <th>Refeição</th>\n",
       "      <th>Prato</th>\n",
       "      <th>Receita</th>\n",
       "      <th>ING_ID</th>\n",
       "      <th>Cru.Edível</th>\n",
       "      <th>Cru.Bruto</th>\n",
       "      <th>NUT</th>\n",
       "      <th>PSU</th>\n",
       "      <th>Ponderador1</th>\n",
       "      <th>Ponderador2</th>\n",
       "      <th>Sexo</th>\n",
       "      <th>Idade</th>\n",
       "      <th>GrupoEtario</th>\n",
       "    </tr>\n",
       "  </thead>\n",
       "  <tbody>\n",
       "    <tr>\n",
       "      <th>0</th>\n",
       "      <td>Ameijoa</td>\n",
       "      <td>1-02-01-1-15-020</td>\n",
       "      <td>2</td>\n",
       "      <td>Almoço</td>\n",
       "      <td>Arroz de Marisco</td>\n",
       "      <td>RCP_915</td>\n",
       "      <td>80300005</td>\n",
       "      <td>10.304279</td>\n",
       "      <td>36.800998</td>\n",
       "      <td>1</td>\n",
       "      <td>1.02</td>\n",
       "      <td>5694.805467</td>\n",
       "      <td>6749.5020</td>\n",
       "      <td>1</td>\n",
       "      <td>28</td>\n",
       "      <td>3</td>\n",
       "    </tr>\n",
       "    <tr>\n",
       "      <th>1</th>\n",
       "      <td>Ameijoa</td>\n",
       "      <td>1-04-01-0-13-032</td>\n",
       "      <td>2</td>\n",
       "      <td>Almoço</td>\n",
       "      <td>Arroz de Marisco</td>\n",
       "      <td>RCP_915</td>\n",
       "      <td>80300005</td>\n",
       "      <td>2.033220</td>\n",
       "      <td>7.261500</td>\n",
       "      <td>1</td>\n",
       "      <td>1.04</td>\n",
       "      <td>816.666667</td>\n",
       "      <td>816.6667</td>\n",
       "      <td>1</td>\n",
       "      <td>5</td>\n",
       "      <td>1</td>\n",
       "    </tr>\n",
       "    <tr>\n",
       "      <th>2</th>\n",
       "      <td>Ameijoa</td>\n",
       "      <td>1-04-01-0-16-136</td>\n",
       "      <td>1</td>\n",
       "      <td>Almoço</td>\n",
       "      <td>Amêijoas à Bulhão Pato</td>\n",
       "      <td>RCP_1379</td>\n",
       "      <td>80300005</td>\n",
       "      <td>35.653527</td>\n",
       "      <td>127.334025</td>\n",
       "      <td>1</td>\n",
       "      <td>1.04</td>\n",
       "      <td>5302.083333</td>\n",
       "      <td>5302.0830</td>\n",
       "      <td>1</td>\n",
       "      <td>57</td>\n",
       "      <td>3</td>\n",
       "    </tr>\n",
       "    <tr>\n",
       "      <th>3</th>\n",
       "      <td>Ameijoa</td>\n",
       "      <td>1-08-01-0-07-026</td>\n",
       "      <td>2</td>\n",
       "      <td>Almoço</td>\n",
       "      <td>Feijoada de Marisco</td>\n",
       "      <td>RCP_52</td>\n",
       "      <td>80300005</td>\n",
       "      <td>5.148542</td>\n",
       "      <td>18.387651</td>\n",
       "      <td>1</td>\n",
       "      <td>1.08</td>\n",
       "      <td>7124.326538</td>\n",
       "      <td>7124.3270</td>\n",
       "      <td>0</td>\n",
       "      <td>70</td>\n",
       "      <td>4</td>\n",
       "    </tr>\n",
       "    <tr>\n",
       "      <th>4</th>\n",
       "      <td>Ameijoa</td>\n",
       "      <td>1-08-01-0-16-135</td>\n",
       "      <td>1</td>\n",
       "      <td>Almoço</td>\n",
       "      <td>Carne de Porco à Alentejana</td>\n",
       "      <td>RCP_609</td>\n",
       "      <td>80300005</td>\n",
       "      <td>28.921198</td>\n",
       "      <td>103.289994</td>\n",
       "      <td>1</td>\n",
       "      <td>1.08</td>\n",
       "      <td>8443.085944</td>\n",
       "      <td>8443.0860</td>\n",
       "      <td>1</td>\n",
       "      <td>37</td>\n",
       "      <td>3</td>\n",
       "    </tr>\n",
       "    <tr>\n",
       "      <th>...</th>\n",
       "      <td>...</td>\n",
       "      <td>...</td>\n",
       "      <td>...</td>\n",
       "      <td>...</td>\n",
       "      <td>...</td>\n",
       "      <td>...</td>\n",
       "      <td>...</td>\n",
       "      <td>...</td>\n",
       "      <td>...</td>\n",
       "      <td>...</td>\n",
       "      <td>...</td>\n",
       "      <td>...</td>\n",
       "      <td>...</td>\n",
       "      <td>...</td>\n",
       "      <td>...</td>\n",
       "      <td>...</td>\n",
       "    </tr>\n",
       "    <tr>\n",
       "      <th>294</th>\n",
       "      <td>Ostra</td>\n",
       "      <td>5-12-05-0-06-003</td>\n",
       "      <td>1</td>\n",
       "      <td>Durante a tarde (Lanche)</td>\n",
       "      <td>Ostras, 3 unidades</td>\n",
       "      <td>NaN</td>\n",
       "      <td>80300018</td>\n",
       "      <td>8.100000</td>\n",
       "      <td>90.000000</td>\n",
       "      <td>5</td>\n",
       "      <td>5.12</td>\n",
       "      <td>701.139572</td>\n",
       "      <td>788.4049</td>\n",
       "      <td>0</td>\n",
       "      <td>38</td>\n",
       "      <td>3</td>\n",
       "    </tr>\n",
       "    <tr>\n",
       "      <th>295</th>\n",
       "      <td>Conquilhas</td>\n",
       "      <td>5-02-05-0-08-025</td>\n",
       "      <td>2</td>\n",
       "      <td>Durante a tarde (Lanche)</td>\n",
       "      <td>Conquilhas</td>\n",
       "      <td>NaN</td>\n",
       "      <td>80300026</td>\n",
       "      <td>23.000000</td>\n",
       "      <td>47.916667</td>\n",
       "      <td>5</td>\n",
       "      <td>5.02</td>\n",
       "      <td>2365.785256</td>\n",
       "      <td>2618.3830</td>\n",
       "      <td>0</td>\n",
       "      <td>80</td>\n",
       "      <td>4</td>\n",
       "    </tr>\n",
       "    <tr>\n",
       "      <th>296</th>\n",
       "      <td>Conquilhas</td>\n",
       "      <td>5-08-01-0-13-127</td>\n",
       "      <td>2</td>\n",
       "      <td>Durante a tarde (Lanche)</td>\n",
       "      <td>Conquilhas</td>\n",
       "      <td>NaN</td>\n",
       "      <td>80300026</td>\n",
       "      <td>33.868800</td>\n",
       "      <td>70.560000</td>\n",
       "      <td>5</td>\n",
       "      <td>5.08</td>\n",
       "      <td>361.597369</td>\n",
       "      <td>361.5974</td>\n",
       "      <td>1</td>\n",
       "      <td>3</td>\n",
       "      <td>1</td>\n",
       "    </tr>\n",
       "    <tr>\n",
       "      <th>297</th>\n",
       "      <td>Conquilhas</td>\n",
       "      <td>5-11-01-2-06-006</td>\n",
       "      <td>2</td>\n",
       "      <td>Jantar</td>\n",
       "      <td>Conquilhas</td>\n",
       "      <td>NaN</td>\n",
       "      <td>80300026</td>\n",
       "      <td>134.000000</td>\n",
       "      <td>279.166667</td>\n",
       "      <td>5</td>\n",
       "      <td>5.11</td>\n",
       "      <td>283.166824</td>\n",
       "      <td>288.0332</td>\n",
       "      <td>0</td>\n",
       "      <td>40</td>\n",
       "      <td>3</td>\n",
       "    </tr>\n",
       "    <tr>\n",
       "      <th>298</th>\n",
       "      <td>Conquilhas</td>\n",
       "      <td>5-12-09-1-16-221</td>\n",
       "      <td>1</td>\n",
       "      <td>Jantar</td>\n",
       "      <td>Conquilhas</td>\n",
       "      <td>NaN</td>\n",
       "      <td>80300026</td>\n",
       "      <td>95.000000</td>\n",
       "      <td>197.916667</td>\n",
       "      <td>5</td>\n",
       "      <td>5.12</td>\n",
       "      <td>309.609723</td>\n",
       "      <td>315.6130</td>\n",
       "      <td>1</td>\n",
       "      <td>49</td>\n",
       "      <td>3</td>\n",
       "    </tr>\n",
       "  </tbody>\n",
       "</table>\n",
       "<p>299 rows × 16 columns</p>\n",
       "</div>"
      ],
      "text/plain": [
       "        Espécie            IAN_ID  Entrevista                  Refeição  \\\n",
       "0       Ameijoa  1-02-01-1-15-020           2                    Almoço   \n",
       "1       Ameijoa  1-04-01-0-13-032           2                    Almoço   \n",
       "2       Ameijoa  1-04-01-0-16-136           1                    Almoço   \n",
       "3       Ameijoa  1-08-01-0-07-026           2                    Almoço   \n",
       "4       Ameijoa  1-08-01-0-16-135           1                    Almoço   \n",
       "..          ...               ...         ...                       ...   \n",
       "294       Ostra  5-12-05-0-06-003           1  Durante a tarde (Lanche)   \n",
       "295  Conquilhas  5-02-05-0-08-025           2  Durante a tarde (Lanche)   \n",
       "296  Conquilhas  5-08-01-0-13-127           2  Durante a tarde (Lanche)   \n",
       "297  Conquilhas  5-11-01-2-06-006           2                    Jantar   \n",
       "298  Conquilhas  5-12-09-1-16-221           1                    Jantar   \n",
       "\n",
       "                           Prato   Receita    ING_ID  Cru.Edível   Cru.Bruto  \\\n",
       "0               Arroz de Marisco   RCP_915  80300005   10.304279   36.800998   \n",
       "1               Arroz de Marisco   RCP_915  80300005    2.033220    7.261500   \n",
       "2         Amêijoas à Bulhão Pato  RCP_1379  80300005   35.653527  127.334025   \n",
       "3            Feijoada de Marisco    RCP_52  80300005    5.148542   18.387651   \n",
       "4    Carne de Porco à Alentejana   RCP_609  80300005   28.921198  103.289994   \n",
       "..                           ...       ...       ...         ...         ...   \n",
       "294           Ostras, 3 unidades       NaN  80300018    8.100000   90.000000   \n",
       "295                   Conquilhas       NaN  80300026   23.000000   47.916667   \n",
       "296                   Conquilhas       NaN  80300026   33.868800   70.560000   \n",
       "297                   Conquilhas       NaN  80300026  134.000000  279.166667   \n",
       "298                   Conquilhas       NaN  80300026   95.000000  197.916667   \n",
       "\n",
       "     NUT   PSU  Ponderador1  Ponderador2  Sexo  Idade  GrupoEtario  \n",
       "0      1  1.02  5694.805467    6749.5020     1     28            3  \n",
       "1      1  1.04   816.666667     816.6667     1      5            1  \n",
       "2      1  1.04  5302.083333    5302.0830     1     57            3  \n",
       "3      1  1.08  7124.326538    7124.3270     0     70            4  \n",
       "4      1  1.08  8443.085944    8443.0860     1     37            3  \n",
       "..   ...   ...          ...          ...   ...    ...          ...  \n",
       "294    5  5.12   701.139572     788.4049     0     38            3  \n",
       "295    5  5.02  2365.785256    2618.3830     0     80            4  \n",
       "296    5  5.08   361.597369     361.5974     1      3            1  \n",
       "297    5  5.11   283.166824     288.0332     0     40            3  \n",
       "298    5  5.12   309.609723     315.6130     1     49            3  \n",
       "\n",
       "[299 rows x 16 columns]"
      ]
     },
     "execution_count": 150,
     "metadata": {},
     "output_type": "execute_result"
    }
   ],
   "source": [
    "bivalves_consumo.reset_index(inplace=True)\n",
    "bivalves_consumo.drop(columns=[\"level_1\"],inplace=True)\n",
    "bivalves_consumo"
   ]
  },
  {
   "cell_type": "markdown",
   "id": "aded7bff",
   "metadata": {},
   "source": [
    "# Comsumption Calculation of Each Bivalve Specie in R"
   ]
  },
  {
   "cell_type": "code",
   "execution_count": 153,
   "id": "b650abf0",
   "metadata": {},
   "outputs": [],
   "source": [
    "#bivalves_consumo.to_excel(\"Consumo_Bivalves_Análise_R.xlsx\")"
   ]
  },
  {
   "cell_type": "code",
   "execution_count": null,
   "id": "c1252622",
   "metadata": {},
   "outputs": [],
   "source": []
  },
  {
   "cell_type": "code",
   "execution_count": null,
   "id": "82542bc7",
   "metadata": {},
   "outputs": [],
   "source": []
  }
 ],
 "metadata": {
  "kernelspec": {
   "display_name": "Python 3 (ipykernel)",
   "language": "python",
   "name": "python3"
  },
  "language_info": {
   "codemirror_mode": {
    "name": "ipython",
    "version": 3
   },
   "file_extension": ".py",
   "mimetype": "text/x-python",
   "name": "python",
   "nbconvert_exporter": "python",
   "pygments_lexer": "ipython3",
   "version": "3.9.13"
  }
 },
 "nbformat": 4,
 "nbformat_minor": 5
}
